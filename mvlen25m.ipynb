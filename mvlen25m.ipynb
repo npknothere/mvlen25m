{
 "cells": [
  {
   "cell_type": "code",
   "execution_count": 1,
   "metadata": {},
   "outputs": [],
   "source": [
    "import pandas as pd\n",
    "import numpy as np\n",
    "import matplotlib.pyplot as plt\n",
    "from matplotlib.ticker import FormatStrFormatter\n",
    "import seaborn as sb"
   ]
  },
  {
   "cell_type": "code",
   "execution_count": 2,
   "metadata": {},
   "outputs": [],
   "source": [
    "genome_scores = pd.read_csv(\"data/ml-25m/genome-scores.csv\",engine=\"python\")\n",
    "genome_tags = pd.read_csv(\"data/ml-25m/genome-tags.csv\",engine=\"python\")\n",
    "links = pd.read_csv(\"data/ml-25m/links.csv\",engine=\"python\")\n",
    "movies = pd.read_csv(\"data/ml-25m/movies.csv\",engine=\"python\")\n",
    "ratings = pd.read_csv(\"data/ml-25m/ratings.csv\",engine=\"python\")\n",
    "tags = pd.read_csv(\"data/ml-25m/tags.csv\",engine=\"python\")"
   ]
  },
  {
   "cell_type": "code",
   "execution_count": 3,
   "metadata": {},
   "outputs": [
    {
     "data": {
      "application/vnd.microsoft.datawrangler.viewer.v0+json": {
       "columns": [
        {
         "name": "index",
         "rawType": "int64",
         "type": "integer"
        },
        {
         "name": "movieId",
         "rawType": "int64",
         "type": "integer"
        },
        {
         "name": "title",
         "rawType": "object",
         "type": "string"
        },
        {
         "name": "genres",
         "rawType": "object",
         "type": "string"
        }
       ],
       "conversionMethod": "pd.DataFrame",
       "ref": "32dff2e4-9de9-40da-9d6f-ea48f91ac162",
       "rows": [
        [
         "0",
         "1",
         "Toy Story (1995)",
         "Adventure|Animation|Children|Comedy|Fantasy"
        ],
        [
         "1",
         "2",
         "Jumanji (1995)",
         "Adventure|Children|Fantasy"
        ],
        [
         "2",
         "3",
         "Grumpier Old Men (1995)",
         "Comedy|Romance"
        ],
        [
         "3",
         "4",
         "Waiting to Exhale (1995)",
         "Comedy|Drama|Romance"
        ],
        [
         "4",
         "5",
         "Father of the Bride Part II (1995)",
         "Comedy"
        ]
       ],
       "shape": {
        "columns": 3,
        "rows": 5
       }
      },
      "text/html": [
       "<div>\n",
       "<style scoped>\n",
       "    .dataframe tbody tr th:only-of-type {\n",
       "        vertical-align: middle;\n",
       "    }\n",
       "\n",
       "    .dataframe tbody tr th {\n",
       "        vertical-align: top;\n",
       "    }\n",
       "\n",
       "    .dataframe thead th {\n",
       "        text-align: right;\n",
       "    }\n",
       "</style>\n",
       "<table border=\"1\" class=\"dataframe\">\n",
       "  <thead>\n",
       "    <tr style=\"text-align: right;\">\n",
       "      <th></th>\n",
       "      <th>movieId</th>\n",
       "      <th>title</th>\n",
       "      <th>genres</th>\n",
       "    </tr>\n",
       "  </thead>\n",
       "  <tbody>\n",
       "    <tr>\n",
       "      <th>0</th>\n",
       "      <td>1</td>\n",
       "      <td>Toy Story (1995)</td>\n",
       "      <td>Adventure|Animation|Children|Comedy|Fantasy</td>\n",
       "    </tr>\n",
       "    <tr>\n",
       "      <th>1</th>\n",
       "      <td>2</td>\n",
       "      <td>Jumanji (1995)</td>\n",
       "      <td>Adventure|Children|Fantasy</td>\n",
       "    </tr>\n",
       "    <tr>\n",
       "      <th>2</th>\n",
       "      <td>3</td>\n",
       "      <td>Grumpier Old Men (1995)</td>\n",
       "      <td>Comedy|Romance</td>\n",
       "    </tr>\n",
       "    <tr>\n",
       "      <th>3</th>\n",
       "      <td>4</td>\n",
       "      <td>Waiting to Exhale (1995)</td>\n",
       "      <td>Comedy|Drama|Romance</td>\n",
       "    </tr>\n",
       "    <tr>\n",
       "      <th>4</th>\n",
       "      <td>5</td>\n",
       "      <td>Father of the Bride Part II (1995)</td>\n",
       "      <td>Comedy</td>\n",
       "    </tr>\n",
       "  </tbody>\n",
       "</table>\n",
       "</div>"
      ],
      "text/plain": [
       "   movieId                               title  \\\n",
       "0        1                    Toy Story (1995)   \n",
       "1        2                      Jumanji (1995)   \n",
       "2        3             Grumpier Old Men (1995)   \n",
       "3        4            Waiting to Exhale (1995)   \n",
       "4        5  Father of the Bride Part II (1995)   \n",
       "\n",
       "                                        genres  \n",
       "0  Adventure|Animation|Children|Comedy|Fantasy  \n",
       "1                   Adventure|Children|Fantasy  \n",
       "2                               Comedy|Romance  \n",
       "3                         Comedy|Drama|Romance  \n",
       "4                                       Comedy  "
      ]
     },
     "execution_count": 3,
     "metadata": {},
     "output_type": "execute_result"
    }
   ],
   "source": [
    "movies.head()"
   ]
  },
  {
   "cell_type": "code",
   "execution_count": 4,
   "metadata": {},
   "outputs": [
    {
     "name": "stdout",
     "output_type": "stream",
     "text": [
      "<class 'pandas.core.frame.DataFrame'>\n",
      "RangeIndex: 62423 entries, 0 to 62422\n",
      "Data columns (total 3 columns):\n",
      " #   Column   Non-Null Count  Dtype \n",
      "---  ------   --------------  ----- \n",
      " 0   movieId  62423 non-null  int64 \n",
      " 1   title    62423 non-null  object\n",
      " 2   genres   62423 non-null  object\n",
      "dtypes: int64(1), object(2)\n",
      "memory usage: 1.4+ MB\n"
     ]
    }
   ],
   "source": [
    "movies.info()"
   ]
  },
  {
   "cell_type": "code",
   "execution_count": 5,
   "metadata": {},
   "outputs": [
    {
     "data": {
      "text/plain": [
       "62423"
      ]
     },
     "execution_count": 5,
     "metadata": {},
     "output_type": "execute_result"
    }
   ],
   "source": [
    "len(movies['movieId'].unique())"
   ]
  },
  {
   "cell_type": "code",
   "execution_count": 6,
   "metadata": {},
   "outputs": [
    {
     "data": {
      "text/plain": [
       "(25000095, 4)"
      ]
     },
     "execution_count": 6,
     "metadata": {},
     "output_type": "execute_result"
    }
   ],
   "source": [
    "ratings.shape"
   ]
  },
  {
   "cell_type": "code",
   "execution_count": 7,
   "metadata": {},
   "outputs": [
    {
     "data": {
      "application/vnd.microsoft.datawrangler.viewer.v0+json": {
       "columns": [
        {
         "name": "index",
         "rawType": "object",
         "type": "string"
        },
        {
         "name": "userId",
         "rawType": "float64",
         "type": "float"
        },
        {
         "name": "movieId",
         "rawType": "float64",
         "type": "float"
        },
        {
         "name": "rating",
         "rawType": "float64",
         "type": "float"
        },
        {
         "name": "timestamp",
         "rawType": "float64",
         "type": "float"
        }
       ],
       "conversionMethod": "pd.DataFrame",
       "ref": "4c3aa29f-8ebc-4b79-bb2b-f58ec7fc78a0",
       "rows": [
        [
         "count",
         "25000095.0",
         "25000095.0",
         "25000095.0",
         "25000095.0"
        ],
        [
         "mean",
         "81189.28115381162",
         "21387.981943268616",
         "3.533854451353085",
         "1215601443.12155"
        ],
        [
         "std",
         "46791.71589745406",
         "39198.86210105996",
         "1.060743961142352",
         "226875808.05953857"
        ],
        [
         "min",
         "1.0",
         "1.0",
         "0.5",
         "789652009.0"
        ],
        [
         "25%",
         "40510.0",
         "1196.0",
         "3.0",
         "1011747245.0"
        ],
        [
         "50%",
         "80914.0",
         "2947.0",
         "3.5",
         "1198868375.0"
        ],
        [
         "75%",
         "121557.0",
         "8623.0",
         "4.0",
         "1447205341.5"
        ],
        [
         "max",
         "162541.0",
         "209171.0",
         "5.0",
         "1574327703.0"
        ]
       ],
       "shape": {
        "columns": 4,
        "rows": 8
       }
      },
      "text/html": [
       "<div>\n",
       "<style scoped>\n",
       "    .dataframe tbody tr th:only-of-type {\n",
       "        vertical-align: middle;\n",
       "    }\n",
       "\n",
       "    .dataframe tbody tr th {\n",
       "        vertical-align: top;\n",
       "    }\n",
       "\n",
       "    .dataframe thead th {\n",
       "        text-align: right;\n",
       "    }\n",
       "</style>\n",
       "<table border=\"1\" class=\"dataframe\">\n",
       "  <thead>\n",
       "    <tr style=\"text-align: right;\">\n",
       "      <th></th>\n",
       "      <th>userId</th>\n",
       "      <th>movieId</th>\n",
       "      <th>rating</th>\n",
       "      <th>timestamp</th>\n",
       "    </tr>\n",
       "  </thead>\n",
       "  <tbody>\n",
       "    <tr>\n",
       "      <th>count</th>\n",
       "      <td>2.500010e+07</td>\n",
       "      <td>2.500010e+07</td>\n",
       "      <td>2.500010e+07</td>\n",
       "      <td>2.500010e+07</td>\n",
       "    </tr>\n",
       "    <tr>\n",
       "      <th>mean</th>\n",
       "      <td>8.118928e+04</td>\n",
       "      <td>2.138798e+04</td>\n",
       "      <td>3.533854e+00</td>\n",
       "      <td>1.215601e+09</td>\n",
       "    </tr>\n",
       "    <tr>\n",
       "      <th>std</th>\n",
       "      <td>4.679172e+04</td>\n",
       "      <td>3.919886e+04</td>\n",
       "      <td>1.060744e+00</td>\n",
       "      <td>2.268758e+08</td>\n",
       "    </tr>\n",
       "    <tr>\n",
       "      <th>min</th>\n",
       "      <td>1.000000e+00</td>\n",
       "      <td>1.000000e+00</td>\n",
       "      <td>5.000000e-01</td>\n",
       "      <td>7.896520e+08</td>\n",
       "    </tr>\n",
       "    <tr>\n",
       "      <th>25%</th>\n",
       "      <td>4.051000e+04</td>\n",
       "      <td>1.196000e+03</td>\n",
       "      <td>3.000000e+00</td>\n",
       "      <td>1.011747e+09</td>\n",
       "    </tr>\n",
       "    <tr>\n",
       "      <th>50%</th>\n",
       "      <td>8.091400e+04</td>\n",
       "      <td>2.947000e+03</td>\n",
       "      <td>3.500000e+00</td>\n",
       "      <td>1.198868e+09</td>\n",
       "    </tr>\n",
       "    <tr>\n",
       "      <th>75%</th>\n",
       "      <td>1.215570e+05</td>\n",
       "      <td>8.623000e+03</td>\n",
       "      <td>4.000000e+00</td>\n",
       "      <td>1.447205e+09</td>\n",
       "    </tr>\n",
       "    <tr>\n",
       "      <th>max</th>\n",
       "      <td>1.625410e+05</td>\n",
       "      <td>2.091710e+05</td>\n",
       "      <td>5.000000e+00</td>\n",
       "      <td>1.574328e+09</td>\n",
       "    </tr>\n",
       "  </tbody>\n",
       "</table>\n",
       "</div>"
      ],
      "text/plain": [
       "             userId       movieId        rating     timestamp\n",
       "count  2.500010e+07  2.500010e+07  2.500010e+07  2.500010e+07\n",
       "mean   8.118928e+04  2.138798e+04  3.533854e+00  1.215601e+09\n",
       "std    4.679172e+04  3.919886e+04  1.060744e+00  2.268758e+08\n",
       "min    1.000000e+00  1.000000e+00  5.000000e-01  7.896520e+08\n",
       "25%    4.051000e+04  1.196000e+03  3.000000e+00  1.011747e+09\n",
       "50%    8.091400e+04  2.947000e+03  3.500000e+00  1.198868e+09\n",
       "75%    1.215570e+05  8.623000e+03  4.000000e+00  1.447205e+09\n",
       "max    1.625410e+05  2.091710e+05  5.000000e+00  1.574328e+09"
      ]
     },
     "execution_count": 7,
     "metadata": {},
     "output_type": "execute_result"
    }
   ],
   "source": [
    "ratings.describe()"
   ]
  },
  {
   "cell_type": "code",
   "execution_count": 8,
   "metadata": {},
   "outputs": [
    {
     "data": {
      "application/vnd.microsoft.datawrangler.viewer.v0+json": {
       "columns": [
        {
         "name": "index",
         "rawType": "int64",
         "type": "integer"
        },
        {
         "name": "userId",
         "rawType": "int64",
         "type": "integer"
        },
        {
         "name": "movieId",
         "rawType": "int64",
         "type": "integer"
        },
        {
         "name": "rating",
         "rawType": "float64",
         "type": "float"
        },
        {
         "name": "timestamp",
         "rawType": "int64",
         "type": "integer"
        }
       ],
       "conversionMethod": "pd.DataFrame",
       "ref": "20a8a41a-0402-4ce6-83b7-a71478f5ddfc",
       "rows": [
        [
         "0",
         "1",
         "296",
         "5.0",
         "1147880044"
        ],
        [
         "1",
         "1",
         "306",
         "3.5",
         "1147868817"
        ],
        [
         "2",
         "1",
         "307",
         "5.0",
         "1147868828"
        ],
        [
         "3",
         "1",
         "665",
         "5.0",
         "1147878820"
        ],
        [
         "4",
         "1",
         "899",
         "3.5",
         "1147868510"
        ]
       ],
       "shape": {
        "columns": 4,
        "rows": 5
       }
      },
      "text/html": [
       "<div>\n",
       "<style scoped>\n",
       "    .dataframe tbody tr th:only-of-type {\n",
       "        vertical-align: middle;\n",
       "    }\n",
       "\n",
       "    .dataframe tbody tr th {\n",
       "        vertical-align: top;\n",
       "    }\n",
       "\n",
       "    .dataframe thead th {\n",
       "        text-align: right;\n",
       "    }\n",
       "</style>\n",
       "<table border=\"1\" class=\"dataframe\">\n",
       "  <thead>\n",
       "    <tr style=\"text-align: right;\">\n",
       "      <th></th>\n",
       "      <th>userId</th>\n",
       "      <th>movieId</th>\n",
       "      <th>rating</th>\n",
       "      <th>timestamp</th>\n",
       "    </tr>\n",
       "  </thead>\n",
       "  <tbody>\n",
       "    <tr>\n",
       "      <th>0</th>\n",
       "      <td>1</td>\n",
       "      <td>296</td>\n",
       "      <td>5.0</td>\n",
       "      <td>1147880044</td>\n",
       "    </tr>\n",
       "    <tr>\n",
       "      <th>1</th>\n",
       "      <td>1</td>\n",
       "      <td>306</td>\n",
       "      <td>3.5</td>\n",
       "      <td>1147868817</td>\n",
       "    </tr>\n",
       "    <tr>\n",
       "      <th>2</th>\n",
       "      <td>1</td>\n",
       "      <td>307</td>\n",
       "      <td>5.0</td>\n",
       "      <td>1147868828</td>\n",
       "    </tr>\n",
       "    <tr>\n",
       "      <th>3</th>\n",
       "      <td>1</td>\n",
       "      <td>665</td>\n",
       "      <td>5.0</td>\n",
       "      <td>1147878820</td>\n",
       "    </tr>\n",
       "    <tr>\n",
       "      <th>4</th>\n",
       "      <td>1</td>\n",
       "      <td>899</td>\n",
       "      <td>3.5</td>\n",
       "      <td>1147868510</td>\n",
       "    </tr>\n",
       "  </tbody>\n",
       "</table>\n",
       "</div>"
      ],
      "text/plain": [
       "   userId  movieId  rating   timestamp\n",
       "0       1      296     5.0  1147880044\n",
       "1       1      306     3.5  1147868817\n",
       "2       1      307     5.0  1147868828\n",
       "3       1      665     5.0  1147878820\n",
       "4       1      899     3.5  1147868510"
      ]
     },
     "execution_count": 8,
     "metadata": {},
     "output_type": "execute_result"
    }
   ],
   "source": [
    "ratings.head()"
   ]
  },
  {
   "cell_type": "code",
   "execution_count": 9,
   "metadata": {},
   "outputs": [
    {
     "data": {
      "text/plain": [
       "162541"
      ]
     },
     "execution_count": 9,
     "metadata": {},
     "output_type": "execute_result"
    }
   ],
   "source": [
    "len(ratings['userId'].unique())"
   ]
  },
  {
   "cell_type": "code",
   "execution_count": 10,
   "metadata": {},
   "outputs": [
    {
     "data": {
      "text/plain": [
       "(1093360, 4)"
      ]
     },
     "execution_count": 10,
     "metadata": {},
     "output_type": "execute_result"
    }
   ],
   "source": [
    "tags.shape"
   ]
  },
  {
   "cell_type": "code",
   "execution_count": 11,
   "metadata": {},
   "outputs": [
    {
     "data": {
      "application/vnd.microsoft.datawrangler.viewer.v0+json": {
       "columns": [
        {
         "name": "index",
         "rawType": "int64",
         "type": "integer"
        },
        {
         "name": "userId",
         "rawType": "int64",
         "type": "integer"
        },
        {
         "name": "movieId",
         "rawType": "int64",
         "type": "integer"
        },
        {
         "name": "tag",
         "rawType": "object",
         "type": "string"
        },
        {
         "name": "timestamp",
         "rawType": "int64",
         "type": "integer"
        }
       ],
       "conversionMethod": "pd.DataFrame",
       "ref": "0aa6ebe8-d0ba-4aa6-a57b-2c1ddf4acfab",
       "rows": [
        [
         "0",
         "3",
         "260",
         "classic",
         "1439472355"
        ],
        [
         "1",
         "3",
         "260",
         "sci-fi",
         "1439472256"
        ],
        [
         "2",
         "4",
         "1732",
         "dark comedy",
         "1573943598"
        ],
        [
         "3",
         "4",
         "1732",
         "great dialogue",
         "1573943604"
        ],
        [
         "4",
         "4",
         "7569",
         "so bad it's good",
         "1573943455"
        ]
       ],
       "shape": {
        "columns": 4,
        "rows": 5
       }
      },
      "text/html": [
       "<div>\n",
       "<style scoped>\n",
       "    .dataframe tbody tr th:only-of-type {\n",
       "        vertical-align: middle;\n",
       "    }\n",
       "\n",
       "    .dataframe tbody tr th {\n",
       "        vertical-align: top;\n",
       "    }\n",
       "\n",
       "    .dataframe thead th {\n",
       "        text-align: right;\n",
       "    }\n",
       "</style>\n",
       "<table border=\"1\" class=\"dataframe\">\n",
       "  <thead>\n",
       "    <tr style=\"text-align: right;\">\n",
       "      <th></th>\n",
       "      <th>userId</th>\n",
       "      <th>movieId</th>\n",
       "      <th>tag</th>\n",
       "      <th>timestamp</th>\n",
       "    </tr>\n",
       "  </thead>\n",
       "  <tbody>\n",
       "    <tr>\n",
       "      <th>0</th>\n",
       "      <td>3</td>\n",
       "      <td>260</td>\n",
       "      <td>classic</td>\n",
       "      <td>1439472355</td>\n",
       "    </tr>\n",
       "    <tr>\n",
       "      <th>1</th>\n",
       "      <td>3</td>\n",
       "      <td>260</td>\n",
       "      <td>sci-fi</td>\n",
       "      <td>1439472256</td>\n",
       "    </tr>\n",
       "    <tr>\n",
       "      <th>2</th>\n",
       "      <td>4</td>\n",
       "      <td>1732</td>\n",
       "      <td>dark comedy</td>\n",
       "      <td>1573943598</td>\n",
       "    </tr>\n",
       "    <tr>\n",
       "      <th>3</th>\n",
       "      <td>4</td>\n",
       "      <td>1732</td>\n",
       "      <td>great dialogue</td>\n",
       "      <td>1573943604</td>\n",
       "    </tr>\n",
       "    <tr>\n",
       "      <th>4</th>\n",
       "      <td>4</td>\n",
       "      <td>7569</td>\n",
       "      <td>so bad it's good</td>\n",
       "      <td>1573943455</td>\n",
       "    </tr>\n",
       "  </tbody>\n",
       "</table>\n",
       "</div>"
      ],
      "text/plain": [
       "   userId  movieId               tag   timestamp\n",
       "0       3      260           classic  1439472355\n",
       "1       3      260            sci-fi  1439472256\n",
       "2       4     1732       dark comedy  1573943598\n",
       "3       4     1732    great dialogue  1573943604\n",
       "4       4     7569  so bad it's good  1573943455"
      ]
     },
     "execution_count": 11,
     "metadata": {},
     "output_type": "execute_result"
    }
   ],
   "source": [
    "tags.head()"
   ]
  },
  {
   "cell_type": "markdown",
   "metadata": {},
   "source": [
    "data cleaning"
   ]
  },
  {
   "cell_type": "code",
   "execution_count": 12,
   "metadata": {},
   "outputs": [
    {
     "data": {
      "text/plain": [
       "movieId    False\n",
       "title      False\n",
       "genres     False\n",
       "dtype: bool"
      ]
     },
     "execution_count": 12,
     "metadata": {},
     "output_type": "execute_result"
    }
   ],
   "source": [
    "movies.isnull().any()"
   ]
  },
  {
   "cell_type": "code",
   "execution_count": 13,
   "metadata": {},
   "outputs": [
    {
     "data": {
      "text/plain": [
       "userId       False\n",
       "movieId      False\n",
       "rating       False\n",
       "timestamp    False\n",
       "dtype: bool"
      ]
     },
     "execution_count": 13,
     "metadata": {},
     "output_type": "execute_result"
    }
   ],
   "source": [
    "ratings.isnull().any()"
   ]
  },
  {
   "cell_type": "code",
   "execution_count": 14,
   "metadata": {},
   "outputs": [
    {
     "data": {
      "text/plain": [
       "userId       False\n",
       "movieId      False\n",
       "tag           True\n",
       "timestamp    False\n",
       "dtype: bool"
      ]
     },
     "execution_count": 14,
     "metadata": {},
     "output_type": "execute_result"
    }
   ],
   "source": [
    "tags.isnull().any()"
   ]
  },
  {
   "cell_type": "code",
   "execution_count": 15,
   "metadata": {},
   "outputs": [],
   "source": [
    "tags = tags.dropna()"
   ]
  },
  {
   "cell_type": "code",
   "execution_count": 16,
   "metadata": {},
   "outputs": [
    {
     "data": {
      "text/plain": [
       "userId       False\n",
       "movieId      False\n",
       "tag          False\n",
       "timestamp    False\n",
       "dtype: bool"
      ]
     },
     "execution_count": 16,
     "metadata": {},
     "output_type": "execute_result"
    }
   ],
   "source": [
    "tags.isnull().any()"
   ]
  },
  {
   "cell_type": "code",
   "execution_count": 17,
   "metadata": {},
   "outputs": [
    {
     "data": {
      "text/plain": [
       "(1093344, 4)"
      ]
     },
     "execution_count": 17,
     "metadata": {},
     "output_type": "execute_result"
    }
   ],
   "source": [
    "tags.shape"
   ]
  },
  {
   "cell_type": "code",
   "execution_count": 18,
   "metadata": {},
   "outputs": [
    {
     "data": {
      "text/plain": [
       "73050"
      ]
     },
     "execution_count": 18,
     "metadata": {},
     "output_type": "execute_result"
    }
   ],
   "source": [
    "len(tags['tag'].unique())"
   ]
  },
  {
   "cell_type": "code",
   "execution_count": 19,
   "metadata": {},
   "outputs": [
    {
     "data": {
      "text/plain": [
       "['classic',\n",
       " 'sci-fi',\n",
       " 'dark comedy',\n",
       " 'great dialogue',\n",
       " \"so bad it's good\",\n",
       " 'unreliable narrators',\n",
       " 'tense',\n",
       " 'artificial intelligence',\n",
       " 'philosophical',\n",
       " 'cliche',\n",
       " 'musical',\n",
       " 'horror',\n",
       " 'unpredictable',\n",
       " 'Oscar (Best Supporting Actress)',\n",
       " 'adventure',\n",
       " 'anime',\n",
       " 'ecology',\n",
       " 'fantasy',\n",
       " 'Hayao Miyazaki',\n",
       " 'Miyazaki',\n",
       " 'post-apocalyptic',\n",
       " 'bah',\n",
       " 'Clint Eastwood',\n",
       " 'music',\n",
       " 'art',\n",
       " 'contemporary art',\n",
       " 'documentary',\n",
       " 'aliens',\n",
       " 'amazing photography',\n",
       " 'Director: James Cameron',\n",
       " 'first contact',\n",
       " 'James Cameron',\n",
       " 'Michael Biehn',\n",
       " 'android(s)/cyborg(s)',\n",
       " 'apocalypse',\n",
       " 'Arnold Schwarzenegger',\n",
       " 'franchise',\n",
       " 'terminator',\n",
       " 'time travel',\n",
       " 'science fiction',\n",
       " 'inferior sequel',\n",
       " 'setting:London (UK) (future)',\n",
       " 'unoriginal',\n",
       " 'bad science',\n",
       " 'good science',\n",
       " 'Hans Zimmer',\n",
       " 'philosophical issues',\n",
       " 'space',\n",
       " 'space travel',\n",
       " 'time-travel',\n",
       " 'visually appealing',\n",
       " 'bittersweet',\n",
       " 'boring',\n",
       " 'conversation',\n",
       " 'dialogue driven',\n",
       " 'loneliness',\n",
       " 'love story',\n",
       " 'philosophy',\n",
       " 'quirky',\n",
       " 'reflective',\n",
       " 'romantic',\n",
       " 'thought-provoking',\n",
       " 'Vienna',\n",
       " 'wistful',\n",
       " 'American Civil War',\n",
       " 'based on book',\n",
       " 'culture clash',\n",
       " 'drama',\n",
       " 'indians',\n",
       " 'war',\n",
       " 'western',\n",
       " 'Buddhism',\n",
       " 'China',\n",
       " 'great cinematography',\n",
       " 'JOURNEY OF SELF-DISCOVERY',\n",
       " 'mountains',\n",
       " 'traveling',\n",
       " 'atmospheric',\n",
       " 'based on a book',\n",
       " 'Canada',\n",
       " 'death',\n",
       " 'Incest',\n",
       " 'meditative',\n",
       " 'melancholic',\n",
       " 'Nudity (Full Frontal)',\n",
       " 'small town',\n",
       " 'wintry',\n",
       " 'aging',\n",
       " 'based on a play',\n",
       " 'Drama',\n",
       " 'friendship',\n",
       " 'Morgan Freeman',\n",
       " 'no action',\n",
       " 'old age',\n",
       " 'racism',\n",
       " 'Southern theme',\n",
       " 'USA',\n",
       " 'emotional',\n",
       " 'heartwarming',\n",
       " 'Holocaust',\n",
       " 'Italy',\n",
       " 'love',\n",
       " 'Oscar (Best Foreign Language Film)',\n",
       " 'Oscar Winner',\n",
       " 'sentimental',\n",
       " 'survival',\n",
       " 'Natalie Portman',\n",
       " 'robots',\n",
       " 'Star Wars',\n",
       " 'abortion',\n",
       " 'charlize theron',\n",
       " 'medicine',\n",
       " 'orphans',\n",
       " 'Tobey Maguire',\n",
       " 'break-up',\n",
       " 'Catherine Zeta-Jones',\n",
       " 'funny',\n",
       " 'relationships',\n",
       " 'island',\n",
       " 'SURVIVAL',\n",
       " 'dogs',\n",
       " 'multiple storylines',\n",
       " 'action',\n",
       " 'George Lucas',\n",
       " 'romance',\n",
       " 'family',\n",
       " 'mystery',\n",
       " 'powerful ending',\n",
       " 'twist ending',\n",
       " 'adapted from:book',\n",
       " 'assassin',\n",
       " 'assassination',\n",
       " 'History',\n",
       " 'interesting',\n",
       " 'Southern Europe',\n",
       " 'thriller',\n",
       " 'dialogue',\n",
       " 'Paris',\n",
       " 'adultery',\n",
       " 'biographical',\n",
       " 'Biography',\n",
       " 'blindness',\n",
       " 'disability',\n",
       " 'drug addiction',\n",
       " 'drugs',\n",
       " 'genius',\n",
       " 'great acting',\n",
       " 'history',\n",
       " 'music business',\n",
       " 'rhythm & blues',\n",
       " 'Catholicism',\n",
       " 'child abuse',\n",
       " 'enigmatic',\n",
       " 'Gay sex',\n",
       " 'mistaken identity',\n",
       " 'queer',\n",
       " 'soccer',\n",
       " 'spanish',\n",
       " 'alcoholism',\n",
       " 'complex characters',\n",
       " 'confusing',\n",
       " 'Germany',\n",
       " 'biomedical ethics',\n",
       " 'euthanasia',\n",
       " 'FIGHTING THE SYSTEM',\n",
       " 'SUICIDE',\n",
       " 'suicide attempt',\n",
       " 'terminal illness',\n",
       " 'touching',\n",
       " 'true story',\n",
       " 'deliberate',\n",
       " 'nonsense',\n",
       " 'philosophycal',\n",
       " 'quiet',\n",
       " 'silent',\n",
       " 'very little dialogue',\n",
       " 'biopic',\n",
       " 'character study',\n",
       " 'death penalty',\n",
       " 'gay',\n",
       " 'journalism',\n",
       " 'prison',\n",
       " 'thought provoking',\n",
       " 'writers',\n",
       " 'based on a true story',\n",
       " 'biography',\n",
       " 'Joaquin Phoenix',\n",
       " 'Disturbing',\n",
       " 'murder mystery',\n",
       " 'non-hollywood ending',\n",
       " 'twist',\n",
       " 'simple',\n",
       " 'Straight forward',\n",
       " 'strong woman',\n",
       " 'WOMEN DURING WARTIME',\n",
       " 'World War II',\n",
       " 'cynical',\n",
       " 'disturbing',\n",
       " 'Nudity (Topless - Notable)',\n",
       " 'Nudity (Topless)',\n",
       " 'psychology',\n",
       " 'epidemic',\n",
       " 'husband-wife relationship',\n",
       " 'science',\n",
       " 'scientific research',\n",
       " 'George Clooney',\n",
       " 'lawyers',\n",
       " 'depressing',\n",
       " 'hospital',\n",
       " 'marriage',\n",
       " 'Jude Law',\n",
       " 'road movie',\n",
       " 'soundtrack',\n",
       " 'alternate endings',\n",
       " 'beautiful',\n",
       " 'humanity',\n",
       " 'quirky style',\n",
       " 'solitude',\n",
       " 'awkward',\n",
       " 'Barcelona',\n",
       " 'threesome',\n",
       " 'congressman',\n",
       " 'corruption',\n",
       " 'mistress',\n",
       " 'murder',\n",
       " 'newspaper',\n",
       " 'political corruption',\n",
       " 'politics',\n",
       " 'secrets',\n",
       " 'Funny',\n",
       " 'humorous',\n",
       " 'nonlinear',\n",
       " 'excellent script',\n",
       " 'nostalgic',\n",
       " 'revenge',\n",
       " 'effects',\n",
       " 'environmental',\n",
       " 'alternate reality',\n",
       " 'dystopia',\n",
       " 'Oscar (Best Picture)',\n",
       " 'mindfuck',\n",
       " \"Alzheimer's disease\",\n",
       " 'Animals',\n",
       " 'genetics',\n",
       " 'virus',\n",
       " 'children',\n",
       " 'cinematography',\n",
       " 'campaign manager',\n",
       " 'real life',\n",
       " 'Fish',\n",
       " 'food',\n",
       " 'Ginza',\n",
       " 'Japan',\n",
       " 'Michelin',\n",
       " 'sushi',\n",
       " 'Tokyo',\n",
       " 'Tsukiji',\n",
       " 'humor',\n",
       " 'nudity (full frontal)',\n",
       " 'sexuality',\n",
       " 'static',\n",
       " 'strange',\n",
       " 'uncomfortable',\n",
       " 'oscar (best directing)',\n",
       " 'US President',\n",
       " 'president; butler',\n",
       " 'Ferrari',\n",
       " 'Formula 1',\n",
       " 'great skill',\n",
       " 'interesting characters',\n",
       " 'racing',\n",
       " 'sports',\n",
       " 'happy ending',\n",
       " 'middle-aged protagonist',\n",
       " 'warm',\n",
       " 'captain',\n",
       " 'ocean',\n",
       " 'suspense',\n",
       " 'disease',\n",
       " 'Matthew McConaughey',\n",
       " 'medical',\n",
       " 'dramatic comedy',\n",
       " 'sad',\n",
       " 'story',\n",
       " 'narration',\n",
       " 'cats',\n",
       " 'folk music',\n",
       " 'New York City',\n",
       " 'repetitive',\n",
       " 'Wall Street',\n",
       " 'Human Computer Interaction',\n",
       " 'landscape',\n",
       " 'letters',\n",
       " 'meaning of life',\n",
       " 'original plot',\n",
       " 'repeating',\n",
       " 'Afghanistan',\n",
       " 'seals',\n",
       " 'naration',\n",
       " 'Nudity (Full Frontal - Notable)',\n",
       " 'german sync',\n",
       " 'matt damon',\n",
       " 'Lars von Trier',\n",
       " 'pornography',\n",
       " 'Unexpected Ending',\n",
       " 'interesting ideea',\n",
       " 'original',\n",
       " 'spectacle',\n",
       " 'wormhole',\n",
       " 'espionage',\n",
       " 'Jean Dujardin',\n",
       " 'bitterswee',\n",
       " 'new york',\n",
       " 'future',\n",
       " 'time loop',\n",
       " 'Tom Cruise',\n",
       " 'plot holes',\n",
       " 'ridiculous dialogue',\n",
       " 'transformers',\n",
       " 'weak story',\n",
       " 'education',\n",
       " 'good acting',\n",
       " 'jazz',\n",
       " 'motivation',\n",
       " 'perfectionism',\n",
       " 'psychological',\n",
       " 'Ben Affleck',\n",
       " 'false accusation',\n",
       " 'good adaptation',\n",
       " 'Infidelity',\n",
       " 'meticulous',\n",
       " 'Psychopathy',\n",
       " 'Matt Reeves',\n",
       " 'Action',\n",
       " 'comic',\n",
       " 'superheroes',\n",
       " 'talking animals',\n",
       " 'Vin Diesel',\n",
       " 'counterespionage',\n",
       " 'slow',\n",
       " 'Law',\n",
       " 'acting',\n",
       " 'Brad Pitt',\n",
       " 'David Ayer',\n",
       " 'to much war',\n",
       " 'war hero',\n",
       " 'Manipulations',\n",
       " 'technology',\n",
       " 'mental illness',\n",
       " 'surprising',\n",
       " 'twisted end',\n",
       " 'code breaking',\n",
       " 'Computers',\n",
       " 'cryptography',\n",
       " 'informatics',\n",
       " 'mathematics',\n",
       " 'physics',\n",
       " 'Stephen Hawking',\n",
       " 'True story',\n",
       " 'image',\n",
       " 'Olga Kurylenko',\n",
       " 'Improvisation',\n",
       " 'mars',\n",
       " 'NASA',\n",
       " 'Near Future',\n",
       " 'predictible',\n",
       " 'scientific',\n",
       " 'Space',\n",
       " 'Survival Instinct',\n",
       " 'adoption',\n",
       " 'Oscar Nominee: Best Picture',\n",
       " 'dreamlike',\n",
       " 'Fantasy',\n",
       " 'imagination',\n",
       " 'surreal',\n",
       " 'surrealism',\n",
       " 'truth vs. fantasy',\n",
       " 'gay romance',\n",
       " 'space adventure',\n",
       " 'overcoming obstacles',\n",
       " 'teamwork',\n",
       " 'Coen Brothers',\n",
       " 'witty',\n",
       " 'smart',\n",
       " 'Tom Hanks',\n",
       " '4th wall',\n",
       " 'crude language',\n",
       " 'parody',\n",
       " 'soulless',\n",
       " 'cult film',\n",
       " 'unintentional comedy',\n",
       " 'dark',\n",
       " 'missing children',\n",
       " 'torture',\n",
       " 'Ewan McGregor',\n",
       " 'Jar Jar Binks',\n",
       " 'AI',\n",
       " 'karate',\n",
       " 'inspiring',\n",
       " 'purpose in life',\n",
       " 'summer',\n",
       " 'ambush',\n",
       " 'England',\n",
       " 'Romans',\n",
       " 'violent',\n",
       " 'television',\n",
       " 'Michael Moore',\n",
       " 'propaganda',\n",
       " 'metafiction',\n",
       " 'Christopher Nolan',\n",
       " 'turing test',\n",
       " 'impressive visuals',\n",
       " 'magic',\n",
       " 'tang dynasty',\n",
       " 'Nicolas Cage',\n",
       " 'manipulation',\n",
       " 'free running',\n",
       " 'no story',\n",
       " 'parkour',\n",
       " 'running',\n",
       " 'abduction',\n",
       " 'bound',\n",
       " 'canada',\n",
       " 'dark humor',\n",
       " 'gagged',\n",
       " 'kidnapping',\n",
       " 'montreal',\n",
       " 'nightmares',\n",
       " 'small cast',\n",
       " 'twisted',\n",
       " 'bad ending',\n",
       " 'Nudity (Topless - Brief)',\n",
       " 'Oscar (Best Actor)',\n",
       " 'Oscar (Best Actress)',\n",
       " 'want to see again',\n",
       " 'Sick',\n",
       " 'animation',\n",
       " 'big budget',\n",
       " 'Christian',\n",
       " 'Christmas',\n",
       " 'starts well but fails you in the middle till the end',\n",
       " 'film noir',\n",
       " 'low budget',\n",
       " 'decline of civilization',\n",
       " 'prophetic',\n",
       " 'sex with the enemy',\n",
       " 'brutal violence',\n",
       " 'gun fu',\n",
       " 'plot twist',\n",
       " 'stylized violence',\n",
       " 'TOO much violence',\n",
       " 'Amazing!',\n",
       " 'anti-hero',\n",
       " 'better than expected',\n",
       " 'Charlize Theron',\n",
       " 'innovative',\n",
       " 'movie to see',\n",
       " 'superhero',\n",
       " 'Will Smith',\n",
       " 'enjoyable',\n",
       " 'good laughs',\n",
       " 'chick flick',\n",
       " 'space program',\n",
       " 'stephan king',\n",
       " 'Special effects',\n",
       " 'off-beat comedy',\n",
       " 'Disney',\n",
       " 'netflixq',\n",
       " 'cult classic',\n",
       " 'homoerotic subtext',\n",
       " 'anti-romantic ending',\n",
       " 'racist',\n",
       " 'great soundtrack',\n",
       " 'stylized',\n",
       " 'weird',\n",
       " 'Studio Ghibli',\n",
       " 'black comedy',\n",
       " 'comedy',\n",
       " 'awesome',\n",
       " 'colorful',\n",
       " 'Jeff Goldblum',\n",
       " 'Taika Waititi',\n",
       " 'unconventional',\n",
       " 'Heartbreaking',\n",
       " 'Sad',\n",
       " 'classic sci-fi',\n",
       " 'good vs evil',\n",
       " 'brilliant',\n",
       " 'scary',\n",
       " 'ghosts',\n",
       " 'Bisexual',\n",
       " 'Canadian',\n",
       " 'Distopian',\n",
       " 'Indy',\n",
       " 'Lgbt',\n",
       " 'Mystery',\n",
       " 'Thomas Gibson',\n",
       " 'oldie but goodie',\n",
       " 'scifi cult',\n",
       " 'Black comedy',\n",
       " 'Quentin Tarantino',\n",
       " 'violence',\n",
       " 'courtroom',\n",
       " 'courtroom drama',\n",
       " 'group psychology',\n",
       " 'Old',\n",
       " 'social commentary',\n",
       " 'college',\n",
       " 'Geeks',\n",
       " 'nerds',\n",
       " 'smart comedy',\n",
       " 'teen comedy',\n",
       " 'dystopic future',\n",
       " 'futuristic',\n",
       " 'genetic selection',\n",
       " 'intelligent',\n",
       " 'Uma Thurman',\n",
       " 'underdog',\n",
       " 'Jim Carrey',\n",
       " 'poignant',\n",
       " 'reality TV',\n",
       " 'Bisexuality',\n",
       " 'Great soundtrack',\n",
       " 'Historic',\n",
       " 'Sexy',\n",
       " 'conspiracy',\n",
       " 'cover up',\n",
       " 'political',\n",
       " 'satire',\n",
       " 'unique',\n",
       " 'crude humor',\n",
       " 'sexual',\n",
       " 'stupid',\n",
       " 'coming of age',\n",
       " 'coming-of-age',\n",
       " 'great music',\n",
       " 'John Hughes',\n",
       " 'overdramatic',\n",
       " 'school drama',\n",
       " 'teen',\n",
       " 'teen movie',\n",
       " 'Bromance',\n",
       " 'Comedy',\n",
       " 'high school',\n",
       " 'Reese Witherspoon',\n",
       " 'stereotypes',\n",
       " 'Teen movie',\n",
       " 'menage a trois',\n",
       " 'polygamy',\n",
       " 'guilty pleasure',\n",
       " '1980s',\n",
       " 'breaking the fourth wall',\n",
       " 'charming',\n",
       " 'High School',\n",
       " 'rebellion',\n",
       " 'complicated',\n",
       " 'funny moments',\n",
       " 'mean spirited',\n",
       " 'tolkien',\n",
       " 'cloning',\n",
       " 'immortality',\n",
       " 'geeks',\n",
       " 'hilarious',\n",
       " 'sex',\n",
       " 'sex comedy',\n",
       " 'steve carell',\n",
       " 'Jonah Hill',\n",
       " 'marijuana',\n",
       " 'Quotable',\n",
       " 'stoner',\n",
       " 'Stoner Movie',\n",
       " 'video game testers',\n",
       " 'video games',\n",
       " 'Underrated',\n",
       " 'Coming of age',\n",
       " 'Coming-Of-Age',\n",
       " 'Emma Stone',\n",
       " 'HIGH SCHOOL LIFE',\n",
       " 'amy poehler',\n",
       " 'teacher',\n",
       " 'Hawaii',\n",
       " 'Jason Segel',\n",
       " 'Kristen Bell',\n",
       " 'Mila Kunis',\n",
       " 'Paul Rudd',\n",
       " 'CIA',\n",
       " 'father daughter relationship',\n",
       " 'gritty',\n",
       " 'human trafficking',\n",
       " 'buddy movie',\n",
       " 'silly',\n",
       " 'spoof',\n",
       " 'subtle humor',\n",
       " 'Will Ferrell',\n",
       " 'awesome soundtrack',\n",
       " 'cultural references',\n",
       " 'geek',\n",
       " 'geeky',\n",
       " 'protagonist is a teacher',\n",
       " 'jason bateman',\n",
       " 'Jennifer Aniston',\n",
       " 'weak ending',\n",
       " 'bromance',\n",
       " 'Channing Tatum',\n",
       " 'self-aware',\n",
       " 'undercover cops',\n",
       " 'election',\n",
       " 'brother sister incest',\n",
       " 'teacher student sex',\n",
       " 'Amy Poehler',\n",
       " 'Cobie Smulders',\n",
       " 'Rom Com',\n",
       " 'Self deprecating',\n",
       " 'absurd',\n",
       " 'Propaganda',\n",
       " 'Absurd',\n",
       " 'Cross generational',\n",
       " 'Travel',\n",
       " 'Workplace humor',\n",
       " 'kevin hart',\n",
       " 'Reverse racism',\n",
       " 'will ferrel',\n",
       " 'feminism',\n",
       " 'Romantic comedy',\n",
       " 'overcomplicated',\n",
       " 'Woody Harrelson',\n",
       " 'uplifting',\n",
       " 'Coming of Age',\n",
       " 'Friendship',\n",
       " 'Outsider',\n",
       " 'sibling relationship',\n",
       " 'teen angst',\n",
       " 'Bad Writing',\n",
       " 'dinosaurs',\n",
       " 'disaster',\n",
       " 'predictable',\n",
       " 'unrealistic',\n",
       " 'annoying kid',\n",
       " 'slasher',\n",
       " 'detective',\n",
       " '1930s',\n",
       " '1935',\n",
       " 'church',\n",
       " 'cotton',\n",
       " 'cotton farm',\n",
       " 'debt',\n",
       " 'extramarital affair',\n",
       " 'farm',\n",
       " 'female protagonist',\n",
       " 'ku klux klan',\n",
       " 'loss of husband',\n",
       " 'period piece',\n",
       " 'poverty',\n",
       " 'rural setting',\n",
       " 'nudity',\n",
       " 'dance',\n",
       " 'feel-good',\n",
       " 'motivational',\n",
       " 'terrible-acting',\n",
       " 'ghost story',\n",
       " 'haunted house',\n",
       " 'legal thriller',\n",
       " 'conspiracy theory',\n",
       " 'UFO',\n",
       " 'female bonding',\n",
       " 'exorcism',\n",
       " 'bad acting',\n",
       " 'haunted-house',\n",
       " 'jumpscares',\n",
       " 'siblings',\n",
       " 'artist',\n",
       " 'con man',\n",
       " 'Doppelgänger',\n",
       " 'Evil Doppelgänger',\n",
       " 'Loss of child',\n",
       " 'Stephen King',\n",
       " 'zombies',\n",
       " 'breakup',\n",
       " 'feminist',\n",
       " 'friends',\n",
       " 'girlfriends',\n",
       " 'heartbreak',\n",
       " 'lesbian',\n",
       " 'film industry',\n",
       " 'Hollywood',\n",
       " 'movie industry',\n",
       " 'Visual effect',\n",
       " 'computers',\n",
       " 'cyber-intimidation',\n",
       " 'hackers',\n",
       " 'hacking',\n",
       " 'internet',\n",
       " 'domestic violence',\n",
       " 'fun',\n",
       " 'kids',\n",
       " 'schizophrenia',\n",
       " 'sleep walking',\n",
       " 'lucid dreaming',\n",
       " 'Bad acting',\n",
       " 'Banksy',\n",
       " 'hand-held camera',\n",
       " 'philosophy of art',\n",
       " 'street art',\n",
       " 'made me laugh',\n",
       " 'parody: horror film episodes',\n",
       " 'satire: plastic surgery',\n",
       " 'word play',\n",
       " 'Love story',\n",
       " 'sport business',\n",
       " 'childish',\n",
       " 'sexist',\n",
       " 'imprisonment',\n",
       " 'multi-dimensional characters',\n",
       " 'taking justice into own hands',\n",
       " 'Loneliness',\n",
       " 'illogical',\n",
       " 'nature',\n",
       " 'strong female character',\n",
       " 'Comics',\n",
       " 'Horror',\n",
       " 'Jack the Ripper',\n",
       " 'Johnny Depp',\n",
       " 'serial killer',\n",
       " 'Thriller',\n",
       " 'Classic',\n",
       " 'Kyra Sedgwick',\n",
       " 'Original',\n",
       " 'French music',\n",
       " 'implausible',\n",
       " 'Rachel McAdams',\n",
       " 'Not spotting the obvious',\n",
       " 'realistic action',\n",
       " 'Wonderful director',\n",
       " 'Bing Crosby',\n",
       " 'Frank Sinatra',\n",
       " 'louis armstrong',\n",
       " 'remake',\n",
       " 'evil-mastermind',\n",
       " 'fourth-wall',\n",
       " 'light',\n",
       " 'spy',\n",
       " 'clash of cultures',\n",
       " 'film within a film',\n",
       " 'life & death',\n",
       " 'little dialogue',\n",
       " 'Mona Achache',\n",
       " 'rebirth',\n",
       " 'deception',\n",
       " 'illusions',\n",
       " 'Harrison Ford',\n",
       " 'True to the book',\n",
       " 'Great Visuals',\n",
       " 'Marvel Cinematic Universe',\n",
       " 'boy becomes a man',\n",
       " 'redemption',\n",
       " 'china',\n",
       " 'life philosophy',\n",
       " 'mozi philosophy',\n",
       " 'personal growth',\n",
       " 'strong romantic subplot',\n",
       " 'war strategy',\n",
       " 'Adult',\n",
       " 'antihero',\n",
       " 'strong language',\n",
       " 'punk',\n",
       " 'art film',\n",
       " 'Entertainment Industry',\n",
       " 'K-Pop',\n",
       " 'ending kinda ruined it',\n",
       " 'great performances',\n",
       " 'sucks',\n",
       " 'Nice',\n",
       " 'jason lee',\n",
       " 'Kevin Smith',\n",
       " 'view askew',\n",
       " 'Gene Wilder',\n",
       " 'Nick Frost',\n",
       " 'Simon Pegg',\n",
       " 'games',\n",
       " 'BD-R',\n",
       " 'space action',\n",
       " 'hallucinatory',\n",
       " 'middle school',\n",
       " 'Pixar',\n",
       " 'lady gaga',\n",
       " 'intense',\n",
       " 'courage',\n",
       " 'inspirational',\n",
       " 'Motivation',\n",
       " 'reality',\n",
       " 'willpower',\n",
       " 'different',\n",
       " 'persistence',\n",
       " 'Post apocalyptic',\n",
       " 'Bradley Cooper',\n",
       " 'concept',\n",
       " 'entertaining',\n",
       " 'human potential',\n",
       " 'screenplay',\n",
       " 'smart drugs',\n",
       " 'talent',\n",
       " 'trying hard',\n",
       " 'mathematicians',\n",
       " 'Eddie Redmayne',\n",
       " 'excellent acting',\n",
       " 'excellent screenplay',\n",
       " 'true love',\n",
       " 'Intense',\n",
       " 'revenge as motive',\n",
       " 'hilarious comedy',\n",
       " 'investigation',\n",
       " 'True Story',\n",
       " 'Central Intelligence Agency',\n",
       " 'dvd',\n",
       " 'art house',\n",
       " 'love this movie',\n",
       " 'scaring greatSoundtrack davidLynch angeloBadalamenti thriller',\n",
       " 'Acting',\n",
       " 'Dialogs',\n",
       " 'Nothing',\n",
       " 'Short Stories',\n",
       " 'mother-son relationship',\n",
       " 'cheesy',\n",
       " 'cheesiness',\n",
       " 'ridiculous',\n",
       " 'surprise ending',\n",
       " 'insanity',\n",
       " 'Martin Scorsese',\n",
       " 'Psychological Thriller',\n",
       " 'mind bending',\n",
       " 'spirit',\n",
       " 'freedom',\n",
       " 'hope',\n",
       " 'Freedom',\n",
       " 'Hope',\n",
       " 'Aardman',\n",
       " 'Star wars',\n",
       " 'tear jerker',\n",
       " 'strong female lead',\n",
       " 'anime. miyazaki',\n",
       " 'Tim Burton',\n",
       " 'Anime',\n",
       " 'Jack Black',\n",
       " 'star wars',\n",
       " 'Comic Book adaption',\n",
       " 'Marvel',\n",
       " 'masterpiece',\n",
       " 'stand up',\n",
       " 'VistaVision',\n",
       " 'bruce willis',\n",
       " 'the twists in the plot',\n",
       " 'great ending',\n",
       " 'supernatural',\n",
       " 'morality',\n",
       " 'epic',\n",
       " 'historical',\n",
       " 'Medieval',\n",
       " 'space opera',\n",
       " 'crime',\n",
       " 'american history',\n",
       " 'vietnam war',\n",
       " 'Dance',\n",
       " 'Heartwarming',\n",
       " 'Biblical',\n",
       " 'British',\n",
       " 'british comedy',\n",
       " 'controversial',\n",
       " 'Monty Python',\n",
       " 'Akira Kurosawa',\n",
       " 'French',\n",
       " 'stylish',\n",
       " 'farce',\n",
       " 'mockumentary',\n",
       " 'no dialogue',\n",
       " 'no narrative',\n",
       " 'Edward D. Wood Jr.',\n",
       " \"so bad it's funny\",\n",
       " 'long',\n",
       " 'samurai',\n",
       " 'toshiro mifune',\n",
       " 'existentialism',\n",
       " 'scifi',\n",
       " 'survival horror',\n",
       " 'free speech',\n",
       " 'memory',\n",
       " 'anti-war',\n",
       " 'wilderness',\n",
       " 'Toshiro Mifune',\n",
       " 'deadpan',\n",
       " 'hip hop',\n",
       " 'lone hero',\n",
       " 'buddhism',\n",
       " 'clever',\n",
       " 'penn jilette',\n",
       " 'sad ending',\n",
       " 'teller',\n",
       " 'comic book',\n",
       " 'author:Jane Austen',\n",
       " 'comedy of manners',\n",
       " 'Steve Carell',\n",
       " 'norwegian',\n",
       " 'saami',\n",
       " 'skiing',\n",
       " 'brutal',\n",
       " 'incest',\n",
       " 'vengeance',\n",
       " 'Excellent use of dialogue',\n",
       " 'intellectual',\n",
       " 'ambiguous ending',\n",
       " 'depression',\n",
       " 'suicide',\n",
       " 'Sci-fi',\n",
       " 'Finnish',\n",
       " 'mythology',\n",
       " 'anti-authoritarian',\n",
       " 'edward snowden',\n",
       " 'informative',\n",
       " 'nonfiction',\n",
       " 'cute boys',\n",
       " 'cyborgs',\n",
       " 'nuclear war',\n",
       " 'Suspense',\n",
       " 'Adventure',\n",
       " 'high fantasy',\n",
       " 'wizards',\n",
       " 'Scarlett Johansson',\n",
       " 'fast paced action',\n",
       " '007',\n",
       " 'Bond',\n",
       " 'james bond',\n",
       " 'Sean Connery',\n",
       " 'Spy Thriller',\n",
       " 'business',\n",
       " 'corporate America',\n",
       " 'Michael Douglas',\n",
       " 'stock market',\n",
       " 'US history',\n",
       " 'Daniel Craig',\n",
       " 'James Bond',\n",
       " 'poker',\n",
       " 'spies',\n",
       " '1920s',\n",
       " 'F. Scott Fitzgerald',\n",
       " 'Leonardo DiCaprio',\n",
       " 'prostitution',\n",
       " 'Stock Market',\n",
       " 'fairy tale',\n",
       " 'bureaucracy',\n",
       " 'cerebral',\n",
       " 'satirical',\n",
       " 'neo-noir',\n",
       " 'astronomy',\n",
       " 'catastrophe',\n",
       " 'natural disaster',\n",
       " 'detention',\n",
       " 'cyberpunk',\n",
       " 'virtual reality',\n",
       " 'Amazing Cinematography',\n",
       " 'fascism',\n",
       " 'totalitarianism',\n",
       " 'H.P. Lovecraft',\n",
       " 'Lovecraftian mythology',\n",
       " 'Philip K. Dick',\n",
       " 'teleportation',\n",
       " 'alternate history',\n",
       " 'author:Alan Moore',\n",
       " 'Danny McBride',\n",
       " 'James Franco',\n",
       " 'Robert Downey Jr.',\n",
       " 'satire:Hollywood insiders',\n",
       " 'atmosphere',\n",
       " 'steampunk',\n",
       " 'stylistic',\n",
       " 'good concept',\n",
       " 'Saramago',\n",
       " 'artistic',\n",
       " 'escapism',\n",
       " 'hanging',\n",
       " 'Victorian era',\n",
       " 'puzzle',\n",
       " 'sci fi',\n",
       " 'Surreal',\n",
       " 'twists & turns',\n",
       " 'ending twist',\n",
       " 'Mental Institution',\n",
       " 'reality or imagination?',\n",
       " 'twisted ending',\n",
       " 'Cinematography',\n",
       " 'great humor',\n",
       " 'great screenplay',\n",
       " 'joss whedon',\n",
       " 'airships',\n",
       " 'Anne Hathaway',\n",
       " 'Christian Bale',\n",
       " 'atheism',\n",
       " 'David Fincher',\n",
       " 'chaotic',\n",
       " 'meta',\n",
       " 'awkward situations',\n",
       " 'Suicide',\n",
       " ...]"
      ]
     },
     "execution_count": 19,
     "metadata": {},
     "output_type": "execute_result"
    }
   ],
   "source": [
    "tags_unique = tags['tag'].unique().tolist()\n",
    "tags_unique"
   ]
  },
  {
   "cell_type": "markdown",
   "metadata": {},
   "source": [
    "analyzing data"
   ]
  },
  {
   "cell_type": "code",
   "execution_count": 20,
   "metadata": {},
   "outputs": [],
   "source": [
    "from collections import Counter\n",
    "\n",
    "def count_genres(movies_df):\n",
    "    genre_counts = Counter()\n",
    "    movies_df['genres'].str.split('|').apply(genre_counts.update)\n",
    "    return genre_counts.most_common()"
   ]
  },
  {
   "cell_type": "code",
   "execution_count": 21,
   "metadata": {},
   "outputs": [
    {
     "data": {
      "text/plain": [
       "[('Drama', 25606),\n",
       " ('Comedy', 16870),\n",
       " ('Thriller', 8654),\n",
       " ('Romance', 7719),\n",
       " ('Action', 7348),\n",
       " ('Horror', 5989),\n",
       " ('Documentary', 5605),\n",
       " ('Crime', 5319),\n",
       " ('(no genres listed)', 5062),\n",
       " ('Adventure', 4145),\n",
       " ('Sci-Fi', 3595),\n",
       " ('Children', 2935),\n",
       " ('Animation', 2929),\n",
       " ('Mystery', 2925),\n",
       " ('Fantasy', 2731),\n",
       " ('War', 1874),\n",
       " ('Western', 1399),\n",
       " ('Musical', 1054),\n",
       " ('Film-Noir', 353),\n",
       " ('IMAX', 195)]"
      ]
     },
     "execution_count": 21,
     "metadata": {},
     "output_type": "execute_result"
    }
   ],
   "source": [
    "genre_counts = count_genres(movies)\n",
    "genre_counts"
   ]
  },
  {
   "cell_type": "code",
   "execution_count": 22,
   "metadata": {},
   "outputs": [
    {
     "data": {
      "text/plain": [
       "(62423,)"
      ]
     },
     "execution_count": 22,
     "metadata": {},
     "output_type": "execute_result"
    }
   ],
   "source": [
    "comedy_movies = movies['genres'].str.contains('Comedy')\n",
    "comedy_movies.shape"
   ]
  },
  {
   "cell_type": "code",
   "execution_count": 23,
   "metadata": {},
   "outputs": [
    {
     "data": {
      "application/vnd.microsoft.datawrangler.viewer.v0+json": {
       "columns": [
        {
         "name": "index",
         "rawType": "int64",
         "type": "integer"
        },
        {
         "name": "movieId",
         "rawType": "int64",
         "type": "integer"
        },
        {
         "name": "title",
         "rawType": "object",
         "type": "string"
        },
        {
         "name": "genres",
         "rawType": "object",
         "type": "string"
        }
       ],
       "conversionMethod": "pd.DataFrame",
       "ref": "e64f4b7d-b0ee-431a-96c0-79f292ec5006",
       "rows": [
        [
         "0",
         "1",
         "Toy Story (1995)",
         "Adventure|Animation|Children|Comedy|Fantasy"
        ],
        [
         "2",
         "3",
         "Grumpier Old Men (1995)",
         "Comedy|Romance"
        ],
        [
         "3",
         "4",
         "Waiting to Exhale (1995)",
         "Comedy|Drama|Romance"
        ],
        [
         "4",
         "5",
         "Father of the Bride Part II (1995)",
         "Comedy"
        ],
        [
         "6",
         "7",
         "Sabrina (1995)",
         "Comedy|Romance"
        ],
        [
         "10",
         "11",
         "American President, The (1995)",
         "Comedy|Drama|Romance"
        ],
        [
         "11",
         "12",
         "Dracula: Dead and Loving It (1995)",
         "Comedy|Horror"
        ],
        [
         "17",
         "18",
         "Four Rooms (1995)",
         "Comedy"
        ],
        [
         "18",
         "19",
         "Ace Ventura: When Nature Calls (1995)",
         "Comedy"
        ],
        [
         "19",
         "20",
         "Money Train (1995)",
         "Action|Comedy|Crime|Drama|Thriller"
        ],
        [
         "20",
         "21",
         "Get Shorty (1995)",
         "Comedy|Crime|Thriller"
        ],
        [
         "37",
         "38",
         "It Takes Two (1995)",
         "Children|Comedy"
        ],
        [
         "38",
         "39",
         "Clueless (1995)",
         "Comedy|Romance"
        ],
        [
         "44",
         "45",
         "To Die For (1995)",
         "Comedy|Drama|Thriller"
        ],
        [
         "51",
         "52",
         "Mighty Aphrodite (1995)",
         "Comedy|Drama|Romance"
        ],
        [
         "53",
         "54",
         "Big Green, The (1995)",
         "Children|Comedy"
        ],
        [
         "55",
         "56",
         "Kids of the Round Table (1995)",
         "Adventure|Children|Comedy|Fantasy"
        ],
        [
         "57",
         "58",
         "Postman, The (Postino, Il) (1994)",
         "Comedy|Drama|Romance"
        ],
        [
         "62",
         "63",
         "Don't Be a Menace to South Central While Drinking Your Juice in the Hood (1996)",
         "Comedy|Crime"
        ],
        [
         "63",
         "64",
         "Two if by Sea (1996)",
         "Comedy|Romance"
        ],
        [
         "64",
         "65",
         "Bio-Dome (1996)",
         "Comedy"
        ],
        [
         "67",
         "68",
         "French Twist (Gazon maudit) (1995)",
         "Comedy|Romance"
        ],
        [
         "68",
         "69",
         "Friday (1995)",
         "Comedy"
        ],
        [
         "69",
         "70",
         "From Dusk Till Dawn (1996)",
         "Action|Comedy|Horror|Thriller"
        ],
        [
         "71",
         "72",
         "Kicking and Screaming (1995)",
         "Comedy|Drama"
        ],
        [
         "74",
         "75",
         "Big Bully (1996)",
         "Comedy|Drama"
        ],
        [
         "81",
         "82",
         "Antonia's Line (Antonia) (1995)",
         "Comedy|Drama"
        ],
        [
         "83",
         "84",
         "Last Summer in the Hamptons (1995)",
         "Comedy|Drama"
        ],
        [
         "86",
         "87",
         "Dunston Checks In (1996)",
         "Children|Comedy"
        ],
        [
         "87",
         "88",
         "Black Sheep (1996)",
         "Comedy"
        ],
        [
         "91",
         "93",
         "Vampire in Brooklyn (1995)",
         "Comedy|Horror|Romance"
        ],
        [
         "92",
         "94",
         "Beautiful Girls (1996)",
         "Comedy|Drama|Romance"
        ],
        [
         "94",
         "96",
         "In the Bleak Midwinter (1995)",
         "Comedy|Drama"
        ],
        [
         "99",
         "101",
         "Bottle Rocket (1996)",
         "Adventure|Comedy|Crime|Romance"
        ],
        [
         "100",
         "102",
         "Mr. Wrong (1996)",
         "Comedy"
        ],
        [
         "102",
         "104",
         "Happy Gilmore (1996)",
         "Comedy"
        ],
        [
         "104",
         "106",
         "Nobody Loves Me (Keiner liebt mich) (1994)",
         "Comedy|Drama"
        ],
        [
         "105",
         "107",
         "Muppet Treasure Island (1996)",
         "Adventure|Children|Comedy|Musical"
        ],
        [
         "107",
         "109",
         "Headless Body in Topless Bar (1995)",
         "Comedy|Drama|Thriller"
        ],
        [
         "110",
         "112",
         "Rumble in the Bronx (Hont faan kui) (1995)",
         "Action|Adventure|Comedy|Crime"
        ],
        [
         "113",
         "115",
         "Happiness Is in the Field (Bonheur est dans le pré, Le) (1995)",
         "Comedy"
        ],
        [
         "116",
         "118",
         "If Lucy Fell (1996)",
         "Comedy|Romance"
        ],
        [
         "117",
         "119",
         "Steal Big, Steal Little (1995)",
         "Comedy"
        ],
        [
         "118",
         "120",
         "Race the Sun (1996)",
         "Adventure|Comedy|Drama"
        ],
        [
         "120",
         "122",
         "Boomerang (1992)",
         "Comedy|Romance"
        ],
        [
         "123",
         "125",
         "Flirting With Disaster (1996)",
         "Comedy"
        ],
        [
         "127",
         "129",
         "Pie in the Sky (1996)",
         "Comedy|Romance"
        ],
        [
         "131",
         "133",
         "Nueba Yol (1995)",
         "Comedy|Drama"
        ],
        [
         "133",
         "135",
         "Down Periscope (1996)",
         "Comedy"
        ],
        [
         "139",
         "141",
         "Birdcage, The (1996)",
         "Comedy"
        ]
       ],
       "shape": {
        "columns": 3,
        "rows": 16870
       }
      },
      "text/html": [
       "<div>\n",
       "<style scoped>\n",
       "    .dataframe tbody tr th:only-of-type {\n",
       "        vertical-align: middle;\n",
       "    }\n",
       "\n",
       "    .dataframe tbody tr th {\n",
       "        vertical-align: top;\n",
       "    }\n",
       "\n",
       "    .dataframe thead th {\n",
       "        text-align: right;\n",
       "    }\n",
       "</style>\n",
       "<table border=\"1\" class=\"dataframe\">\n",
       "  <thead>\n",
       "    <tr style=\"text-align: right;\">\n",
       "      <th></th>\n",
       "      <th>movieId</th>\n",
       "      <th>title</th>\n",
       "      <th>genres</th>\n",
       "    </tr>\n",
       "  </thead>\n",
       "  <tbody>\n",
       "    <tr>\n",
       "      <th>0</th>\n",
       "      <td>1</td>\n",
       "      <td>Toy Story (1995)</td>\n",
       "      <td>Adventure|Animation|Children|Comedy|Fantasy</td>\n",
       "    </tr>\n",
       "    <tr>\n",
       "      <th>2</th>\n",
       "      <td>3</td>\n",
       "      <td>Grumpier Old Men (1995)</td>\n",
       "      <td>Comedy|Romance</td>\n",
       "    </tr>\n",
       "    <tr>\n",
       "      <th>3</th>\n",
       "      <td>4</td>\n",
       "      <td>Waiting to Exhale (1995)</td>\n",
       "      <td>Comedy|Drama|Romance</td>\n",
       "    </tr>\n",
       "    <tr>\n",
       "      <th>4</th>\n",
       "      <td>5</td>\n",
       "      <td>Father of the Bride Part II (1995)</td>\n",
       "      <td>Comedy</td>\n",
       "    </tr>\n",
       "    <tr>\n",
       "      <th>6</th>\n",
       "      <td>7</td>\n",
       "      <td>Sabrina (1995)</td>\n",
       "      <td>Comedy|Romance</td>\n",
       "    </tr>\n",
       "    <tr>\n",
       "      <th>...</th>\n",
       "      <td>...</td>\n",
       "      <td>...</td>\n",
       "      <td>...</td>\n",
       "    </tr>\n",
       "    <tr>\n",
       "      <th>62402</th>\n",
       "      <td>209119</td>\n",
       "      <td>Up to the World (2014)</td>\n",
       "      <td>Comedy|Drama</td>\n",
       "    </tr>\n",
       "    <tr>\n",
       "      <th>62411</th>\n",
       "      <td>209141</td>\n",
       "      <td>And They Lived Happily Ever After (1976)</td>\n",
       "      <td>Comedy</td>\n",
       "    </tr>\n",
       "    <tr>\n",
       "      <th>62416</th>\n",
       "      <td>209153</td>\n",
       "      <td>Happy Flight (2008)</td>\n",
       "      <td>Comedy|Drama</td>\n",
       "    </tr>\n",
       "    <tr>\n",
       "      <th>62417</th>\n",
       "      <td>209155</td>\n",
       "      <td>Santosh Subramaniam (2008)</td>\n",
       "      <td>Action|Comedy|Romance</td>\n",
       "    </tr>\n",
       "    <tr>\n",
       "      <th>62420</th>\n",
       "      <td>209163</td>\n",
       "      <td>Bad Poems (2018)</td>\n",
       "      <td>Comedy|Drama</td>\n",
       "    </tr>\n",
       "  </tbody>\n",
       "</table>\n",
       "<p>16870 rows × 3 columns</p>\n",
       "</div>"
      ],
      "text/plain": [
       "       movieId                                     title  \\\n",
       "0            1                          Toy Story (1995)   \n",
       "2            3                   Grumpier Old Men (1995)   \n",
       "3            4                  Waiting to Exhale (1995)   \n",
       "4            5        Father of the Bride Part II (1995)   \n",
       "6            7                            Sabrina (1995)   \n",
       "...        ...                                       ...   \n",
       "62402   209119                    Up to the World (2014)   \n",
       "62411   209141  And They Lived Happily Ever After (1976)   \n",
       "62416   209153                       Happy Flight (2008)   \n",
       "62417   209155                Santosh Subramaniam (2008)   \n",
       "62420   209163                          Bad Poems (2018)   \n",
       "\n",
       "                                            genres  \n",
       "0      Adventure|Animation|Children|Comedy|Fantasy  \n",
       "2                                   Comedy|Romance  \n",
       "3                             Comedy|Drama|Romance  \n",
       "4                                           Comedy  \n",
       "6                                   Comedy|Romance  \n",
       "...                                            ...  \n",
       "62402                                 Comedy|Drama  \n",
       "62411                                       Comedy  \n",
       "62416                                 Comedy|Drama  \n",
       "62417                        Action|Comedy|Romance  \n",
       "62420                                 Comedy|Drama  \n",
       "\n",
       "[16870 rows x 3 columns]"
      ]
     },
     "execution_count": 23,
     "metadata": {},
     "output_type": "execute_result"
    }
   ],
   "source": [
    "movies[comedy_movies]"
   ]
  },
  {
   "cell_type": "code",
   "execution_count": 24,
   "metadata": {},
   "outputs": [
    {
     "name": "stderr",
     "output_type": "stream",
     "text": [
      "C:\\Users\\Admin\\AppData\\Local\\Temp\\ipykernel_27156\\372989128.py:1: UserWarning: This pattern is interpreted as a regular expression, and has match groups. To actually get the groups, use str.extract.\n",
      "  nonlisted_movies = movies['genres'].str.contains('(no genres listed)')\n"
     ]
    },
    {
     "data": {
      "text/plain": [
       "(62423,)"
      ]
     },
     "execution_count": 24,
     "metadata": {},
     "output_type": "execute_result"
    }
   ],
   "source": [
    "nonlisted_movies = movies['genres'].str.contains('(no genres listed)')\n",
    "nonlisted_movies.shape"
   ]
  },
  {
   "cell_type": "code",
   "execution_count": 25,
   "metadata": {},
   "outputs": [
    {
     "data": {
      "application/vnd.microsoft.datawrangler.viewer.v0+json": {
       "columns": [
        {
         "name": "index",
         "rawType": "int64",
         "type": "integer"
        },
        {
         "name": "movieId",
         "rawType": "int64",
         "type": "integer"
        },
        {
         "name": "title",
         "rawType": "object",
         "type": "string"
        },
        {
         "name": "genres",
         "rawType": "object",
         "type": "string"
        }
       ],
       "conversionMethod": "pd.DataFrame",
       "ref": "52597283-007a-4913-9b67-a7ac29f54c5d",
       "rows": [
        [
         "15881",
         "83773",
         "Away with Words (San tiao ren) (1999)",
         "(no genres listed)"
        ],
        [
         "16060",
         "84768",
         "Glitterbug (1994)",
         "(no genres listed)"
        ],
        [
         "16351",
         "86493",
         "Age of the Earth, The (A Idade da Terra) (1980)",
         "(no genres listed)"
        ],
        [
         "16491",
         "87061",
         "Trails (Veredas) (1978)",
         "(no genres listed)"
        ],
        [
         "17404",
         "91246",
         "Milky Way (Tejút) (2007)",
         "(no genres listed)"
        ],
        [
         "17706",
         "92435",
         "Dancing Hawk, The (Tanczacy jastrzab) (1978)",
         "(no genres listed)"
        ],
        [
         "17740",
         "92641",
         "Warsaw Bridge (Pont de Varsòvia) (1990)",
         "(no genres listed)"
        ],
        [
         "18075",
         "94431",
         "Ella Lola, a la Trilby (1898)",
         "(no genres listed)"
        ],
        [
         "18290",
         "95750",
         "Promise of the Flesh (Yukcheui yaksok) (1975)",
         "(no genres listed)"
        ],
        [
         "18412",
         "96479",
         "Nocturno 29 (1968)",
         "(no genres listed)"
        ],
        [
         "18465",
         "96651",
         "Les hautes solitudes (1974)",
         "(no genres listed)"
        ],
        [
         "22117",
         "113545",
         "Primus Hallucino-Genetics Live 2004 (2004)",
         "(no genres listed)"
        ],
        [
         "22308",
         "114335",
         "La cravate (1957)",
         "(no genres listed)"
        ],
        [
         "22404",
         "114725",
         "Study in Choreography for Camera, A (1945)",
         "(no genres listed)"
        ],
        [
         "22461",
         "115004",
         "It's My Mother's Birthday Today (2008)",
         "(no genres listed)"
        ],
        [
         "22462",
         "115006",
         "Spare Bed-Room (1969)",
         "(no genres listed)"
        ],
        [
         "22640",
         "115893",
         "Madame Bovary (2000)",
         "(no genres listed)"
        ],
        [
         "22714",
         "116046",
         "Christmas Oranges (2012)",
         "(no genres listed)"
        ],
        [
         "22718",
         "116054",
         "Clockwork Mice (1995)",
         "(no genres listed)"
        ],
        [
         "22739",
         "116096",
         "Lettera Amorosa (1995)",
         "(no genres listed)"
        ],
        [
         "22740",
         "116098",
         "Passeio com Johnny Guitar (1996)",
         "(no genres listed)"
        ],
        [
         "22741",
         "116100",
         "Conserva Acabada (1990)",
         "(no genres listed)"
        ],
        [
         "22753",
         "116126",
         "Complicit (2013)",
         "(no genres listed)"
        ],
        [
         "22802",
         "116237",
         "Conquest of Cochise (1953)",
         "(no genres listed)"
        ],
        [
         "22826",
         "116287",
         "Crime and Punishment, USA (1959)",
         "(no genres listed)"
        ],
        [
         "22854",
         "116347",
         "Danger Zone (1996)",
         "(no genres listed)"
        ],
        [
         "22872",
         "116425",
         "Ecstasy in Entropy (1999)",
         "(no genres listed)"
        ],
        [
         "22899",
         "116479",
         "Let's Spend the Night Together (1982)",
         "(no genres listed)"
        ],
        [
         "22925",
         "116531",
         "Say It with Songs (1929)",
         "(no genres listed)"
        ],
        [
         "22974",
         "116704",
         "Zanjeer (1973)",
         "(no genres listed)"
        ],
        [
         "23067",
         "116917",
         "Whoregasm (1988)",
         "(no genres listed)"
        ],
        [
         "23070",
         "116923",
         "Kiss Me Goodbye (1986)",
         "(no genres listed)"
        ],
        [
         "23083",
         "116949",
         "Thrust in Me (1985)",
         "(no genres listed)"
        ],
        [
         "23086",
         "116955",
         "The Wild World of Lydia Lunch (1983)",
         "(no genres listed)"
        ],
        [
         "23163",
         "117316",
         "Fillmore (1972)",
         "(no genres listed)"
        ],
        [
         "23344",
         "117722",
         "The Forgotten Faces (1961)",
         "(no genres listed)"
        ],
        [
         "23364",
         "117845",
         "T,O,U,C,H,I,N,G (1969)",
         "(no genres listed)"
        ],
        [
         "23365",
         "117847",
         "Little Hamlet (1960)",
         "(no genres listed)"
        ],
        [
         "23374",
         "117865",
         "The Menacing Eye (1960)",
         "(no genres listed)"
        ],
        [
         "23524",
         "118340",
         "In Order Not to Be Here (2002)",
         "(no genres listed)"
        ],
        [
         "23538",
         "118448",
         "The Hearts of Age (1934)",
         "(no genres listed)"
        ],
        [
         "23592",
         "118692",
         "A True Mob Story (1998)",
         "(no genres listed)"
        ],
        [
         "23606",
         "118728",
         "Un centesimo di secondo (1981)",
         "(no genres listed)"
        ],
        [
         "23675",
         "118878",
         "Sekirei (2008)",
         "(no genres listed)"
        ],
        [
         "23911",
         "119878",
         "Solomon Northup's Odyssey (1984)",
         "(no genres listed)"
        ],
        [
         "24108",
         "120612",
         "If I'm Lucky (1946)",
         "(no genres listed)"
        ],
        [
         "24475",
         "121581",
         "Blablablá (1975)",
         "(no genres listed)"
        ],
        [
         "24598",
         "121867",
         "Where Do We Go from Here? (1945)",
         "(no genres listed)"
        ],
        [
         "24656",
         "122001",
         "Sally (1929)",
         "(no genres listed)"
        ],
        [
         "24865",
         "122482",
         "Howling VI: The Freaks (1991)",
         "(no genres listed)"
        ]
       ],
       "shape": {
        "columns": 3,
        "rows": 5062
       }
      },
      "text/html": [
       "<div>\n",
       "<style scoped>\n",
       "    .dataframe tbody tr th:only-of-type {\n",
       "        vertical-align: middle;\n",
       "    }\n",
       "\n",
       "    .dataframe tbody tr th {\n",
       "        vertical-align: top;\n",
       "    }\n",
       "\n",
       "    .dataframe thead th {\n",
       "        text-align: right;\n",
       "    }\n",
       "</style>\n",
       "<table border=\"1\" class=\"dataframe\">\n",
       "  <thead>\n",
       "    <tr style=\"text-align: right;\">\n",
       "      <th></th>\n",
       "      <th>movieId</th>\n",
       "      <th>title</th>\n",
       "      <th>genres</th>\n",
       "    </tr>\n",
       "  </thead>\n",
       "  <tbody>\n",
       "    <tr>\n",
       "      <th>15881</th>\n",
       "      <td>83773</td>\n",
       "      <td>Away with Words (San tiao ren) (1999)</td>\n",
       "      <td>(no genres listed)</td>\n",
       "    </tr>\n",
       "    <tr>\n",
       "      <th>16060</th>\n",
       "      <td>84768</td>\n",
       "      <td>Glitterbug (1994)</td>\n",
       "      <td>(no genres listed)</td>\n",
       "    </tr>\n",
       "    <tr>\n",
       "      <th>16351</th>\n",
       "      <td>86493</td>\n",
       "      <td>Age of the Earth, The (A Idade da Terra) (1980)</td>\n",
       "      <td>(no genres listed)</td>\n",
       "    </tr>\n",
       "    <tr>\n",
       "      <th>16491</th>\n",
       "      <td>87061</td>\n",
       "      <td>Trails (Veredas) (1978)</td>\n",
       "      <td>(no genres listed)</td>\n",
       "    </tr>\n",
       "    <tr>\n",
       "      <th>17404</th>\n",
       "      <td>91246</td>\n",
       "      <td>Milky Way (Tejút) (2007)</td>\n",
       "      <td>(no genres listed)</td>\n",
       "    </tr>\n",
       "    <tr>\n",
       "      <th>...</th>\n",
       "      <td>...</td>\n",
       "      <td>...</td>\n",
       "      <td>...</td>\n",
       "    </tr>\n",
       "    <tr>\n",
       "      <th>62400</th>\n",
       "      <td>209101</td>\n",
       "      <td>Hua yang de nian hua (2001)</td>\n",
       "      <td>(no genres listed)</td>\n",
       "    </tr>\n",
       "    <tr>\n",
       "      <th>62401</th>\n",
       "      <td>209103</td>\n",
       "      <td>Tsar Ivan the Terrible (1991)</td>\n",
       "      <td>(no genres listed)</td>\n",
       "    </tr>\n",
       "    <tr>\n",
       "      <th>62407</th>\n",
       "      <td>209133</td>\n",
       "      <td>The Riot and the Dance (2018)</td>\n",
       "      <td>(no genres listed)</td>\n",
       "    </tr>\n",
       "    <tr>\n",
       "      <th>62415</th>\n",
       "      <td>209151</td>\n",
       "      <td>Mao Zedong 1949 (2019)</td>\n",
       "      <td>(no genres listed)</td>\n",
       "    </tr>\n",
       "    <tr>\n",
       "      <th>62421</th>\n",
       "      <td>209169</td>\n",
       "      <td>A Girl Thing (2001)</td>\n",
       "      <td>(no genres listed)</td>\n",
       "    </tr>\n",
       "  </tbody>\n",
       "</table>\n",
       "<p>5062 rows × 3 columns</p>\n",
       "</div>"
      ],
      "text/plain": [
       "       movieId                                            title  \\\n",
       "15881    83773            Away with Words (San tiao ren) (1999)   \n",
       "16060    84768                                Glitterbug (1994)   \n",
       "16351    86493  Age of the Earth, The (A Idade da Terra) (1980)   \n",
       "16491    87061                          Trails (Veredas) (1978)   \n",
       "17404    91246                         Milky Way (Tejút) (2007)   \n",
       "...        ...                                              ...   \n",
       "62400   209101                      Hua yang de nian hua (2001)   \n",
       "62401   209103                    Tsar Ivan the Terrible (1991)   \n",
       "62407   209133                    The Riot and the Dance (2018)   \n",
       "62415   209151                           Mao Zedong 1949 (2019)   \n",
       "62421   209169                              A Girl Thing (2001)   \n",
       "\n",
       "                   genres  \n",
       "15881  (no genres listed)  \n",
       "16060  (no genres listed)  \n",
       "16351  (no genres listed)  \n",
       "16491  (no genres listed)  \n",
       "17404  (no genres listed)  \n",
       "...                   ...  \n",
       "62400  (no genres listed)  \n",
       "62401  (no genres listed)  \n",
       "62407  (no genres listed)  \n",
       "62415  (no genres listed)  \n",
       "62421  (no genres listed)  \n",
       "\n",
       "[5062 rows x 3 columns]"
      ]
     },
     "execution_count": 25,
     "metadata": {},
     "output_type": "execute_result"
    }
   ],
   "source": [
    "movies[nonlisted_movies]"
   ]
  },
  {
   "cell_type": "markdown",
   "metadata": {},
   "source": [
    "rating"
   ]
  },
  {
   "cell_type": "code",
   "execution_count": 26,
   "metadata": {},
   "outputs": [],
   "source": [
    "del ratings['timestamp']"
   ]
  },
  {
   "cell_type": "code",
   "execution_count": 27,
   "metadata": {},
   "outputs": [
    {
     "data": {
      "application/vnd.microsoft.datawrangler.viewer.v0+json": {
       "columns": [
        {
         "name": "index",
         "rawType": "int64",
         "type": "integer"
        },
        {
         "name": "userId",
         "rawType": "int64",
         "type": "integer"
        },
        {
         "name": "movieId",
         "rawType": "int64",
         "type": "integer"
        },
        {
         "name": "rating",
         "rawType": "float64",
         "type": "float"
        }
       ],
       "conversionMethod": "pd.DataFrame",
       "ref": "9d2a8ed0-6b43-4c9a-be9e-be298d021130",
       "rows": [
        [
         "0",
         "1",
         "296",
         "5.0"
        ],
        [
         "1",
         "1",
         "306",
         "3.5"
        ],
        [
         "2",
         "1",
         "307",
         "5.0"
        ],
        [
         "3",
         "1",
         "665",
         "5.0"
        ],
        [
         "4",
         "1",
         "899",
         "3.5"
        ]
       ],
       "shape": {
        "columns": 3,
        "rows": 5
       }
      },
      "text/html": [
       "<div>\n",
       "<style scoped>\n",
       "    .dataframe tbody tr th:only-of-type {\n",
       "        vertical-align: middle;\n",
       "    }\n",
       "\n",
       "    .dataframe tbody tr th {\n",
       "        vertical-align: top;\n",
       "    }\n",
       "\n",
       "    .dataframe thead th {\n",
       "        text-align: right;\n",
       "    }\n",
       "</style>\n",
       "<table border=\"1\" class=\"dataframe\">\n",
       "  <thead>\n",
       "    <tr style=\"text-align: right;\">\n",
       "      <th></th>\n",
       "      <th>userId</th>\n",
       "      <th>movieId</th>\n",
       "      <th>rating</th>\n",
       "    </tr>\n",
       "  </thead>\n",
       "  <tbody>\n",
       "    <tr>\n",
       "      <th>0</th>\n",
       "      <td>1</td>\n",
       "      <td>296</td>\n",
       "      <td>5.0</td>\n",
       "    </tr>\n",
       "    <tr>\n",
       "      <th>1</th>\n",
       "      <td>1</td>\n",
       "      <td>306</td>\n",
       "      <td>3.5</td>\n",
       "    </tr>\n",
       "    <tr>\n",
       "      <th>2</th>\n",
       "      <td>1</td>\n",
       "      <td>307</td>\n",
       "      <td>5.0</td>\n",
       "    </tr>\n",
       "    <tr>\n",
       "      <th>3</th>\n",
       "      <td>1</td>\n",
       "      <td>665</td>\n",
       "      <td>5.0</td>\n",
       "    </tr>\n",
       "    <tr>\n",
       "      <th>4</th>\n",
       "      <td>1</td>\n",
       "      <td>899</td>\n",
       "      <td>3.5</td>\n",
       "    </tr>\n",
       "  </tbody>\n",
       "</table>\n",
       "</div>"
      ],
      "text/plain": [
       "   userId  movieId  rating\n",
       "0       1      296     5.0\n",
       "1       1      306     3.5\n",
       "2       1      307     5.0\n",
       "3       1      665     5.0\n",
       "4       1      899     3.5"
      ]
     },
     "execution_count": 27,
     "metadata": {},
     "output_type": "execute_result"
    }
   ],
   "source": [
    "ratings.head()"
   ]
  },
  {
   "cell_type": "code",
   "execution_count": 28,
   "metadata": {},
   "outputs": [
    {
     "data": {
      "application/vnd.microsoft.datawrangler.viewer.v0+json": {
       "columns": [
        {
         "name": "index",
         "rawType": "int64",
         "type": "integer"
        },
        {
         "name": "movieId",
         "rawType": "int64",
         "type": "integer"
        },
        {
         "name": "title",
         "rawType": "object",
         "type": "string"
        },
        {
         "name": "genres",
         "rawType": "object",
         "type": "string"
        }
       ],
       "conversionMethod": "pd.DataFrame",
       "ref": "1d412231-b1b9-4572-9df7-89fb609cb12a",
       "rows": [
        [
         "0",
         "1",
         "Toy Story (1995)",
         "Adventure|Animation|Children|Comedy|Fantasy"
        ],
        [
         "1",
         "2",
         "Jumanji (1995)",
         "Adventure|Children|Fantasy"
        ],
        [
         "2",
         "3",
         "Grumpier Old Men (1995)",
         "Comedy|Romance"
        ],
        [
         "3",
         "4",
         "Waiting to Exhale (1995)",
         "Comedy|Drama|Romance"
        ],
        [
         "4",
         "5",
         "Father of the Bride Part II (1995)",
         "Comedy"
        ]
       ],
       "shape": {
        "columns": 3,
        "rows": 5
       }
      },
      "text/html": [
       "<div>\n",
       "<style scoped>\n",
       "    .dataframe tbody tr th:only-of-type {\n",
       "        vertical-align: middle;\n",
       "    }\n",
       "\n",
       "    .dataframe tbody tr th {\n",
       "        vertical-align: top;\n",
       "    }\n",
       "\n",
       "    .dataframe thead th {\n",
       "        text-align: right;\n",
       "    }\n",
       "</style>\n",
       "<table border=\"1\" class=\"dataframe\">\n",
       "  <thead>\n",
       "    <tr style=\"text-align: right;\">\n",
       "      <th></th>\n",
       "      <th>movieId</th>\n",
       "      <th>title</th>\n",
       "      <th>genres</th>\n",
       "    </tr>\n",
       "  </thead>\n",
       "  <tbody>\n",
       "    <tr>\n",
       "      <th>0</th>\n",
       "      <td>1</td>\n",
       "      <td>Toy Story (1995)</td>\n",
       "      <td>Adventure|Animation|Children|Comedy|Fantasy</td>\n",
       "    </tr>\n",
       "    <tr>\n",
       "      <th>1</th>\n",
       "      <td>2</td>\n",
       "      <td>Jumanji (1995)</td>\n",
       "      <td>Adventure|Children|Fantasy</td>\n",
       "    </tr>\n",
       "    <tr>\n",
       "      <th>2</th>\n",
       "      <td>3</td>\n",
       "      <td>Grumpier Old Men (1995)</td>\n",
       "      <td>Comedy|Romance</td>\n",
       "    </tr>\n",
       "    <tr>\n",
       "      <th>3</th>\n",
       "      <td>4</td>\n",
       "      <td>Waiting to Exhale (1995)</td>\n",
       "      <td>Comedy|Drama|Romance</td>\n",
       "    </tr>\n",
       "    <tr>\n",
       "      <th>4</th>\n",
       "      <td>5</td>\n",
       "      <td>Father of the Bride Part II (1995)</td>\n",
       "      <td>Comedy</td>\n",
       "    </tr>\n",
       "  </tbody>\n",
       "</table>\n",
       "</div>"
      ],
      "text/plain": [
       "   movieId                               title  \\\n",
       "0        1                    Toy Story (1995)   \n",
       "1        2                      Jumanji (1995)   \n",
       "2        3             Grumpier Old Men (1995)   \n",
       "3        4            Waiting to Exhale (1995)   \n",
       "4        5  Father of the Bride Part II (1995)   \n",
       "\n",
       "                                        genres  \n",
       "0  Adventure|Animation|Children|Comedy|Fantasy  \n",
       "1                   Adventure|Children|Fantasy  \n",
       "2                               Comedy|Romance  \n",
       "3                         Comedy|Drama|Romance  \n",
       "4                                       Comedy  "
      ]
     },
     "execution_count": 28,
     "metadata": {},
     "output_type": "execute_result"
    }
   ],
   "source": [
    "movies.head()"
   ]
  },
  {
   "cell_type": "code",
   "execution_count": 29,
   "metadata": {},
   "outputs": [],
   "source": [
    "movies_ratings = pd.merge(movies, ratings, on='movieId', how='inner')"
   ]
  },
  {
   "cell_type": "code",
   "execution_count": 30,
   "metadata": {},
   "outputs": [
    {
     "data": {
      "application/vnd.microsoft.datawrangler.viewer.v0+json": {
       "columns": [
        {
         "name": "index",
         "rawType": "int64",
         "type": "integer"
        },
        {
         "name": "movieId",
         "rawType": "int64",
         "type": "integer"
        },
        {
         "name": "title",
         "rawType": "object",
         "type": "string"
        },
        {
         "name": "genres",
         "rawType": "object",
         "type": "string"
        },
        {
         "name": "userId",
         "rawType": "int64",
         "type": "integer"
        },
        {
         "name": "rating",
         "rawType": "float64",
         "type": "float"
        }
       ],
       "conversionMethod": "pd.DataFrame",
       "ref": "434f2b3d-948a-4691-a319-b24e74afec1b",
       "rows": [
        [
         "0",
         "1",
         "Toy Story (1995)",
         "Adventure|Animation|Children|Comedy|Fantasy",
         "2",
         "3.5"
        ],
        [
         "1",
         "1",
         "Toy Story (1995)",
         "Adventure|Animation|Children|Comedy|Fantasy",
         "3",
         "4.0"
        ],
        [
         "2",
         "1",
         "Toy Story (1995)",
         "Adventure|Animation|Children|Comedy|Fantasy",
         "4",
         "3.0"
        ],
        [
         "3",
         "1",
         "Toy Story (1995)",
         "Adventure|Animation|Children|Comedy|Fantasy",
         "5",
         "4.0"
        ],
        [
         "4",
         "1",
         "Toy Story (1995)",
         "Adventure|Animation|Children|Comedy|Fantasy",
         "8",
         "4.0"
        ],
        [
         "5",
         "1",
         "Toy Story (1995)",
         "Adventure|Animation|Children|Comedy|Fantasy",
         "10",
         "3.5"
        ],
        [
         "6",
         "1",
         "Toy Story (1995)",
         "Adventure|Animation|Children|Comedy|Fantasy",
         "12",
         "4.0"
        ],
        [
         "7",
         "1",
         "Toy Story (1995)",
         "Adventure|Animation|Children|Comedy|Fantasy",
         "13",
         "4.0"
        ],
        [
         "8",
         "1",
         "Toy Story (1995)",
         "Adventure|Animation|Children|Comedy|Fantasy",
         "18",
         "3.0"
        ],
        [
         "9",
         "1",
         "Toy Story (1995)",
         "Adventure|Animation|Children|Comedy|Fantasy",
         "26",
         "3.0"
        ],
        [
         "10",
         "1",
         "Toy Story (1995)",
         "Adventure|Animation|Children|Comedy|Fantasy",
         "36",
         "5.0"
        ],
        [
         "11",
         "1",
         "Toy Story (1995)",
         "Adventure|Animation|Children|Comedy|Fantasy",
         "43",
         "4.0"
        ],
        [
         "12",
         "1",
         "Toy Story (1995)",
         "Adventure|Animation|Children|Comedy|Fantasy",
         "47",
         "2.0"
        ],
        [
         "13",
         "1",
         "Toy Story (1995)",
         "Adventure|Animation|Children|Comedy|Fantasy",
         "50",
         "4.0"
        ],
        [
         "14",
         "1",
         "Toy Story (1995)",
         "Adventure|Animation|Children|Comedy|Fantasy",
         "51",
         "4.0"
        ],
        [
         "15",
         "1",
         "Toy Story (1995)",
         "Adventure|Animation|Children|Comedy|Fantasy",
         "56",
         "2.0"
        ],
        [
         "16",
         "1",
         "Toy Story (1995)",
         "Adventure|Animation|Children|Comedy|Fantasy",
         "57",
         "4.0"
        ],
        [
         "17",
         "1",
         "Toy Story (1995)",
         "Adventure|Animation|Children|Comedy|Fantasy",
         "64",
         "4.0"
        ],
        [
         "18",
         "1",
         "Toy Story (1995)",
         "Adventure|Animation|Children|Comedy|Fantasy",
         "66",
         "3.0"
        ],
        [
         "19",
         "1",
         "Toy Story (1995)",
         "Adventure|Animation|Children|Comedy|Fantasy",
         "67",
         "3.0"
        ],
        [
         "20",
         "1",
         "Toy Story (1995)",
         "Adventure|Animation|Children|Comedy|Fantasy",
         "69",
         "3.0"
        ],
        [
         "21",
         "1",
         "Toy Story (1995)",
         "Adventure|Animation|Children|Comedy|Fantasy",
         "73",
         "3.0"
        ],
        [
         "22",
         "1",
         "Toy Story (1995)",
         "Adventure|Animation|Children|Comedy|Fantasy",
         "75",
         "5.0"
        ],
        [
         "23",
         "1",
         "Toy Story (1995)",
         "Adventure|Animation|Children|Comedy|Fantasy",
         "77",
         "4.0"
        ],
        [
         "24",
         "1",
         "Toy Story (1995)",
         "Adventure|Animation|Children|Comedy|Fantasy",
         "82",
         "4.0"
        ],
        [
         "25",
         "1",
         "Toy Story (1995)",
         "Adventure|Animation|Children|Comedy|Fantasy",
         "86",
         "5.0"
        ],
        [
         "26",
         "1",
         "Toy Story (1995)",
         "Adventure|Animation|Children|Comedy|Fantasy",
         "90",
         "5.0"
        ],
        [
         "27",
         "1",
         "Toy Story (1995)",
         "Adventure|Animation|Children|Comedy|Fantasy",
         "93",
         "5.0"
        ],
        [
         "28",
         "1",
         "Toy Story (1995)",
         "Adventure|Animation|Children|Comedy|Fantasy",
         "95",
         "5.0"
        ],
        [
         "29",
         "1",
         "Toy Story (1995)",
         "Adventure|Animation|Children|Comedy|Fantasy",
         "96",
         "5.0"
        ],
        [
         "30",
         "1",
         "Toy Story (1995)",
         "Adventure|Animation|Children|Comedy|Fantasy",
         "98",
         "5.0"
        ],
        [
         "31",
         "1",
         "Toy Story (1995)",
         "Adventure|Animation|Children|Comedy|Fantasy",
         "109",
         "4.0"
        ],
        [
         "32",
         "1",
         "Toy Story (1995)",
         "Adventure|Animation|Children|Comedy|Fantasy",
         "110",
         "4.0"
        ],
        [
         "33",
         "1",
         "Toy Story (1995)",
         "Adventure|Animation|Children|Comedy|Fantasy",
         "111",
         "4.5"
        ],
        [
         "34",
         "1",
         "Toy Story (1995)",
         "Adventure|Animation|Children|Comedy|Fantasy",
         "112",
         "3.0"
        ],
        [
         "35",
         "1",
         "Toy Story (1995)",
         "Adventure|Animation|Children|Comedy|Fantasy",
         "120",
         "5.0"
        ],
        [
         "36",
         "1",
         "Toy Story (1995)",
         "Adventure|Animation|Children|Comedy|Fantasy",
         "125",
         "4.0"
        ],
        [
         "37",
         "1",
         "Toy Story (1995)",
         "Adventure|Animation|Children|Comedy|Fantasy",
         "127",
         "5.0"
        ],
        [
         "38",
         "1",
         "Toy Story (1995)",
         "Adventure|Animation|Children|Comedy|Fantasy",
         "130",
         "3.0"
        ],
        [
         "39",
         "1",
         "Toy Story (1995)",
         "Adventure|Animation|Children|Comedy|Fantasy",
         "132",
         "4.0"
        ],
        [
         "40",
         "1",
         "Toy Story (1995)",
         "Adventure|Animation|Children|Comedy|Fantasy",
         "143",
         "5.0"
        ],
        [
         "41",
         "1",
         "Toy Story (1995)",
         "Adventure|Animation|Children|Comedy|Fantasy",
         "147",
         "4.0"
        ],
        [
         "42",
         "1",
         "Toy Story (1995)",
         "Adventure|Animation|Children|Comedy|Fantasy",
         "152",
         "5.0"
        ],
        [
         "43",
         "1",
         "Toy Story (1995)",
         "Adventure|Animation|Children|Comedy|Fantasy",
         "158",
         "5.0"
        ],
        [
         "44",
         "1",
         "Toy Story (1995)",
         "Adventure|Animation|Children|Comedy|Fantasy",
         "160",
         "4.5"
        ],
        [
         "45",
         "1",
         "Toy Story (1995)",
         "Adventure|Animation|Children|Comedy|Fantasy",
         "162",
         "5.0"
        ],
        [
         "46",
         "1",
         "Toy Story (1995)",
         "Adventure|Animation|Children|Comedy|Fantasy",
         "163",
         "3.5"
        ],
        [
         "47",
         "1",
         "Toy Story (1995)",
         "Adventure|Animation|Children|Comedy|Fantasy",
         "166",
         "4.0"
        ],
        [
         "48",
         "1",
         "Toy Story (1995)",
         "Adventure|Animation|Children|Comedy|Fantasy",
         "167",
         "4.0"
        ],
        [
         "49",
         "1",
         "Toy Story (1995)",
         "Adventure|Animation|Children|Comedy|Fantasy",
         "171",
         "4.5"
        ]
       ],
       "shape": {
        "columns": 5,
        "rows": 25000095
       }
      },
      "text/html": [
       "<div>\n",
       "<style scoped>\n",
       "    .dataframe tbody tr th:only-of-type {\n",
       "        vertical-align: middle;\n",
       "    }\n",
       "\n",
       "    .dataframe tbody tr th {\n",
       "        vertical-align: top;\n",
       "    }\n",
       "\n",
       "    .dataframe thead th {\n",
       "        text-align: right;\n",
       "    }\n",
       "</style>\n",
       "<table border=\"1\" class=\"dataframe\">\n",
       "  <thead>\n",
       "    <tr style=\"text-align: right;\">\n",
       "      <th></th>\n",
       "      <th>movieId</th>\n",
       "      <th>title</th>\n",
       "      <th>genres</th>\n",
       "      <th>userId</th>\n",
       "      <th>rating</th>\n",
       "    </tr>\n",
       "  </thead>\n",
       "  <tbody>\n",
       "    <tr>\n",
       "      <th>0</th>\n",
       "      <td>1</td>\n",
       "      <td>Toy Story (1995)</td>\n",
       "      <td>Adventure|Animation|Children|Comedy|Fantasy</td>\n",
       "      <td>2</td>\n",
       "      <td>3.5</td>\n",
       "    </tr>\n",
       "    <tr>\n",
       "      <th>1</th>\n",
       "      <td>1</td>\n",
       "      <td>Toy Story (1995)</td>\n",
       "      <td>Adventure|Animation|Children|Comedy|Fantasy</td>\n",
       "      <td>3</td>\n",
       "      <td>4.0</td>\n",
       "    </tr>\n",
       "    <tr>\n",
       "      <th>2</th>\n",
       "      <td>1</td>\n",
       "      <td>Toy Story (1995)</td>\n",
       "      <td>Adventure|Animation|Children|Comedy|Fantasy</td>\n",
       "      <td>4</td>\n",
       "      <td>3.0</td>\n",
       "    </tr>\n",
       "    <tr>\n",
       "      <th>3</th>\n",
       "      <td>1</td>\n",
       "      <td>Toy Story (1995)</td>\n",
       "      <td>Adventure|Animation|Children|Comedy|Fantasy</td>\n",
       "      <td>5</td>\n",
       "      <td>4.0</td>\n",
       "    </tr>\n",
       "    <tr>\n",
       "      <th>4</th>\n",
       "      <td>1</td>\n",
       "      <td>Toy Story (1995)</td>\n",
       "      <td>Adventure|Animation|Children|Comedy|Fantasy</td>\n",
       "      <td>8</td>\n",
       "      <td>4.0</td>\n",
       "    </tr>\n",
       "    <tr>\n",
       "      <th>...</th>\n",
       "      <td>...</td>\n",
       "      <td>...</td>\n",
       "      <td>...</td>\n",
       "      <td>...</td>\n",
       "      <td>...</td>\n",
       "    </tr>\n",
       "    <tr>\n",
       "      <th>25000090</th>\n",
       "      <td>209157</td>\n",
       "      <td>We (2018)</td>\n",
       "      <td>Drama</td>\n",
       "      <td>119571</td>\n",
       "      <td>1.5</td>\n",
       "    </tr>\n",
       "    <tr>\n",
       "      <th>25000091</th>\n",
       "      <td>209159</td>\n",
       "      <td>Window of the Soul (2001)</td>\n",
       "      <td>Documentary</td>\n",
       "      <td>115835</td>\n",
       "      <td>3.0</td>\n",
       "    </tr>\n",
       "    <tr>\n",
       "      <th>25000092</th>\n",
       "      <td>209163</td>\n",
       "      <td>Bad Poems (2018)</td>\n",
       "      <td>Comedy|Drama</td>\n",
       "      <td>6964</td>\n",
       "      <td>4.5</td>\n",
       "    </tr>\n",
       "    <tr>\n",
       "      <th>25000093</th>\n",
       "      <td>209169</td>\n",
       "      <td>A Girl Thing (2001)</td>\n",
       "      <td>(no genres listed)</td>\n",
       "      <td>119571</td>\n",
       "      <td>3.0</td>\n",
       "    </tr>\n",
       "    <tr>\n",
       "      <th>25000094</th>\n",
       "      <td>209171</td>\n",
       "      <td>Women of Devil's Island (1962)</td>\n",
       "      <td>Action|Adventure|Drama</td>\n",
       "      <td>119571</td>\n",
       "      <td>3.0</td>\n",
       "    </tr>\n",
       "  </tbody>\n",
       "</table>\n",
       "<p>25000095 rows × 5 columns</p>\n",
       "</div>"
      ],
      "text/plain": [
       "          movieId                           title  \\\n",
       "0               1                Toy Story (1995)   \n",
       "1               1                Toy Story (1995)   \n",
       "2               1                Toy Story (1995)   \n",
       "3               1                Toy Story (1995)   \n",
       "4               1                Toy Story (1995)   \n",
       "...           ...                             ...   \n",
       "25000090   209157                       We (2018)   \n",
       "25000091   209159       Window of the Soul (2001)   \n",
       "25000092   209163                Bad Poems (2018)   \n",
       "25000093   209169             A Girl Thing (2001)   \n",
       "25000094   209171  Women of Devil's Island (1962)   \n",
       "\n",
       "                                               genres  userId  rating  \n",
       "0         Adventure|Animation|Children|Comedy|Fantasy       2     3.5  \n",
       "1         Adventure|Animation|Children|Comedy|Fantasy       3     4.0  \n",
       "2         Adventure|Animation|Children|Comedy|Fantasy       4     3.0  \n",
       "3         Adventure|Animation|Children|Comedy|Fantasy       5     4.0  \n",
       "4         Adventure|Animation|Children|Comedy|Fantasy       8     4.0  \n",
       "...                                               ...     ...     ...  \n",
       "25000090                                        Drama  119571     1.5  \n",
       "25000091                                  Documentary  115835     3.0  \n",
       "25000092                                 Comedy|Drama    6964     4.5  \n",
       "25000093                           (no genres listed)  119571     3.0  \n",
       "25000094                       Action|Adventure|Drama  119571     3.0  \n",
       "\n",
       "[25000095 rows x 5 columns]"
      ]
     },
     "execution_count": 30,
     "metadata": {},
     "output_type": "execute_result"
    }
   ],
   "source": [
    "movies_ratings"
   ]
  },
  {
   "cell_type": "code",
   "execution_count": 31,
   "metadata": {},
   "outputs": [
    {
     "data": {
      "text/plain": [
       "title\n",
       "Full of Grace (2015)            5.0\n",
       "Geordie (1955)                  5.0\n",
       "Garfield In Paradise (1986)     5.0\n",
       "Lost Woods (2012)               5.0\n",
       "Garfield in the Rough (1984)    5.0\n",
       "                               ... \n",
       "Caro Gorbaciov (1988)           0.5\n",
       "Don't Let Go (2019)             0.5\n",
       "Ice Queen (2005)                0.5\n",
       "The Lodge (2019)                0.5\n",
       "Robot Wars (1993)               0.5\n",
       "Name: rating, Length: 58958, dtype: float64"
      ]
     },
     "execution_count": 31,
     "metadata": {},
     "output_type": "execute_result"
    }
   ],
   "source": [
    "rated_movies_rank = movies_ratings.groupby('title')['rating'].mean().sort_values(ascending=False)\n",
    "rated_movies_rank"
   ]
  },
  {
   "cell_type": "code",
   "execution_count": 33,
   "metadata": {},
   "outputs": [
    {
     "data": {
      "text/plain": [
       "title\n",
       "Forrest Gump (1994)                                        81491\n",
       "Shawshank Redemption, The (1994)                           81482\n",
       "Pulp Fiction (1994)                                        79672\n",
       "Silence of the Lambs, The (1991)                           74127\n",
       "Matrix, The (1999)                                         72674\n",
       "                                                           ...  \n",
       "Kojot (2017)                                                   1\n",
       "Kochavva Paulo Ayyappa Coelho (2016)                           1\n",
       "Knuckleface Jones (1999)                                       1\n",
       "The Lodge (2019)                                               1\n",
       "\"BLOW THE NIGHT!\" Let's Spend the Night Together (1983)        1\n",
       "Length: 58958, dtype: int64"
      ]
     },
     "execution_count": 33,
     "metadata": {},
     "output_type": "execute_result"
    }
   ],
   "source": [
    "most_rated_rank = movies_ratings.groupby('title').size().sort_values(ascending=False)\n",
    "most_rated_rank"
   ]
  },
  {
   "cell_type": "code",
   "execution_count": 34,
   "metadata": {},
   "outputs": [
    {
     "data": {
      "text/plain": [
       "(58958,)"
      ]
     },
     "execution_count": 34,
     "metadata": {},
     "output_type": "execute_result"
    }
   ],
   "source": [
    "most_rated_rank.shape"
   ]
  },
  {
   "cell_type": "code",
   "execution_count": 35,
   "metadata": {},
   "outputs": [
    {
     "data": {
      "text/plain": [
       "count    58958.000000\n",
       "mean       424.032277\n",
       "std       2479.744597\n",
       "min          1.000000\n",
       "25%          2.000000\n",
       "50%          6.000000\n",
       "75%         36.750000\n",
       "max      81491.000000\n",
       "dtype: float64"
      ]
     },
     "execution_count": 35,
     "metadata": {},
     "output_type": "execute_result"
    }
   ],
   "source": [
    "most_rated_rank.describe()"
   ]
  },
  {
   "cell_type": "code",
   "execution_count": 36,
   "metadata": {},
   "outputs": [],
   "source": [
    "accepted_movies = most_rated_rank[most_rated_rank > 10].index.tolist()"
   ]
  },
  {
   "cell_type": "code",
   "execution_count": 37,
   "metadata": {},
   "outputs": [
    {
     "data": {
      "text/plain": [
       "['Forrest Gump (1994)',\n",
       " 'Shawshank Redemption, The (1994)',\n",
       " 'Pulp Fiction (1994)',\n",
       " 'Silence of the Lambs, The (1991)',\n",
       " 'Matrix, The (1999)',\n",
       " 'Star Wars: Episode IV - A New Hope (1977)',\n",
       " 'Jurassic Park (1993)',\n",
       " \"Schindler's List (1993)\",\n",
       " 'Braveheart (1995)',\n",
       " 'Fight Club (1999)',\n",
       " 'Terminator 2: Judgment Day (1991)',\n",
       " 'Star Wars: Episode V - The Empire Strikes Back (1980)',\n",
       " 'Toy Story (1995)',\n",
       " 'Lord of the Rings: The Fellowship of the Ring, The (2001)',\n",
       " 'Usual Suspects, The (1995)',\n",
       " 'Star Wars: Episode VI - Return of the Jedi (1983)',\n",
       " 'Raiders of the Lost Ark (Indiana Jones and the Raiders of the Lost Ark) (1981)',\n",
       " 'American Beauty (1999)',\n",
       " 'Godfather, The (1972)',\n",
       " 'Lord of the Rings: The Two Towers, The (2002)',\n",
       " 'Lord of the Rings: The Return of the King, The (2003)',\n",
       " 'Seven (a.k.a. Se7en) (1995)',\n",
       " 'Fugitive, The (1993)',\n",
       " 'Back to the Future (1985)',\n",
       " 'Independence Day (a.k.a. ID4) (1996)',\n",
       " 'Apollo 13 (1995)',\n",
       " 'Fargo (1996)',\n",
       " 'Twelve Monkeys (a.k.a. 12 Monkeys) (1995)',\n",
       " 'Saving Private Ryan (1998)',\n",
       " 'Sixth Sense, The (1999)',\n",
       " 'Gladiator (2000)',\n",
       " 'Batman (1989)',\n",
       " 'Aladdin (1992)',\n",
       " 'Lion King, The (1994)',\n",
       " 'Shrek (2001)',\n",
       " 'True Lies (1994)',\n",
       " 'Dances with Wolves (1990)',\n",
       " 'Dark Knight, The (2008)',\n",
       " 'Speed (1994)',\n",
       " 'Memento (2000)',\n",
       " 'Men in Black (a.k.a. MIB) (1997)',\n",
       " 'Good Will Hunting (1997)',\n",
       " 'Inception (2010)',\n",
       " 'Terminator, The (1984)',\n",
       " 'Indiana Jones and the Last Crusade (1989)',\n",
       " 'Princess Bride, The (1987)',\n",
       " 'Monty Python and the Holy Grail (1975)',\n",
       " 'Titanic (1997)',\n",
       " 'Groundhog Day (1993)',\n",
       " 'Ace Ventura: Pet Detective (1994)',\n",
       " 'Pirates of the Caribbean: The Curse of the Black Pearl (2003)',\n",
       " 'Mission: Impossible (1996)',\n",
       " 'Die Hard (1988)',\n",
       " 'Blade Runner (1982)',\n",
       " 'Alien (1979)',\n",
       " \"One Flew Over the Cuckoo's Nest (1975)\",\n",
       " 'Beauty and the Beast (1991)',\n",
       " 'Finding Nemo (2003)',\n",
       " 'Reservoir Dogs (1992)',\n",
       " 'Mask, The (1994)',\n",
       " 'E.T. the Extra-Terrestrial (1982)',\n",
       " 'Monsters, Inc. (2001)',\n",
       " \"Amelie (Fabuleux destin d'Amélie Poulain, Le) (2001)\",\n",
       " 'Pretty Woman (1990)',\n",
       " 'Mrs. Doubtfire (1993)',\n",
       " 'Godfather: Part II, The (1974)',\n",
       " 'Kill Bill: Vol. 1 (2003)',\n",
       " 'Truman Show, The (1998)',\n",
       " 'Die Hard: With a Vengeance (1995)',\n",
       " 'Léon: The Professional (a.k.a. The Professional) (Léon) (1994)',\n",
       " 'Eternal Sunshine of the Spotless Mind (2004)',\n",
       " 'Fifth Element, The (1997)',\n",
       " 'Goodfellas (1990)',\n",
       " 'X-Men (2000)',\n",
       " 'Ghostbusters (a.k.a. Ghost Busters) (1984)',\n",
       " 'Rock, The (1996)',\n",
       " 'Dumb & Dumber (Dumb and Dumber) (1994)',\n",
       " 'Star Wars: Episode I - The Phantom Menace (1999)',\n",
       " \"Ocean's Eleven (2001)\",\n",
       " 'Beautiful Mind, A (2001)',\n",
       " 'Aliens (1986)',\n",
       " 'Babe (1995)',\n",
       " 'American History X (1998)',\n",
       " 'Batman Forever (1995)',\n",
       " 'Twister (1996)',\n",
       " 'Stargate (1994)',\n",
       " 'Batman Begins (2005)',\n",
       " 'Incredibles, The (2004)',\n",
       " 'Green Mile, The (1999)',\n",
       " 'Minority Report (2002)',\n",
       " 'Spider-Man (2002)',\n",
       " 'Being John Malkovich (1999)',\n",
       " 'Shining, The (1980)',\n",
       " 'Clockwork Orange, A (1971)',\n",
       " 'Home Alone (1990)',\n",
       " 'Taxi Driver (1976)',\n",
       " 'Bourne Identity, The (2002)',\n",
       " '2001: A Space Odyssey (1968)',\n",
       " 'Trainspotting (1996)',\n",
       " 'Ghost (1990)',\n",
       " 'Kill Bill: Vol. 2 (2004)',\n",
       " 'GoldenEye (1995)',\n",
       " 'Sleepless in Seattle (1993)',\n",
       " 'Willy Wonka & the Chocolate Factory (1971)',\n",
       " 'Catch Me If You Can (2002)',\n",
       " 'Crouching Tiger, Hidden Dragon (Wo hu cang long) (2000)',\n",
       " 'Big Lebowski, The (1998)',\n",
       " 'Rain Man (1988)',\n",
       " 'Clear and Present Danger (1994)',\n",
       " 'L.A. Confidential (1997)',\n",
       " 'Interview with the Vampire: The Vampire Chronicles (1994)',\n",
       " 'Waterworld (1995)',\n",
       " 'WALL·E (2008)',\n",
       " 'Donnie Darko (2001)',\n",
       " \"Ferris Bueller's Day Off (1986)\",\n",
       " 'Casablanca (1942)',\n",
       " 'Dr. Strangelove or: How I Learned to Stop Worrying and Love the Bomb (1964)',\n",
       " 'Four Weddings and a Funeral (1994)',\n",
       " 'Toy Story 2 (1999)',\n",
       " 'Apocalypse Now (1979)',\n",
       " 'Clueless (1995)',\n",
       " \"Harry Potter and the Sorcerer's Stone (a.k.a. Harry Potter and the Philosopher's Stone) (2001)\",\n",
       " 'V for Vendetta (2006)',\n",
       " 'Full Metal Jacket (1987)',\n",
       " 'Iron Man (2008)',\n",
       " 'Departed, The (2006)',\n",
       " \"There's Something About Mary (1998)\",\n",
       " 'Up (2009)',\n",
       " 'Snatch (2000)',\n",
       " 'Cast Away (2000)',\n",
       " 'Dead Poets Society (1989)',\n",
       " 'Austin Powers: The Spy Who Shagged Me (1999)',\n",
       " 'American Pie (1999)',\n",
       " 'Outbreak (1995)',\n",
       " 'Wizard of Oz, The (1939)',\n",
       " 'Star Trek: Generations (1994)',\n",
       " 'Heat (1995)',\n",
       " 'Avatar (2009)',\n",
       " 'Indiana Jones and the Temple of Doom (1984)',\n",
       " 'Jumanji (1995)',\n",
       " 'Jaws (1975)',\n",
       " 'Firm, The (1993)',\n",
       " 'Breakfast Club, The (1985)',\n",
       " 'Shakespeare in Love (1998)',\n",
       " 'Clerks (1994)',\n",
       " 'Life Is Beautiful (La Vita è bella) (1997)',\n",
       " 'Edward Scissorhands (1990)',\n",
       " 'O Brother, Where Art Thou? (2000)',\n",
       " 'Natural Born Killers (1994)',\n",
       " 'Austin Powers: International Man of Mystery (1997)',\n",
       " 'As Good as It Gets (1997)',\n",
       " 'Cliffhanger (1993)',\n",
       " 'Inglourious Basterds (2009)',\n",
       " 'When Harry Met Sally... (1989)',\n",
       " 'Matrix Reloaded, The (2003)',\n",
       " 'Net, The (1995)',\n",
       " 'Back to the Future Part II (1989)',\n",
       " 'Jerry Maguire (1996)',\n",
       " 'Office Space (1999)',\n",
       " 'Prestige, The (2006)',\n",
       " 'Spirited Away (Sen to Chihiro no kamikakushi) (2001)',\n",
       " 'Stand by Me (1986)',\n",
       " 'Armageddon (1998)',\n",
       " 'Interstellar (2014)',\n",
       " 'Harry Potter and the Prisoner of Azkaban (2004)',\n",
       " \"Monty Python's Life of Brian (1979)\",\n",
       " \"Bug's Life, A (1998)\",\n",
       " 'Total Recall (1990)',\n",
       " 'Crimson Tide (1995)',\n",
       " 'Get Shorty (1995)',\n",
       " 'Sin City (2005)',\n",
       " 'Hunt for Red October, The (1990)',\n",
       " 'Psycho (1960)',\n",
       " 'While You Were Sleeping (1995)',\n",
       " 'Requiem for a Dream (2000)',\n",
       " 'Harry Potter and the Chamber of Secrets (2002)',\n",
       " 'Nightmare Before Christmas, The (1993)',\n",
       " 'Who Framed Roger Rabbit? (1988)',\n",
       " 'Gattaca (1997)',\n",
       " 'Back to the Future Part III (1990)',\n",
       " 'Contact (1997)',\n",
       " 'Ace Ventura: When Nature Calls (1995)',\n",
       " 'Amadeus (1984)',\n",
       " 'Star Wars: Episode II - Attack of the Clones (2002)',\n",
       " 'Beetlejuice (1988)',\n",
       " 'Birdcage, The (1996)',\n",
       " 'Spider-Man 2 (2004)',\n",
       " 'Django Unchained (2012)',\n",
       " 'Broken Arrow (1996)',\n",
       " 'Airplane! (1980)',\n",
       " 'Bourne Ultimatum, The (2007)',\n",
       " 'Blues Brothers, The (1980)',\n",
       " 'Casino Royale (2006)',\n",
       " 'Top Gun (1986)',\n",
       " 'Big (1988)',\n",
       " 'Lost in Translation (2003)',\n",
       " 'Shrek 2 (2004)',\n",
       " 'Rear Window (1954)',\n",
       " 'Face/Off (1997)',\n",
       " 'Bourne Supremacy, The (2004)',\n",
       " 'Leaving Las Vegas (1995)',\n",
       " 'Meet the Parents (2000)',\n",
       " 'X2: X-Men United (2003)',\n",
       " 'Dark Knight Rises, The (2012)',\n",
       " 'Philadelphia (1993)',\n",
       " 'City of God (Cidade de Deus) (2002)',\n",
       " 'Almost Famous (2000)',\n",
       " \"Pan's Labyrinth (Laberinto del fauno, El) (2006)\",\n",
       " 'Sense and Sensibility (1995)',\n",
       " 'Fish Called Wanda, A (1988)',\n",
       " 'Shaun of the Dead (2004)',\n",
       " 'Blair Witch Project, The (1999)',\n",
       " 'Dead Man Walking (1995)',\n",
       " 'Lock, Stock & Two Smoking Barrels (1998)',\n",
       " 'Star Trek: First Contact (1996)',\n",
       " 'Happy Gilmore (1996)',\n",
       " 'Ratatouille (2007)',\n",
       " 'Nutty Professor, The (1996)',\n",
       " 'Mummy, The (1999)',\n",
       " 'Citizen Kane (1941)',\n",
       " 'Slumdog Millionaire (2008)',\n",
       " 'Little Miss Sunshine (2006)',\n",
       " 'Quiz Show (1994)',\n",
       " 'Lethal Weapon (1987)',\n",
       " 'Run Lola Run (Lola rennt) (1998)',\n",
       " 'Shutter Island (2010)',\n",
       " 'Harry Potter and the Goblet of Fire (2005)',\n",
       " 'Liar Liar (1997)',\n",
       " '300 (2007)',\n",
       " 'Chicken Run (2000)',\n",
       " 'Graduate, The (1967)',\n",
       " 'Star Wars: Episode III - Revenge of the Sith (2005)',\n",
       " 'Game, The (1997)',\n",
       " 'No Country for Old Men (2007)',\n",
       " 'Casino (1995)',\n",
       " 'Mission: Impossible II (2000)',\n",
       " 'Juno (2007)',\n",
       " \"Mr. Holland's Opus (1995)\",\n",
       " 'Ice Age (2002)',\n",
       " 'Good, the Bad and the Ugly, The (Buono, il brutto, il cattivo, Il) (1966)',\n",
       " 'Erin Brockovich (2000)',\n",
       " 'Demolition Man (1993)',\n",
       " 'Matrix Revolutions, The (2003)',\n",
       " 'In the Line of Fire (1993)',\n",
       " 'District 9 (2009)',\n",
       " 'Snow White and the Seven Dwarfs (1937)',\n",
       " \"Charlie's Angels (2000)\",\n",
       " 'Dave (1993)',\n",
       " 'Addams Family Values (1993)',\n",
       " 'Mars Attacks! (1996)',\n",
       " 'South Park: Bigger, Longer and Uncut (1999)',\n",
       " 'Avengers, The (2012)',\n",
       " 'Abyss, The (1989)',\n",
       " 'Big Fish (2003)',\n",
       " 'I, Robot (2004)',\n",
       " 'Starship Troopers (1997)',\n",
       " \"What's Eating Gilbert Grape (1993)\",\n",
       " 'Dogma (1999)',\n",
       " 'Pianist, The (2002)',\n",
       " 'American President, The (1995)',\n",
       " 'Traffic (2000)',\n",
       " 'High Fidelity (2000)',\n",
       " 'Chinatown (1974)',\n",
       " 'Rocky (1976)',\n",
       " 'North by Northwest (1959)',\n",
       " 'Platoon (1986)',\n",
       " 'Predator (1987)',\n",
       " 'Scream (1996)',\n",
       " '12 Angry Men (1957)',\n",
       " 'This Is Spinal Tap (1984)',\n",
       " 'Unbreakable (2000)',\n",
       " 'Die Hard 2 (1990)',\n",
       " 'The Martian (2015)',\n",
       " 'Maverick (1994)',\n",
       " 'Hangover, The (2009)',\n",
       " 'Few Good Men, A (1992)',\n",
       " '28 Days Later (2002)',\n",
       " 'Annie Hall (1977)',\n",
       " 'Guardians of the Galaxy (2014)',\n",
       " 'Crow, The (1994)',\n",
       " 'Grease (1978)',\n",
       " 'Eyes Wide Shut (1999)',\n",
       " 'Honey, I Shrunk the Kids (1989)',\n",
       " 'Star Trek (2009)',\n",
       " \"Pirates of the Caribbean: Dead Man's Chest (2006)\",\n",
       " 'Piano, The (1993)',\n",
       " 'To Kill a Mockingbird (1962)',\n",
       " 'Untouchables, The (1987)',\n",
       " 'Vertigo (1958)',\n",
       " 'Lost World: Jurassic Park, The (1997)',\n",
       " 'Royal Tenenbaums, The (2001)',\n",
       " 'Star Trek II: The Wrath of Khan (1982)',\n",
       " 'Legends of the Fall (1994)',\n",
       " 'Last Samurai, The (2003)',\n",
       " 'Santa Clause, The (1994)',\n",
       " 'Wolf of Wall Street, The (2013)',\n",
       " 'Sting, The (1973)',\n",
       " 'The Butterfly Effect (2004)',\n",
       " 'Young Frankenstein (1974)',\n",
       " 'Ed Wood (1994)',\n",
       " 'The Imitation Game (2014)',\n",
       " 'Raising Arizona (1987)',\n",
       " 'Brazil (1985)',\n",
       " 'Enemy of the State (1998)',\n",
       " 'Eraser (1996)',\n",
       " \"It's a Wonderful Life (1946)\",\n",
       " 'RoboCop (1987)',\n",
       " 'True Romance (1993)',\n",
       " 'Wallace & Gromit: The Wrong Trousers (1993)',\n",
       " 'Butch Cassidy and the Sundance Kid (1969)',\n",
       " 'Sound of Music, The (1965)',\n",
       " 'Patriot, The (2000)',\n",
       " 'Bruce Almighty (2003)',\n",
       " 'Little Mermaid, The (1989)',\n",
       " 'Mary Poppins (1964)',\n",
       " 'Con Air (1997)',\n",
       " \"Bridget Jones's Diary (2001)\",\n",
       " 'Full Monty, The (1997)',\n",
       " 'Children of Men (2006)',\n",
       " 'Exorcist, The (1973)',\n",
       " 'Close Encounters of the Third Kind (1977)',\n",
       " 'Scarface (1983)',\n",
       " 'Unforgiven (1992)',\n",
       " 'Judge Dredd (1995)',\n",
       " 'English Patient, The (1996)',\n",
       " 'Superman (1978)',\n",
       " 'Air Force One (1997)',\n",
       " '40-Year-Old Virgin, The (2005)',\n",
       " 'Client, The (1994)',\n",
       " 'Sleepy Hollow (1999)',\n",
       " 'Gone with the Wind (1939)',\n",
       " 'Rushmore (1998)',\n",
       " 'Galaxy Quest (1999)',\n",
       " \"King's Speech, The (2010)\",\n",
       " 'Sherlock Holmes (2009)',\n",
       " 'Cable Guy, The (1996)',\n",
       " 'Toy Story 3 (2010)',\n",
       " 'Men in Black II (a.k.a. MIIB) (a.k.a. MIB 2) (2002)',\n",
       " 'Hot Fuzz (2007)',\n",
       " 'Harry Potter and the Order of the Phoenix (2007)',\n",
       " 'Tombstone (1993)',\n",
       " 'Notting Hill (1999)',\n",
       " 'Million Dollar Baby (2004)',\n",
       " 'Robin Hood: Men in Tights (1993)',\n",
       " 'Moulin Rouge (2001)',\n",
       " 'Desperado (1995)',\n",
       " 'I Am Legend (2007)',\n",
       " 'Harry Potter and the Half-Blood Prince (2009)',\n",
       " 'School of Rock (2003)',\n",
       " 'From Dusk Till Dawn (1996)',\n",
       " 'Harry Potter and the Deathly Hallows: Part 1 (2010)',\n",
       " \"Wayne's World (1992)\",\n",
       " 'Social Network, The (2010)',\n",
       " 'Wedding Singer, The (1998)',\n",
       " 'Naked Gun 33 1/3: The Final Insult (1994)',\n",
       " 'Beverly Hills Cop III (1994)',\n",
       " 'Truth About Cats & Dogs, The (1996)',\n",
       " 'A.I. Artificial Intelligence (2001)',\n",
       " 'Grosse Pointe Blank (1997)',\n",
       " 'Deadpool (2016)',\n",
       " 'Congo (1995)',\n",
       " 'Mask of Zorro, The (1998)',\n",
       " 'Ransom (1996)',\n",
       " 'My Cousin Vinny (1992)',\n",
       " 'How to Train Your Dragon (2010)',\n",
       " 'Alien³ (a.k.a. Alien 3) (1992)',\n",
       " 'Boogie Nights (1997)',\n",
       " 'Signs (2002)',\n",
       " 'Talented Mr. Ripley, The (1999)',\n",
       " 'The Hunger Games (2012)',\n",
       " 'Borat: Cultural Learnings of America for Make Benefit Glorious Nation of Kazakhstan (2006)',\n",
       " '10 Things I Hate About You (1999)',\n",
       " 'Dragonheart (1996)',\n",
       " 'Zombieland (2009)',\n",
       " 'Bowling for Columbine (2002)',\n",
       " 'Pleasantville (1998)',\n",
       " 'Love Actually (2003)',\n",
       " 'Inside Out (2015)',\n",
       " 'Chasing Amy (1997)',\n",
       " 'Boot, Das (Boat, The) (1981)',\n",
       " 'Black Swan (2010)',\n",
       " \"The Devil's Advocate (1997)\",\n",
       " 'Mad Max: Fury Road (2015)',\n",
       " 'Pocahontas (1995)',\n",
       " 'Harry Potter and the Deathly Hallows: Part 2 (2011)',\n",
       " 'Black Hawk Down (2001)',\n",
       " 'Gran Torino (2008)',\n",
       " 'Italian Job, The (2003)',\n",
       " 'Batman Returns (1992)',\n",
       " 'Rocky Horror Picture Show, The (1975)',\n",
       " 'Seven Samurai (Shichinin no samurai) (1954)',\n",
       " 'Election (1999)',\n",
       " 'Others, The (2001)',\n",
       " 'Coneheads (1993)',\n",
       " 'Lethal Weapon 2 (1989)',\n",
       " 'Romancing the Stone (1984)',\n",
       " 'Lawrence of Arabia (1962)',\n",
       " 'Last Action Hero (1993)',\n",
       " 'Princess Mononoke (Mononoke-hime) (1997)',\n",
       " 'Planet of the Apes (1968)',\n",
       " 'Much Ado About Nothing (1993)',\n",
       " 'Grand Budapest Hotel, The (2014)',\n",
       " 'Superbad (2007)',\n",
       " 'Blade (1998)',\n",
       " 'Species (1995)',\n",
       " 'Christmas Story, A (1983)',\n",
       " 'Hot Shots! Part Deux (1993)',\n",
       " 'Mr. & Mrs. Smith (2005)',\n",
       " 'Arachnophobia (1990)',\n",
       " 'Gone Girl (2014)',\n",
       " 'Bad Boys (1995)',\n",
       " 'Magnolia (1999)',\n",
       " 'My Big Fat Greek Wedding (2002)',\n",
       " 'Intouchables (2011)',\n",
       " 'Ring, The (2002)',\n",
       " 'Pinocchio (1940)',\n",
       " 'Chocolat (2000)',\n",
       " 'Sling Blade (1996)',\n",
       " 'Star Wars: Episode VII - The Force Awakens (2015)',\n",
       " \"You've Got Mail (1998)\",\n",
       " 'Bridge on the River Kwai, The (1957)',\n",
       " 'Casper (1995)',\n",
       " 'Star Trek IV: The Voyage Home (1986)',\n",
       " 'American Psycho (2000)',\n",
       " 'Ex Machina (2015)',\n",
       " 'Spaceballs (1987)',\n",
       " 'Chronicles of Narnia: The Lion, the Witch and the Wardrobe, The (2005)',\n",
       " 'Charlie and the Chocolate Factory (2005)',\n",
       " 'Legally Blonde (2001)',\n",
       " 'Army of Darkness (1993)',\n",
       " 'Mulholland Drive (2001)',\n",
       " 'Phenomenon (1996)',\n",
       " 'Jackie Brown (1997)',\n",
       " 'Edge of Tomorrow (2014)',\n",
       " 'Miss Congeniality (2000)',\n",
       " 'Field of Dreams (1989)',\n",
       " 'Tomorrow Never Dies (1997)',\n",
       " 'Fantasia (1940)',\n",
       " 'Gravity (2013)',\n",
       " 'Maltese Falcon, The (1941)',\n",
       " 'Blood Diamond (2006)',\n",
       " 'Wallace & Gromit: A Close Shave (1995)',\n",
       " 'Dark City (1998)',\n",
       " 'Good Morning, Vietnam (1987)',\n",
       " 'Johnny Mnemonic (1995)',\n",
       " 'Sabrina (1995)',\n",
       " 'Goldfinger (1964)',\n",
       " 'Three Musketeers, The (1993)',\n",
       " 'Old Boy (2003)',\n",
       " 'Watchmen (2009)',\n",
       " 'Crocodile Dundee (1986)',\n",
       " 'Last of the Mohicans, The (1992)',\n",
       " 'Three Kings (1999)',\n",
       " 'Dirty Dancing (1987)',\n",
       " 'M*A*S*H (a.k.a. MASH) (1970)',\n",
       " 'Serenity (2005)',\n",
       " 'Thelma & Louise (1991)',\n",
       " 'Goonies, The (1985)',\n",
       " 'Grumpier Old Men (1995)',\n",
       " 'Gremlins (1984)',\n",
       " 'Illusionist, The (2006)',\n",
       " 'Sneakers (1992)',\n",
       " 'Iron Man 2 (2010)',\n",
       " \"City Slickers II: The Legend of Curly's Gold (1994)\",\n",
       " 'Wild Wild West (1999)',\n",
       " 'Rush Hour (1998)',\n",
       " 'Father of the Bride Part II (1995)',\n",
       " 'Birds, The (1963)',\n",
       " 'Deep Impact (1998)',\n",
       " 'Thomas Crown Affair, The (1999)',\n",
       " 'Glory (1989)',\n",
       " 'Rob Roy (1995)',\n",
       " 'Disclosure (1994)',\n",
       " 'What Women Want (2000)',\n",
       " 'Mystic River (2003)',\n",
       " 'Some Like It Hot (1959)',\n",
       " 'Terminator 3: Rise of the Machines (2003)',\n",
       " 'Cool Hand Luke (1967)',\n",
       " 'Alien: Resurrection (1997)',\n",
       " 'Animal House (1978)',\n",
       " 'Beverly Hills Cop (1984)',\n",
       " '(500) Days of Summer (2009)',\n",
       " 'Scary Movie (2000)',\n",
       " 'Hotel Rwanda (2004)',\n",
       " 'Gone in 60 Seconds (2000)',\n",
       " 'X-Files: Fight the Future, The (1998)',\n",
       " 'Garden State (2004)',\n",
       " 'Highlander (1986)',\n",
       " 'So I Married an Axe Murderer (1993)',\n",
       " 'Crying Game, The (1992)',\n",
       " 'Crash (2004)',\n",
       " 'French Kiss (1995)',\n",
       " 'Taken (2008)',\n",
       " 'Deer Hunter, The (1978)',\n",
       " \"Pirates of the Caribbean: At World's End (2007)\",\n",
       " 'Blazing Saddles (1974)',\n",
       " 'First Knight (1995)',\n",
       " 'Executive Decision (1996)',\n",
       " 'Great Escape, The (1963)',\n",
       " 'Kung Fu Panda (2008)',\n",
       " 'Time to Kill, A (1996)',\n",
       " 'Kick-Ass (2010)',\n",
       " 'Whiplash (2014)',\n",
       " 'Donnie Brasco (1997)',\n",
       " 'Splash (1984)',\n",
       " 'Basic Instinct (1992)',\n",
       " 'Mulan (1998)',\n",
       " 'Training Day (2001)',\n",
       " 'Pearl Harbor (2001)',\n",
       " 'Moon (2009)',\n",
       " 'X-Men: First Class (2011)',\n",
       " 'War of the Worlds (2005)',\n",
       " 'Austin Powers in Goldmember (2002)',\n",
       " 'Thing, The (1982)',\n",
       " 'Rumble in the Bronx (Hont faan kui) (1995)',\n",
       " 'Wedding Crashers (2005)',\n",
       " 'Primal Fear (1996)',\n",
       " 'Zoolander (2001)',\n",
       " 'Adaptation (2002)',\n",
       " 'Antz (1998)',\n",
       " 'Vanilla Sky (2001)',\n",
       " 'Heathers (1989)',\n",
       " 'Super Size Me (2004)',\n",
       " 'Hobbit: An Unexpected Journey, The (2012)',\n",
       " \"Singin' in the Rain (1952)\",\n",
       " 'Tommy Boy (1995)',\n",
       " '50 First Dates (2004)',\n",
       " 'About a Boy (2002)',\n",
       " 'Like Water for Chocolate (Como agua para chocolate) (1992)',\n",
       " 'Fly, The (1986)',\n",
       " 'Witness (1985)',\n",
       " 'Day After Tomorrow, The (2004)',\n",
       " 'Mummy Returns, The (2001)',\n",
       " 'Perfect Storm, The (2000)',\n",
       " \"Muriel's Wedding (1994)\",\n",
       " 'Collateral (2004)',\n",
       " 'In Bruges (2008)',\n",
       " 'Raging Bull (1980)',\n",
       " 'Space Jam (1996)',\n",
       " 'X-Men: The Last Stand (2006)',\n",
       " 'Best in Show (2000)',\n",
       " 'Hunchback of Notre Dame, The (1996)',\n",
       " 'Curious Case of Benjamin Button, The (2008)',\n",
       " 'Hudsucker Proxy, The (1994)',\n",
       " 'Mortal Kombat (1995)',\n",
       " 'American Pie 2 (2001)',\n",
       " 'Lady and the Tramp (1955)',\n",
       " 'NeverEnding Story, The (1984)',\n",
       " 'Gangs of New York (2002)',\n",
       " 'Godfather: Part III, The (1990)',\n",
       " 'Troy (2004)',\n",
       " \"Howl's Moving Castle (Hauru no ugoku shiro) (2004)\",\n",
       " 'Equilibrium (2002)',\n",
       " 'Fear and Loathing in Las Vegas (1998)',\n",
       " 'Postman, The (Postino, Il) (1994)',\n",
       " \"William Shakespeare's Romeo + Juliet (1996)\",\n",
       " 'Her (2013)',\n",
       " 'Nine Months (1995)',\n",
       " 'Boondock Saints, The (2000)',\n",
       " 'Thank You for Smoking (2006)',\n",
       " 'Nell (1994)',\n",
       " 'Big Hero 6 (2014)',\n",
       " 'River Wild, The (1994)',\n",
       " 'Star Trek III: The Search for Spock (1984)',\n",
       " 'Skyfall (2012)',\n",
       " 'Into the Wild (2007)',\n",
       " 'Limitless (2011)',\n",
       " 'Napoleon Dynamite (2004)',\n",
       " 'Star Trek VI: The Undiscovered Country (1991)',\n",
       " 'Specialist, The (1994)',\n",
       " 'African Queen, The (1951)',\n",
       " 'Tron (1982)',\n",
       " 'Kingpin (1996)',\n",
       " 'Chicago (2002)',\n",
       " \"My Best Friend's Wedding (1997)\",\n",
       " 'Cocoon (1985)',\n",
       " 'Me, Myself & Irene (2000)',\n",
       " 'Planet of the Apes (2001)',\n",
       " \"Breakfast at Tiffany's (1961)\",\n",
       " 'Ronin (1998)',\n",
       " 'Conspiracy Theory (1997)',\n",
       " 'Arrival (2016)',\n",
       " 'Wag the Dog (1997)',\n",
       " 'Jungle Book, The (1967)',\n",
       " 'There Will Be Blood (2007)',\n",
       " 'Searching for Bobby Fischer (1993)',\n",
       " 'Looper (2012)',\n",
       " \"Ocean's Twelve (2004)\",\n",
       " 'Trading Places (1983)',\n",
       " 'Transformers (2007)',\n",
       " 'James and the Giant Peach (1996)',\n",
       " 'Remains of the Day, The (1993)',\n",
       " 'Big Daddy (1999)',\n",
       " 'League of Their Own, A (1992)',\n",
       " 'Terminal, The (2004)',\n",
       " 'Pi (1998)',\n",
       " 'Batman & Robin (1997)',\n",
       " 'Blue Velvet (1986)',\n",
       " 'Iron Giant, The (1999)',\n",
       " 'Misery (1990)',\n",
       " 'Tin Cup (1996)',\n",
       " 'Mad Max (1979)',\n",
       " \"Dracula (Bram Stoker's Dracula) (1992)\",\n",
       " 'Hoop Dreams (1994)',\n",
       " 'Road Warrior, The (Mad Max 2) (1981)',\n",
       " 'Gandhi (1982)',\n",
       " 'My Fair Lady (1964)',\n",
       " 'Despicable Me (2010)',\n",
       " 'Little Women (1994)',\n",
       " 'Fast and the Furious, The (2001)',\n",
       " 'Kingsman: The Secret Service (2015)',\n",
       " \"Hitchhiker's Guide to the Galaxy, The (2005)\",\n",
       " \"Monty Python's The Meaning of Life (1983)\",\n",
       " 'Cinderella (1950)',\n",
       " 'Poltergeist (1982)',\n",
       " 'Da Vinci Code, The (2006)',\n",
       " 'Flintstones, The (1994)',\n",
       " 'Lord of War (2005)',\n",
       " 'Pursuit of Happyness, The (2006)',\n",
       " 'Road to Perdition (2002)',\n",
       " 'Thor (2011)',\n",
       " 'Hook (1991)',\n",
       " 'Adventures of Priscilla, Queen of the Desert, The (1994)',\n",
       " 'Source Code (2011)',\n",
       " 'The Hunger Games: Catching Fire (2013)',\n",
       " 'Karate Kid, The (1984)',\n",
       " 'Cinema Paradiso (Nuovo cinema Paradiso) (1989)',\n",
       " 'Junior (1994)',\n",
       " 'Remember the Titans (2000)',\n",
       " 'Analyze This (1999)',\n",
       " 'Anchorman: The Legend of Ron Burgundy (2004)',\n",
       " 'Star Trek: The Motion Picture (1979)',\n",
       " 'Scott Pilgrim vs. the World (2010)',\n",
       " 'Hellboy (2004)',\n",
       " 'My Neighbor Totoro (Tonari no Totoro) (1988)',\n",
       " 'Pitch Black (2000)',\n",
       " 'Swingers (1996)',\n",
       " 'Saw (2004)',\n",
       " 'I.Q. (1994)',\n",
       " 'Caddyshack (1980)',\n",
       " 'Fahrenheit 9/11 (2004)',\n",
       " 'Bonnie and Clyde (1967)',\n",
       " 'Cruel Intentions (1999)',\n",
       " 'Copycat (1995)',\n",
       " 'Lara Croft: Tomb Raider (2001)',\n",
       " 'Carrie (1976)',\n",
       " 'Mean Girls (2004)',\n",
       " 'Escape from New York (1981)',\n",
       " 'Lives of Others, The (Das leben der Anderen) (2006)',\n",
       " 'Stranger than Fiction (2006)',\n",
       " 'Akira (1988)',\n",
       " 'Simpsons Movie, The (2007)',\n",
       " 'Willow (1988)',\n",
       " 'Lethal Weapon 3 (1992)',\n",
       " 'Jurassic Park III (2001)',\n",
       " 'Fatal Attraction (1987)',\n",
       " 'Cape Fear (1991)',\n",
       " 'Silver Linings Playbook (2012)',\n",
       " 'Aviator, The (2004)',\n",
       " 'Dangerous Minds (1995)',\n",
       " 'Shanghai Noon (2000)',\n",
       " 'Dumbo (1941)',\n",
       " 'Hannibal (2001)',\n",
       " 'Scent of a Woman (1992)',\n",
       " 'Patriot Games (1992)',\n",
       " 'Bowfinger (1999)',\n",
       " 'X-Men: Days of Future Past (2014)',\n",
       " 'National Treasure (2004)',\n",
       " 'Billy Madison (1995)',\n",
       " 'Walk the Line (2005)',\n",
       " 'Blow (2001)',\n",
       " 'Bridges of Madison County, The (1995)',\n",
       " 'Enemy at the Gates (2001)',\n",
       " 'Drive (2011)',\n",
       " 'Lucky Number Slevin (2006)',\n",
       " 'Dune (1984)',\n",
       " \"Bill & Ted's Excellent Adventure (1989)\",\n",
       " 'The Machinist (2004)',\n",
       " 'Billy Elliot (2000)',\n",
       " 'World Is Not Enough, The (1999)',\n",
       " 'Negotiator, The (1998)',\n",
       " 'Striptease (1996)',\n",
       " 'Sixteen Candles (1984)',\n",
       " 'Sideways (2004)',\n",
       " 'Brady Bunch Movie, The (1995)',\n",
       " 'Ben-Hur (1959)',\n",
       " \"Carlito's Way (1993)\",\n",
       " 'Panic Room (2002)',\n",
       " 'Manchurian Candidate, The (1962)',\n",
       " 'Bend It Like Beckham (2002)',\n",
       " 'Say Anything... (1989)',\n",
       " '101 Dalmatians (1996)',\n",
       " 'Lethal Weapon 4 (1998)',\n",
       " 'Femme Nikita, La (Nikita) (1990)',\n",
       " 'Labyrinth (1986)',\n",
       " 'Sherlock Holmes: A Game of Shadows (2011)',\n",
       " 'Insider, The (1999)',\n",
       " 'Captain America: The First Avenger (2011)',\n",
       " 'Captain America: The Winter Soldier (2014)',\n",
       " 'Zootopia (2016)',\n",
       " 'Ghostbusters II (1989)',\n",
       " 'People vs. Larry Flynt, The (1996)',\n",
       " 'Notebook, The (2004)',\n",
       " 'Strange Days (1995)',\n",
       " 'Addams Family, The (1991)',\n",
       " 'Fried Green Tomatoes (1991)',\n",
       " 'In the Name of the Father (1993)',\n",
       " 'Miracle on 34th Street (1994)',\n",
       " 'French Connection, The (1971)',\n",
       " \"Rosemary's Baby (1968)\",\n",
       " 'Inside Man (2006)',\n",
       " 'Elizabeth (1998)',\n",
       " 'West Side Story (1961)',\n",
       " 'Mighty Aphrodite (1995)',\n",
       " 'Devil Wears Prada, The (2006)',\n",
       " 'Manhattan (1979)',\n",
       " 'King Kong (2005)',\n",
       " 'Runaway Bride (1999)',\n",
       " 'Cell, The (2000)',\n",
       " 'Craft, The (1996)',\n",
       " '101 Dalmatians (One Hundred and One Dalmatians) (1961)',\n",
       " 'Alice in Wonderland (1951)',\n",
       " 'Beavis and Butt-Head Do America (1996)',\n",
       " 'Girl with the Dragon Tattoo, The (2011)',\n",
       " 'Sleepers (1996)',\n",
       " 'Ghost in the Shell (Kôkaku kidôtai) (1995)',\n",
       " 'Mallrats (1995)',\n",
       " 'Driving Miss Daisy (1989)',\n",
       " 'Little Shop of Horrors (1986)',\n",
       " 'Entrapment (1999)',\n",
       " 'City of Lost Children, The (Cité des enfants perdus, La) (1995)',\n",
       " 'Argo (2012)',\n",
       " 'K-PAX (2001)',\n",
       " 'Payback (1999)',\n",
       " 'Naked Gun: From the Files of Police Squad!, The (1988)',\n",
       " 'Knocked Up (2007)',\n",
       " 'Hitch (2005)',\n",
       " 'Free Willy (1993)',\n",
       " 'Gods Must Be Crazy, The (1980)',\n",
       " 'To Die For (1995)',\n",
       " 'Iron Man 3 (2013)',\n",
       " 'Road Trip (2000)',\n",
       " 'Deliverance (1972)',\n",
       " 'Hobbit: The Desolation of Smaug, The (2013)',\n",
       " 'Hero (Ying xiong) (2002)',\n",
       " 'Thin Red Line, The (1998)',\n",
       " \"Emperor's New Groove, The (2000)\",\n",
       " 'Harold and Maude (1971)',\n",
       " 'Dazed and Confused (1993)',\n",
       " 'Aristocats, The (1970)',\n",
       " 'Evil Dead II (Dead by Dawn) (1987)',\n",
       " 'Constantine (2005)',\n",
       " 'Long Kiss Goodnight, The (1996)',\n",
       " 'Hurt Locker, The (2008)',\n",
       " 'Dodgeball: A True Underdog Story (2004)',\n",
       " 'Cars (2006)',\n",
       " 'Time Bandits (1981)',\n",
       " 'Fast Times at Ridgemont High (1982)',\n",
       " 'Robin Hood: Prince of Thieves (1991)',\n",
       " 'Finding Neverland (2004)',\n",
       " 'Go (1999)',\n",
       " 'Indiana Jones and the Kingdom of the Crystal Skull (2008)',\n",
       " 'Superman II (1980)',\n",
       " 'Nightmare on Elm Street, A (1984)',\n",
       " 'Godzilla (1998)',\n",
       " 'Home Alone 2: Lost in New York (1992)',\n",
       " 'Spider-Man 3 (2007)',\n",
       " 'Night of the Living Dead (1968)',\n",
       " 'Life of Pi (2012)',\n",
       " 'Frequency (2000)',\n",
       " 'Tootsie (1982)',\n",
       " 'Stripes (1981)',\n",
       " 'Bambi (1942)',\n",
       " 'Moonrise Kingdom (2012)',\n",
       " 'Zodiac (2007)',\n",
       " 'Patton (1970)',\n",
       " 'Star Trek: Insurrection (1998)',\n",
       " 'Mystery Men (1999)',\n",
       " 'Brokeback Mountain (2005)',\n",
       " 'Elf (2003)',\n",
       " 'Under Siege 2: Dark Territory (1995)',\n",
       " 'Life Aquatic with Steve Zissou, The (2004)',\n",
       " 'Master and Commander: The Far Side of the World (2003)',\n",
       " 'Dog Day Afternoon (1975)',\n",
       " 'Dark Crystal, The (1982)',\n",
       " 'Rise of the Planet of the Apes (2011)',\n",
       " 'Risky Business (1983)',\n",
       " \"Romy and Michele's High School Reunion (1997)\",\n",
       " 'Burn After Reading (2008)',\n",
       " 'Don Juan DeMarco (1995)',\n",
       " 'Man on the Moon (1999)',\n",
       " \"Knight's Tale, A (2001)\",\n",
       " 'That Thing You Do! (1996)',\n",
       " 'Escape from L.A. (1996)',\n",
       " 'Rush Hour 2 (2001)',\n",
       " 'Avengers: Age of Ultron (2015)',\n",
       " 'Hackers (1995)',\n",
       " 'Wallace & Gromit: The Best of Aardman Animation (1996)',\n",
       " 'Tangled (2010)',\n",
       " 'Grand Day Out with Wallace and Gromit, A (1989)',\n",
       " 'Saint, The (1997)',\n",
       " \"Boys Don't Cry (1999)\",\n",
       " 'Peter Pan (1953)',\n",
       " 'Man on Fire (2004)',\n",
       " 'Prometheus (2012)',\n",
       " 'Insomnia (2002)',\n",
       " 'True Grit (2010)',\n",
       " 'Corpse Bride (2005)',\n",
       " 'Hollow Man (2000)',\n",
       " 'Hancock (2008)',\n",
       " 'How the Grinch Stole Christmas (a.k.a. The Grinch) (2000)',\n",
       " 'Whole Nine Yards, The (2000)',\n",
       " 'I Know What You Did Last Summer (1997)',\n",
       " \"Ocean's Thirteen (2007)\",\n",
       " 'American Werewolf in London, An (1981)',\n",
       " 'Star Trek Into Darkness (2013)',\n",
       " 'Sister Act (1992)',\n",
       " 'Powder (1995)',\n",
       " 'Dr. No (1962)',\n",
       " '8 Mile (2002)',\n",
       " 'Out of Sight (1998)',\n",
       " 'Cube (1997)',\n",
       " 'Shine (1996)',\n",
       " 'Fistful of Dollars, A (Per un pugno di dollari) (1964)',\n",
       " 'Emma (1996)',\n",
       " 'Reality Bites (1994)',\n",
       " 'Wild Things (1998)',\n",
       " 'Blind Side, The  (2009)',\n",
       " 'Bullets Over Broadway (1994)',\n",
       " 'Big Short, The (2015)',\n",
       " 'American Gangster (2007)',\n",
       " 'Right Stuff, The (1983)',\n",
       " 'Sunset Blvd. (a.k.a. Sunset Boulevard) (1950)',\n",
       " 'Backdraft (1991)',\n",
       " 'Fisher King, The (1991)',\n",
       " 'From Russia with Love (1963)',\n",
       " 'Never Been Kissed (1999)',\n",
       " 'Courage Under Fire (1996)',\n",
       " 'Nightcrawler (2014)',\n",
       " 'Jay and Silent Bob Strike Back (2001)',\n",
       " '13th Warrior, The (1999)',\n",
       " 'Lost in Space (1998)',\n",
       " 'Halloween (1978)',\n",
       " 'October Sky (1999)',\n",
       " 'Delicatessen (1991)',\n",
       " 'Player, The (1992)',\n",
       " 'Planes, Trains & Automobiles (1987)',\n",
       " 'Deep Blue Sea (1999)',\n",
       " 'Heavy Metal (1981)',\n",
       " 'American Graffiti (1973)',\n",
       " 'Doors, The (1991)',\n",
       " 'Birdman: Or (The Unexpected Virtue of Ignorance) (2014)',\n",
       " 'Event Horizon (1997)',\n",
       " 'Phone Booth (2002)',\n",
       " 'X-Men Origins: Wolverine (2009)',\n",
       " 'Awakenings (1990)',\n",
       " 'Island, The (2005)',\n",
       " 'Rudy (1993)',\n",
       " 'Tropic Thunder (2008)',\n",
       " 'Frozen (2013)',\n",
       " 'Old School (2003)',\n",
       " 'Third Man, The (1949)',\n",
       " 'JFK (1991)',\n",
       " 'Kiss Kiss Bang Bang (2005)',\n",
       " 'Swordfish (2001)',\n",
       " 'Double Jeopardy (1999)',\n",
       " 'Multiplicity (1996)',\n",
       " 'Heavenly Creatures (1994)',\n",
       " 'Dr. Dolittle (1998)',\n",
       " 'Showgirls (1995)',\n",
       " 'Madness of King George, The (1994)',\n",
       " 'Dangerous Liaisons (1988)',\n",
       " 'Red Dragon (2002)',\n",
       " 'Meet the Fockers (2004)',\n",
       " 'Strictly Ballroom (1992)',\n",
       " 'The Revenant (2015)',\n",
       " 'Star Trek V: The Final Frontier (1989)',\n",
       " '21 Grams (2003)',\n",
       " 'Pretty in Pink (1986)',\n",
       " 'Three Colors: Red (Trois couleurs: Rouge) (1994)',\n",
       " 'Resident Evil (2002)',\n",
       " 'Quantum of Solace (2008)',\n",
       " 'Running Man, The (1987)',\n",
       " 'Scream 2 (1997)',\n",
       " 'Moonstruck (1987)',\n",
       " 'Sleeping Beauty (1959)',\n",
       " 'Final Destination (2000)',\n",
       " 'Conan the Barbarian (1982)',\n",
       " 'Secret Garden, The (1993)',\n",
       " 'Hercules (1997)',\n",
       " 'Jungle Book, The (1994)',\n",
       " 'Village, The (2004)',\n",
       " 'Final Fantasy: The Spirits Within (2001)',\n",
       " 'Hulk (2003)',\n",
       " 'Lilo & Stitch (2002)',\n",
       " 'Jerk, The (1979)',\n",
       " 'First Blood (Rambo: First Blood) (1982)',\n",
       " 'Blade II (2002)',\n",
       " 'Dirty Dozen, The (1967)',\n",
       " 'Roger & Me (1989)',\n",
       " 'Madagascar (2005)',\n",
       " 'Elephant Man, The (1980)',\n",
       " 'Rogue One: A Star Wars Story (2016)',\n",
       " 'U-571 (2000)',\n",
       " 'Virgin Suicides, The (1999)',\n",
       " 'Bone Collector, The (1999)',\n",
       " 'Alice in Wonderland (2010)',\n",
       " 'Cool Runnings (1993)',\n",
       " 'Killing Fields, The (1984)',\n",
       " \"Mary Shelley's Frankenstein (Frankenstein) (1994)\",\n",
       " 'Ghost World (2001)',\n",
       " 'Dallas Buyers Club (2013)',\n",
       " 'Die Another Day (2002)',\n",
       " 'Wreck-It Ralph (2012)',\n",
       " 'Now You See Me (2013)',\n",
       " 'City Slickers (1991)',\n",
       " 'Rounders (1998)',\n",
       " 'Sleeper (1973)',\n",
       " 'Forgetting Sarah Marshall (2008)',\n",
       " 'Last Emperor, The (1987)',\n",
       " 'Logan (2017)',\n",
       " 'Sliding Doors (1998)',\n",
       " 'Arsenic and Old Lace (1944)',\n",
       " 'Dolores Claiborne (1995)',\n",
       " 'Shallow Grave (1994)',\n",
       " 'Englishman Who Went Up a Hill But Came Down a Mountain, The (1995)',\n",
       " 'Falling Down (1993)',\n",
       " 'Prince of Egypt, The (1998)',\n",
       " 'Tank Girl (1995)',\n",
       " 'Stardust (2007)',\n",
       " 'Live Free or Die Hard (2007)',\n",
       " 'Underworld (2003)',\n",
       " 'Daredevil (2003)',\n",
       " 'The Lego Movie (2014)',\n",
       " '3:10 to Yuma (2007)',\n",
       " 'Beach, The (2000)',\n",
       " 'Waterboy, The (1998)',\n",
       " 'Cider House Rules, The (1999)',\n",
       " 'Lawnmower Man, The (1992)',\n",
       " 'Fantastic Four (2005)',\n",
       " 'G.I. Jane (1997)',\n",
       " 'Guardians of the Galaxy 2 (2017)',\n",
       " 'Three Colors: Blue (Trois couleurs: Bleu) (1993)',\n",
       " 'Bull Durham (1988)',\n",
       " 'Sex, Lies, and Videotape (1989)',\n",
       " '21 Jump Street (2012)',\n",
       " 'Sweeney Todd: The Demon Barber of Fleet Street (2007)',\n",
       " 'Midnight in Paris (2011)',\n",
       " 'Before Sunrise (1995)',\n",
       " 'Tarzan (1999)',\n",
       " 'Moneyball (2011)',\n",
       " 'Scream 3 (2000)',\n",
       " 'Wrestler, The (2008)',\n",
       " 'John Wick (2014)',\n",
       " 'Lone Star (1996)',\n",
       " 'Quick and the Dead, The (1995)',\n",
       " 'Coraline (2009)',\n",
       " 'League of Extraordinary Gentlemen, The (a.k.a. LXG) (2003)',\n",
       " 'Doctor Strange (2016)',\n",
       " 'L.A. Story (1991)',\n",
       " 'Patch Adams (1998)',\n",
       " 'Philadelphia Story, The (1940)',\n",
       " 'Rocketeer, The (1991)',\n",
       " 'Arlington Road (1999)',\n",
       " 'Team America: World Police (2004)',\n",
       " 'Punch-Drunk Love (2002)',\n",
       " 'Pay It Forward (2000)',\n",
       " 'The Hunger Games: Mockingjay - Part 1 (2014)',\n",
       " 'Roman Holiday (1953)',\n",
       " '¡Three Amigos! (1986)',\n",
       " '127 Hours (2010)',\n",
       " 'Ant-Man (2015)',\n",
       " 'Mission to Mars (2000)',\n",
       " 'Midnight Cowboy (1969)',\n",
       " 'Dirty Harry (1971)',\n",
       " 'Cloverfield (2008)',\n",
       " 'Young Guns (1988)',\n",
       " 'What Lies Beneath (2000)',\n",
       " 'King Kong (1933)',\n",
       " 'Muppet Movie, The (1979)',\n",
       " 'Cabin in the Woods, The (2012)',\n",
       " 'Pink Floyd: The Wall (1982)',\n",
       " \"Amores Perros (Love's a Bitch) (2000)\",\n",
       " 'Up in the Air (2009)',\n",
       " 'The Count of Monte Cristo (2002)',\n",
       " 'Mission: Impossible - Ghost Protocol (2011)',\n",
       " 'Wonder Boys (2000)',\n",
       " \"National Lampoon's Vacation (1983)\",\n",
       " 'Captain America: Civil War (2016)',\n",
       " 'Being There (1979)',\n",
       " 'Brave (2012)',\n",
       " 'Simple Plan, A (1998)',\n",
       " 'Bodyguard, The (1992)',\n",
       " 'Big Chill, The (1983)',\n",
       " 'Perks of Being a Wallflower, The (2012)',\n",
       " \"Miller's Crossing (1990)\",\n",
       " 'Finding Forrester (2000)',\n",
       " 'Chariots of Fire (1981)',\n",
       " 'Streetcar Named Desire, A (1951)',\n",
       " 'Producers, The (1968)',\n",
       " ...]"
      ]
     },
     "execution_count": 37,
     "metadata": {},
     "output_type": "execute_result"
    }
   ],
   "source": [
    "accepted_movies"
   ]
  },
  {
   "cell_type": "code",
   "execution_count": 38,
   "metadata": {},
   "outputs": [
    {
     "data": {
      "application/vnd.microsoft.datawrangler.viewer.v0+json": {
       "columns": [
        {
         "name": "index",
         "rawType": "int64",
         "type": "integer"
        },
        {
         "name": "movieId",
         "rawType": "int64",
         "type": "integer"
        },
        {
         "name": "title",
         "rawType": "object",
         "type": "string"
        },
        {
         "name": "genres",
         "rawType": "object",
         "type": "string"
        },
        {
         "name": "userId",
         "rawType": "int64",
         "type": "integer"
        },
        {
         "name": "rating",
         "rawType": "float64",
         "type": "float"
        }
       ],
       "conversionMethod": "pd.DataFrame",
       "ref": "9ca77877-fe32-4510-ab0f-fc5354f42cc4",
       "rows": [
        [
         "0",
         "1",
         "Toy Story (1995)",
         "Adventure|Animation|Children|Comedy|Fantasy",
         "2",
         "3.5"
        ],
        [
         "1",
         "1",
         "Toy Story (1995)",
         "Adventure|Animation|Children|Comedy|Fantasy",
         "3",
         "4.0"
        ],
        [
         "2",
         "1",
         "Toy Story (1995)",
         "Adventure|Animation|Children|Comedy|Fantasy",
         "4",
         "3.0"
        ],
        [
         "3",
         "1",
         "Toy Story (1995)",
         "Adventure|Animation|Children|Comedy|Fantasy",
         "5",
         "4.0"
        ],
        [
         "4",
         "1",
         "Toy Story (1995)",
         "Adventure|Animation|Children|Comedy|Fantasy",
         "8",
         "4.0"
        ],
        [
         "5",
         "1",
         "Toy Story (1995)",
         "Adventure|Animation|Children|Comedy|Fantasy",
         "10",
         "3.5"
        ],
        [
         "6",
         "1",
         "Toy Story (1995)",
         "Adventure|Animation|Children|Comedy|Fantasy",
         "12",
         "4.0"
        ],
        [
         "7",
         "1",
         "Toy Story (1995)",
         "Adventure|Animation|Children|Comedy|Fantasy",
         "13",
         "4.0"
        ],
        [
         "8",
         "1",
         "Toy Story (1995)",
         "Adventure|Animation|Children|Comedy|Fantasy",
         "18",
         "3.0"
        ],
        [
         "9",
         "1",
         "Toy Story (1995)",
         "Adventure|Animation|Children|Comedy|Fantasy",
         "26",
         "3.0"
        ],
        [
         "10",
         "1",
         "Toy Story (1995)",
         "Adventure|Animation|Children|Comedy|Fantasy",
         "36",
         "5.0"
        ],
        [
         "11",
         "1",
         "Toy Story (1995)",
         "Adventure|Animation|Children|Comedy|Fantasy",
         "43",
         "4.0"
        ],
        [
         "12",
         "1",
         "Toy Story (1995)",
         "Adventure|Animation|Children|Comedy|Fantasy",
         "47",
         "2.0"
        ],
        [
         "13",
         "1",
         "Toy Story (1995)",
         "Adventure|Animation|Children|Comedy|Fantasy",
         "50",
         "4.0"
        ],
        [
         "14",
         "1",
         "Toy Story (1995)",
         "Adventure|Animation|Children|Comedy|Fantasy",
         "51",
         "4.0"
        ],
        [
         "15",
         "1",
         "Toy Story (1995)",
         "Adventure|Animation|Children|Comedy|Fantasy",
         "56",
         "2.0"
        ],
        [
         "16",
         "1",
         "Toy Story (1995)",
         "Adventure|Animation|Children|Comedy|Fantasy",
         "57",
         "4.0"
        ],
        [
         "17",
         "1",
         "Toy Story (1995)",
         "Adventure|Animation|Children|Comedy|Fantasy",
         "64",
         "4.0"
        ],
        [
         "18",
         "1",
         "Toy Story (1995)",
         "Adventure|Animation|Children|Comedy|Fantasy",
         "66",
         "3.0"
        ],
        [
         "19",
         "1",
         "Toy Story (1995)",
         "Adventure|Animation|Children|Comedy|Fantasy",
         "67",
         "3.0"
        ],
        [
         "20",
         "1",
         "Toy Story (1995)",
         "Adventure|Animation|Children|Comedy|Fantasy",
         "69",
         "3.0"
        ],
        [
         "21",
         "1",
         "Toy Story (1995)",
         "Adventure|Animation|Children|Comedy|Fantasy",
         "73",
         "3.0"
        ],
        [
         "22",
         "1",
         "Toy Story (1995)",
         "Adventure|Animation|Children|Comedy|Fantasy",
         "75",
         "5.0"
        ],
        [
         "23",
         "1",
         "Toy Story (1995)",
         "Adventure|Animation|Children|Comedy|Fantasy",
         "77",
         "4.0"
        ],
        [
         "24",
         "1",
         "Toy Story (1995)",
         "Adventure|Animation|Children|Comedy|Fantasy",
         "82",
         "4.0"
        ],
        [
         "25",
         "1",
         "Toy Story (1995)",
         "Adventure|Animation|Children|Comedy|Fantasy",
         "86",
         "5.0"
        ],
        [
         "26",
         "1",
         "Toy Story (1995)",
         "Adventure|Animation|Children|Comedy|Fantasy",
         "90",
         "5.0"
        ],
        [
         "27",
         "1",
         "Toy Story (1995)",
         "Adventure|Animation|Children|Comedy|Fantasy",
         "93",
         "5.0"
        ],
        [
         "28",
         "1",
         "Toy Story (1995)",
         "Adventure|Animation|Children|Comedy|Fantasy",
         "95",
         "5.0"
        ],
        [
         "29",
         "1",
         "Toy Story (1995)",
         "Adventure|Animation|Children|Comedy|Fantasy",
         "96",
         "5.0"
        ],
        [
         "30",
         "1",
         "Toy Story (1995)",
         "Adventure|Animation|Children|Comedy|Fantasy",
         "98",
         "5.0"
        ],
        [
         "31",
         "1",
         "Toy Story (1995)",
         "Adventure|Animation|Children|Comedy|Fantasy",
         "109",
         "4.0"
        ],
        [
         "32",
         "1",
         "Toy Story (1995)",
         "Adventure|Animation|Children|Comedy|Fantasy",
         "110",
         "4.0"
        ],
        [
         "33",
         "1",
         "Toy Story (1995)",
         "Adventure|Animation|Children|Comedy|Fantasy",
         "111",
         "4.5"
        ],
        [
         "34",
         "1",
         "Toy Story (1995)",
         "Adventure|Animation|Children|Comedy|Fantasy",
         "112",
         "3.0"
        ],
        [
         "35",
         "1",
         "Toy Story (1995)",
         "Adventure|Animation|Children|Comedy|Fantasy",
         "120",
         "5.0"
        ],
        [
         "36",
         "1",
         "Toy Story (1995)",
         "Adventure|Animation|Children|Comedy|Fantasy",
         "125",
         "4.0"
        ],
        [
         "37",
         "1",
         "Toy Story (1995)",
         "Adventure|Animation|Children|Comedy|Fantasy",
         "127",
         "5.0"
        ],
        [
         "38",
         "1",
         "Toy Story (1995)",
         "Adventure|Animation|Children|Comedy|Fantasy",
         "130",
         "3.0"
        ],
        [
         "39",
         "1",
         "Toy Story (1995)",
         "Adventure|Animation|Children|Comedy|Fantasy",
         "132",
         "4.0"
        ],
        [
         "40",
         "1",
         "Toy Story (1995)",
         "Adventure|Animation|Children|Comedy|Fantasy",
         "143",
         "5.0"
        ],
        [
         "41",
         "1",
         "Toy Story (1995)",
         "Adventure|Animation|Children|Comedy|Fantasy",
         "147",
         "4.0"
        ],
        [
         "42",
         "1",
         "Toy Story (1995)",
         "Adventure|Animation|Children|Comedy|Fantasy",
         "152",
         "5.0"
        ],
        [
         "43",
         "1",
         "Toy Story (1995)",
         "Adventure|Animation|Children|Comedy|Fantasy",
         "158",
         "5.0"
        ],
        [
         "44",
         "1",
         "Toy Story (1995)",
         "Adventure|Animation|Children|Comedy|Fantasy",
         "160",
         "4.5"
        ],
        [
         "45",
         "1",
         "Toy Story (1995)",
         "Adventure|Animation|Children|Comedy|Fantasy",
         "162",
         "5.0"
        ],
        [
         "46",
         "1",
         "Toy Story (1995)",
         "Adventure|Animation|Children|Comedy|Fantasy",
         "163",
         "3.5"
        ],
        [
         "47",
         "1",
         "Toy Story (1995)",
         "Adventure|Animation|Children|Comedy|Fantasy",
         "166",
         "4.0"
        ],
        [
         "48",
         "1",
         "Toy Story (1995)",
         "Adventure|Animation|Children|Comedy|Fantasy",
         "167",
         "4.0"
        ],
        [
         "49",
         "1",
         "Toy Story (1995)",
         "Adventure|Animation|Children|Comedy|Fantasy",
         "171",
         "4.5"
        ]
       ],
       "shape": {
        "columns": 5,
        "rows": 24881079
       }
      },
      "text/html": [
       "<div>\n",
       "<style scoped>\n",
       "    .dataframe tbody tr th:only-of-type {\n",
       "        vertical-align: middle;\n",
       "    }\n",
       "\n",
       "    .dataframe tbody tr th {\n",
       "        vertical-align: top;\n",
       "    }\n",
       "\n",
       "    .dataframe thead th {\n",
       "        text-align: right;\n",
       "    }\n",
       "</style>\n",
       "<table border=\"1\" class=\"dataframe\">\n",
       "  <thead>\n",
       "    <tr style=\"text-align: right;\">\n",
       "      <th></th>\n",
       "      <th>movieId</th>\n",
       "      <th>title</th>\n",
       "      <th>genres</th>\n",
       "      <th>userId</th>\n",
       "      <th>rating</th>\n",
       "    </tr>\n",
       "  </thead>\n",
       "  <tbody>\n",
       "    <tr>\n",
       "      <th>0</th>\n",
       "      <td>1</td>\n",
       "      <td>Toy Story (1995)</td>\n",
       "      <td>Adventure|Animation|Children|Comedy|Fantasy</td>\n",
       "      <td>2</td>\n",
       "      <td>3.5</td>\n",
       "    </tr>\n",
       "    <tr>\n",
       "      <th>1</th>\n",
       "      <td>1</td>\n",
       "      <td>Toy Story (1995)</td>\n",
       "      <td>Adventure|Animation|Children|Comedy|Fantasy</td>\n",
       "      <td>3</td>\n",
       "      <td>4.0</td>\n",
       "    </tr>\n",
       "    <tr>\n",
       "      <th>2</th>\n",
       "      <td>1</td>\n",
       "      <td>Toy Story (1995)</td>\n",
       "      <td>Adventure|Animation|Children|Comedy|Fantasy</td>\n",
       "      <td>4</td>\n",
       "      <td>3.0</td>\n",
       "    </tr>\n",
       "    <tr>\n",
       "      <th>3</th>\n",
       "      <td>1</td>\n",
       "      <td>Toy Story (1995)</td>\n",
       "      <td>Adventure|Animation|Children|Comedy|Fantasy</td>\n",
       "      <td>5</td>\n",
       "      <td>4.0</td>\n",
       "    </tr>\n",
       "    <tr>\n",
       "      <th>4</th>\n",
       "      <td>1</td>\n",
       "      <td>Toy Story (1995)</td>\n",
       "      <td>Adventure|Animation|Children|Comedy|Fantasy</td>\n",
       "      <td>8</td>\n",
       "      <td>4.0</td>\n",
       "    </tr>\n",
       "    <tr>\n",
       "      <th>...</th>\n",
       "      <td>...</td>\n",
       "      <td>...</td>\n",
       "      <td>...</td>\n",
       "      <td>...</td>\n",
       "      <td>...</td>\n",
       "    </tr>\n",
       "    <tr>\n",
       "      <th>24999961</th>\n",
       "      <td>208737</td>\n",
       "      <td>Midway (2019)</td>\n",
       "      <td>Action|Drama|War</td>\n",
       "      <td>132358</td>\n",
       "      <td>2.0</td>\n",
       "    </tr>\n",
       "    <tr>\n",
       "      <th>24999962</th>\n",
       "      <td>208737</td>\n",
       "      <td>Midway (2019)</td>\n",
       "      <td>Action|Drama|War</td>\n",
       "      <td>141420</td>\n",
       "      <td>3.0</td>\n",
       "    </tr>\n",
       "    <tr>\n",
       "      <th>24999963</th>\n",
       "      <td>208737</td>\n",
       "      <td>Midway (2019)</td>\n",
       "      <td>Action|Drama|War</td>\n",
       "      <td>143568</td>\n",
       "      <td>3.5</td>\n",
       "    </tr>\n",
       "    <tr>\n",
       "      <th>24999964</th>\n",
       "      <td>208737</td>\n",
       "      <td>Midway (2019)</td>\n",
       "      <td>Action|Drama|War</td>\n",
       "      <td>154088</td>\n",
       "      <td>4.0</td>\n",
       "    </tr>\n",
       "    <tr>\n",
       "      <th>24999965</th>\n",
       "      <td>208737</td>\n",
       "      <td>Midway (2019)</td>\n",
       "      <td>Action|Drama|War</td>\n",
       "      <td>156081</td>\n",
       "      <td>3.5</td>\n",
       "    </tr>\n",
       "  </tbody>\n",
       "</table>\n",
       "<p>24881079 rows × 5 columns</p>\n",
       "</div>"
      ],
      "text/plain": [
       "          movieId             title  \\\n",
       "0               1  Toy Story (1995)   \n",
       "1               1  Toy Story (1995)   \n",
       "2               1  Toy Story (1995)   \n",
       "3               1  Toy Story (1995)   \n",
       "4               1  Toy Story (1995)   \n",
       "...           ...               ...   \n",
       "24999961   208737     Midway (2019)   \n",
       "24999962   208737     Midway (2019)   \n",
       "24999963   208737     Midway (2019)   \n",
       "24999964   208737     Midway (2019)   \n",
       "24999965   208737     Midway (2019)   \n",
       "\n",
       "                                               genres  userId  rating  \n",
       "0         Adventure|Animation|Children|Comedy|Fantasy       2     3.5  \n",
       "1         Adventure|Animation|Children|Comedy|Fantasy       3     4.0  \n",
       "2         Adventure|Animation|Children|Comedy|Fantasy       4     3.0  \n",
       "3         Adventure|Animation|Children|Comedy|Fantasy       5     4.0  \n",
       "4         Adventure|Animation|Children|Comedy|Fantasy       8     4.0  \n",
       "...                                               ...     ...     ...  \n",
       "24999961                             Action|Drama|War  132358     2.0  \n",
       "24999962                             Action|Drama|War  141420     3.0  \n",
       "24999963                             Action|Drama|War  143568     3.5  \n",
       "24999964                             Action|Drama|War  154088     4.0  \n",
       "24999965                             Action|Drama|War  156081     3.5  \n",
       "\n",
       "[24881079 rows x 5 columns]"
      ]
     },
     "execution_count": 38,
     "metadata": {},
     "output_type": "execute_result"
    }
   ],
   "source": [
    "accepted_movies_ratings = movies_ratings[movies_ratings['title'].isin(accepted_movies)]\n",
    "accepted_movies_ratings"
   ]
  },
  {
   "cell_type": "code",
   "execution_count": 39,
   "metadata": {},
   "outputs": [],
   "source": [
    "accepted_movies_ratings_rank = accepted_movies_ratings.groupby('title')['rating'].mean().sort_values(ascending=False)"
   ]
  },
  {
   "cell_type": "code",
   "execution_count": 40,
   "metadata": {},
   "outputs": [
    {
     "data": {
      "text/plain": [
       "title\n",
       "Planet Earth II (2016)                 4.483096\n",
       "Planet Earth (2006)                    4.464797\n",
       "Shawshank Redemption, The (1994)       4.413576\n",
       "Band of Brothers (2001)                4.398599\n",
       "Pollyanna (2003)                       4.384615\n",
       "                                         ...   \n",
       "Saving Christmas (2014)                0.921053\n",
       "Justin Bieber's Believe (2013)         0.904762\n",
       "SuperBabies: Baby Geniuses 2 (2004)    0.899038\n",
       "Hip Hop Witch, Da (2000)               0.854839\n",
       "Kidnapping, Caucasian Style (2014)     0.678571\n",
       "Name: rating, Length: 23344, dtype: float64"
      ]
     },
     "execution_count": 40,
     "metadata": {},
     "output_type": "execute_result"
    }
   ],
   "source": [
    "accepted_movies_ratings_rank"
   ]
  },
  {
   "cell_type": "code",
   "execution_count": 41,
   "metadata": {},
   "outputs": [
    {
     "data": {
      "application/vnd.microsoft.datawrangler.viewer.v0+json": {
       "columns": [
        {
         "name": "index",
         "rawType": "int64",
         "type": "integer"
        },
        {
         "name": "userId",
         "rawType": "int64",
         "type": "integer"
        },
        {
         "name": "movieId",
         "rawType": "int64",
         "type": "integer"
        },
        {
         "name": "tag",
         "rawType": "object",
         "type": "string"
        },
        {
         "name": "timestamp",
         "rawType": "int64",
         "type": "integer"
        }
       ],
       "conversionMethod": "pd.DataFrame",
       "ref": "1d6d5e24-6a4b-4e94-8af8-ee688953bbf6",
       "rows": [
        [
         "0",
         "3",
         "260",
         "classic",
         "1439472355"
        ],
        [
         "1",
         "3",
         "260",
         "sci-fi",
         "1439472256"
        ],
        [
         "2",
         "4",
         "1732",
         "dark comedy",
         "1573943598"
        ],
        [
         "3",
         "4",
         "1732",
         "great dialogue",
         "1573943604"
        ],
        [
         "4",
         "4",
         "7569",
         "so bad it's good",
         "1573943455"
        ]
       ],
       "shape": {
        "columns": 4,
        "rows": 5
       }
      },
      "text/html": [
       "<div>\n",
       "<style scoped>\n",
       "    .dataframe tbody tr th:only-of-type {\n",
       "        vertical-align: middle;\n",
       "    }\n",
       "\n",
       "    .dataframe tbody tr th {\n",
       "        vertical-align: top;\n",
       "    }\n",
       "\n",
       "    .dataframe thead th {\n",
       "        text-align: right;\n",
       "    }\n",
       "</style>\n",
       "<table border=\"1\" class=\"dataframe\">\n",
       "  <thead>\n",
       "    <tr style=\"text-align: right;\">\n",
       "      <th></th>\n",
       "      <th>userId</th>\n",
       "      <th>movieId</th>\n",
       "      <th>tag</th>\n",
       "      <th>timestamp</th>\n",
       "    </tr>\n",
       "  </thead>\n",
       "  <tbody>\n",
       "    <tr>\n",
       "      <th>0</th>\n",
       "      <td>3</td>\n",
       "      <td>260</td>\n",
       "      <td>classic</td>\n",
       "      <td>1439472355</td>\n",
       "    </tr>\n",
       "    <tr>\n",
       "      <th>1</th>\n",
       "      <td>3</td>\n",
       "      <td>260</td>\n",
       "      <td>sci-fi</td>\n",
       "      <td>1439472256</td>\n",
       "    </tr>\n",
       "    <tr>\n",
       "      <th>2</th>\n",
       "      <td>4</td>\n",
       "      <td>1732</td>\n",
       "      <td>dark comedy</td>\n",
       "      <td>1573943598</td>\n",
       "    </tr>\n",
       "    <tr>\n",
       "      <th>3</th>\n",
       "      <td>4</td>\n",
       "      <td>1732</td>\n",
       "      <td>great dialogue</td>\n",
       "      <td>1573943604</td>\n",
       "    </tr>\n",
       "    <tr>\n",
       "      <th>4</th>\n",
       "      <td>4</td>\n",
       "      <td>7569</td>\n",
       "      <td>so bad it's good</td>\n",
       "      <td>1573943455</td>\n",
       "    </tr>\n",
       "  </tbody>\n",
       "</table>\n",
       "</div>"
      ],
      "text/plain": [
       "   userId  movieId               tag   timestamp\n",
       "0       3      260           classic  1439472355\n",
       "1       3      260            sci-fi  1439472256\n",
       "2       4     1732       dark comedy  1573943598\n",
       "3       4     1732    great dialogue  1573943604\n",
       "4       4     7569  so bad it's good  1573943455"
      ]
     },
     "execution_count": 41,
     "metadata": {},
     "output_type": "execute_result"
    }
   ],
   "source": [
    "tags.head()"
   ]
  },
  {
   "cell_type": "code",
   "execution_count": 42,
   "metadata": {},
   "outputs": [],
   "source": [
    "del tags['timestamp']"
   ]
  },
  {
   "cell_type": "code",
   "execution_count": 43,
   "metadata": {},
   "outputs": [
    {
     "data": {
      "application/vnd.microsoft.datawrangler.viewer.v0+json": {
       "columns": [
        {
         "name": "index",
         "rawType": "int64",
         "type": "integer"
        },
        {
         "name": "userId",
         "rawType": "int64",
         "type": "integer"
        },
        {
         "name": "movieId",
         "rawType": "int64",
         "type": "integer"
        },
        {
         "name": "tag",
         "rawType": "object",
         "type": "string"
        }
       ],
       "conversionMethod": "pd.DataFrame",
       "ref": "c23bb132-dcca-479a-ba3a-db1ef7e9f997",
       "rows": [
        [
         "0",
         "3",
         "260",
         "classic"
        ],
        [
         "1",
         "3",
         "260",
         "sci-fi"
        ],
        [
         "2",
         "4",
         "1732",
         "dark comedy"
        ],
        [
         "3",
         "4",
         "1732",
         "great dialogue"
        ],
        [
         "4",
         "4",
         "7569",
         "so bad it's good"
        ],
        [
         "5",
         "4",
         "44665",
         "unreliable narrators"
        ],
        [
         "6",
         "4",
         "115569",
         "tense"
        ],
        [
         "7",
         "4",
         "115713",
         "artificial intelligence"
        ],
        [
         "8",
         "4",
         "115713",
         "philosophical"
        ],
        [
         "9",
         "4",
         "115713",
         "tense"
        ],
        [
         "10",
         "4",
         "148426",
         "so bad it's good"
        ],
        [
         "11",
         "4",
         "164909",
         "cliche"
        ],
        [
         "12",
         "4",
         "164909",
         "musical"
        ],
        [
         "13",
         "4",
         "168250",
         "horror"
        ],
        [
         "14",
         "4",
         "168250",
         "unpredictable"
        ],
        [
         "15",
         "19",
         "2160",
         "Oscar (Best Supporting Actress)"
        ],
        [
         "16",
         "19",
         "7099",
         "adventure"
        ],
        [
         "17",
         "19",
         "7099",
         "anime"
        ],
        [
         "18",
         "19",
         "7099",
         "ecology"
        ],
        [
         "19",
         "19",
         "7099",
         "fantasy"
        ],
        [
         "20",
         "19",
         "7099",
         "Hayao Miyazaki"
        ],
        [
         "21",
         "19",
         "7099",
         "Miyazaki"
        ],
        [
         "22",
         "19",
         "7099",
         "post-apocalyptic"
        ],
        [
         "23",
         "20",
         "1210",
         "bah"
        ],
        [
         "24",
         "43",
         "434",
         "Clint Eastwood"
        ],
        [
         "25",
         "68",
         "3481",
         "music"
        ],
        [
         "26",
         "84",
         "194728",
         "art"
        ],
        [
         "27",
         "84",
         "194728",
         "contemporary art"
        ],
        [
         "28",
         "84",
         "194728",
         "documentary"
        ],
        [
         "29",
         "87",
         "1127",
         "aliens"
        ],
        [
         "30",
         "87",
         "1127",
         "amazing photography"
        ],
        [
         "31",
         "87",
         "1127",
         "Director: James Cameron"
        ],
        [
         "32",
         "87",
         "1127",
         "first contact"
        ],
        [
         "33",
         "87",
         "1127",
         "James Cameron"
        ],
        [
         "34",
         "87",
         "1127",
         "Michael Biehn"
        ],
        [
         "35",
         "87",
         "1127",
         "sci-fi"
        ],
        [
         "36",
         "87",
         "6537",
         "android(s)/cyborg(s)"
        ],
        [
         "37",
         "87",
         "6537",
         "apocalypse"
        ],
        [
         "38",
         "87",
         "6537",
         "Arnold Schwarzenegger"
        ],
        [
         "39",
         "87",
         "6537",
         "artificial intelligence"
        ],
        [
         "40",
         "87",
         "6537",
         "franchise"
        ],
        [
         "41",
         "87",
         "6537",
         "terminator"
        ],
        [
         "42",
         "87",
         "6537",
         "time travel"
        ],
        [
         "43",
         "87",
         "72998",
         "James Cameron"
        ],
        [
         "44",
         "87",
         "72998",
         "sci-fi"
        ],
        [
         "45",
         "87",
         "72998",
         "science fiction"
        ],
        [
         "46",
         "87",
         "79132",
         "sci-fi"
        ],
        [
         "47",
         "87",
         "102445",
         "inferior sequel"
        ],
        [
         "48",
         "87",
         "102445",
         "setting:London (UK) (future)"
        ],
        [
         "49",
         "87",
         "102445",
         "unoriginal"
        ]
       ],
       "shape": {
        "columns": 3,
        "rows": 1093344
       }
      },
      "text/html": [
       "<div>\n",
       "<style scoped>\n",
       "    .dataframe tbody tr th:only-of-type {\n",
       "        vertical-align: middle;\n",
       "    }\n",
       "\n",
       "    .dataframe tbody tr th {\n",
       "        vertical-align: top;\n",
       "    }\n",
       "\n",
       "    .dataframe thead th {\n",
       "        text-align: right;\n",
       "    }\n",
       "</style>\n",
       "<table border=\"1\" class=\"dataframe\">\n",
       "  <thead>\n",
       "    <tr style=\"text-align: right;\">\n",
       "      <th></th>\n",
       "      <th>userId</th>\n",
       "      <th>movieId</th>\n",
       "      <th>tag</th>\n",
       "    </tr>\n",
       "  </thead>\n",
       "  <tbody>\n",
       "    <tr>\n",
       "      <th>0</th>\n",
       "      <td>3</td>\n",
       "      <td>260</td>\n",
       "      <td>classic</td>\n",
       "    </tr>\n",
       "    <tr>\n",
       "      <th>1</th>\n",
       "      <td>3</td>\n",
       "      <td>260</td>\n",
       "      <td>sci-fi</td>\n",
       "    </tr>\n",
       "    <tr>\n",
       "      <th>2</th>\n",
       "      <td>4</td>\n",
       "      <td>1732</td>\n",
       "      <td>dark comedy</td>\n",
       "    </tr>\n",
       "    <tr>\n",
       "      <th>3</th>\n",
       "      <td>4</td>\n",
       "      <td>1732</td>\n",
       "      <td>great dialogue</td>\n",
       "    </tr>\n",
       "    <tr>\n",
       "      <th>4</th>\n",
       "      <td>4</td>\n",
       "      <td>7569</td>\n",
       "      <td>so bad it's good</td>\n",
       "    </tr>\n",
       "    <tr>\n",
       "      <th>...</th>\n",
       "      <td>...</td>\n",
       "      <td>...</td>\n",
       "      <td>...</td>\n",
       "    </tr>\n",
       "    <tr>\n",
       "      <th>1093355</th>\n",
       "      <td>162521</td>\n",
       "      <td>66934</td>\n",
       "      <td>Neil Patrick Harris</td>\n",
       "    </tr>\n",
       "    <tr>\n",
       "      <th>1093356</th>\n",
       "      <td>162521</td>\n",
       "      <td>103341</td>\n",
       "      <td>cornetto trilogy</td>\n",
       "    </tr>\n",
       "    <tr>\n",
       "      <th>1093357</th>\n",
       "      <td>162534</td>\n",
       "      <td>189169</td>\n",
       "      <td>comedy</td>\n",
       "    </tr>\n",
       "    <tr>\n",
       "      <th>1093358</th>\n",
       "      <td>162534</td>\n",
       "      <td>189169</td>\n",
       "      <td>disabled</td>\n",
       "    </tr>\n",
       "    <tr>\n",
       "      <th>1093359</th>\n",
       "      <td>162534</td>\n",
       "      <td>189169</td>\n",
       "      <td>robbery</td>\n",
       "    </tr>\n",
       "  </tbody>\n",
       "</table>\n",
       "<p>1093344 rows × 3 columns</p>\n",
       "</div>"
      ],
      "text/plain": [
       "         userId  movieId                  tag\n",
       "0             3      260              classic\n",
       "1             3      260               sci-fi\n",
       "2             4     1732          dark comedy\n",
       "3             4     1732       great dialogue\n",
       "4             4     7569     so bad it's good\n",
       "...         ...      ...                  ...\n",
       "1093355  162521    66934  Neil Patrick Harris\n",
       "1093356  162521   103341     cornetto trilogy\n",
       "1093357  162534   189169               comedy\n",
       "1093358  162534   189169             disabled\n",
       "1093359  162534   189169              robbery\n",
       "\n",
       "[1093344 rows x 3 columns]"
      ]
     },
     "execution_count": 43,
     "metadata": {},
     "output_type": "execute_result"
    }
   ],
   "source": [
    "tags"
   ]
  },
  {
   "cell_type": "code",
   "execution_count": 44,
   "metadata": {},
   "outputs": [
    {
     "data": {
      "application/vnd.microsoft.datawrangler.viewer.v0+json": {
       "columns": [
        {
         "name": "index",
         "rawType": "int64",
         "type": "integer"
        },
        {
         "name": "movieId",
         "rawType": "int64",
         "type": "integer"
        },
        {
         "name": "title",
         "rawType": "object",
         "type": "string"
        },
        {
         "name": "genres",
         "rawType": "object",
         "type": "string"
        }
       ],
       "conversionMethod": "pd.DataFrame",
       "ref": "d4dcef20-8746-4993-b9be-6ffbba2301b5",
       "rows": [
        [
         "0",
         "1",
         "Toy Story (1995)",
         "Adventure|Animation|Children|Comedy|Fantasy"
        ],
        [
         "1",
         "2",
         "Jumanji (1995)",
         "Adventure|Children|Fantasy"
        ],
        [
         "2",
         "3",
         "Grumpier Old Men (1995)",
         "Comedy|Romance"
        ],
        [
         "3",
         "4",
         "Waiting to Exhale (1995)",
         "Comedy|Drama|Romance"
        ],
        [
         "4",
         "5",
         "Father of the Bride Part II (1995)",
         "Comedy"
        ],
        [
         "5",
         "6",
         "Heat (1995)",
         "Action|Crime|Thriller"
        ],
        [
         "6",
         "7",
         "Sabrina (1995)",
         "Comedy|Romance"
        ],
        [
         "7",
         "8",
         "Tom and Huck (1995)",
         "Adventure|Children"
        ],
        [
         "8",
         "9",
         "Sudden Death (1995)",
         "Action"
        ],
        [
         "9",
         "10",
         "GoldenEye (1995)",
         "Action|Adventure|Thriller"
        ],
        [
         "10",
         "11",
         "American President, The (1995)",
         "Comedy|Drama|Romance"
        ],
        [
         "11",
         "12",
         "Dracula: Dead and Loving It (1995)",
         "Comedy|Horror"
        ],
        [
         "12",
         "13",
         "Balto (1995)",
         "Adventure|Animation|Children"
        ],
        [
         "13",
         "14",
         "Nixon (1995)",
         "Drama"
        ],
        [
         "14",
         "15",
         "Cutthroat Island (1995)",
         "Action|Adventure|Romance"
        ],
        [
         "15",
         "16",
         "Casino (1995)",
         "Crime|Drama"
        ],
        [
         "16",
         "17",
         "Sense and Sensibility (1995)",
         "Drama|Romance"
        ],
        [
         "17",
         "18",
         "Four Rooms (1995)",
         "Comedy"
        ],
        [
         "18",
         "19",
         "Ace Ventura: When Nature Calls (1995)",
         "Comedy"
        ],
        [
         "19",
         "20",
         "Money Train (1995)",
         "Action|Comedy|Crime|Drama|Thriller"
        ],
        [
         "20",
         "21",
         "Get Shorty (1995)",
         "Comedy|Crime|Thriller"
        ],
        [
         "21",
         "22",
         "Copycat (1995)",
         "Crime|Drama|Horror|Mystery|Thriller"
        ],
        [
         "22",
         "23",
         "Assassins (1995)",
         "Action|Crime|Thriller"
        ],
        [
         "23",
         "24",
         "Powder (1995)",
         "Drama|Sci-Fi"
        ],
        [
         "24",
         "25",
         "Leaving Las Vegas (1995)",
         "Drama|Romance"
        ],
        [
         "25",
         "26",
         "Othello (1995)",
         "Drama"
        ],
        [
         "26",
         "27",
         "Now and Then (1995)",
         "Children|Drama"
        ],
        [
         "27",
         "28",
         "Persuasion (1995)",
         "Drama|Romance"
        ],
        [
         "28",
         "29",
         "City of Lost Children, The (Cité des enfants perdus, La) (1995)",
         "Adventure|Drama|Fantasy|Mystery|Sci-Fi"
        ],
        [
         "29",
         "30",
         "Shanghai Triad (Yao a yao yao dao waipo qiao) (1995)",
         "Crime|Drama"
        ],
        [
         "30",
         "31",
         "Dangerous Minds (1995)",
         "Drama"
        ],
        [
         "31",
         "32",
         "Twelve Monkeys (a.k.a. 12 Monkeys) (1995)",
         "Mystery|Sci-Fi|Thriller"
        ],
        [
         "32",
         "33",
         "Wings of Courage (1995)",
         "Adventure|Romance|IMAX"
        ],
        [
         "33",
         "34",
         "Babe (1995)",
         "Children|Drama"
        ],
        [
         "34",
         "35",
         "Carrington (1995)",
         "Drama|Romance"
        ],
        [
         "35",
         "36",
         "Dead Man Walking (1995)",
         "Crime|Drama"
        ],
        [
         "36",
         "37",
         "Across the Sea of Time (1995)",
         "Documentary|IMAX"
        ],
        [
         "37",
         "38",
         "It Takes Two (1995)",
         "Children|Comedy"
        ],
        [
         "38",
         "39",
         "Clueless (1995)",
         "Comedy|Romance"
        ],
        [
         "39",
         "40",
         "Cry, the Beloved Country (1995)",
         "Drama"
        ],
        [
         "40",
         "41",
         "Richard III (1995)",
         "Drama|War"
        ],
        [
         "41",
         "42",
         "Dead Presidents (1995)",
         "Action|Crime|Drama"
        ],
        [
         "42",
         "43",
         "Restoration (1995)",
         "Drama"
        ],
        [
         "43",
         "44",
         "Mortal Kombat (1995)",
         "Action|Adventure|Fantasy"
        ],
        [
         "44",
         "45",
         "To Die For (1995)",
         "Comedy|Drama|Thriller"
        ],
        [
         "45",
         "46",
         "How to Make an American Quilt (1995)",
         "Drama|Romance"
        ],
        [
         "46",
         "47",
         "Seven (a.k.a. Se7en) (1995)",
         "Mystery|Thriller"
        ],
        [
         "47",
         "48",
         "Pocahontas (1995)",
         "Animation|Children|Drama|Musical|Romance"
        ],
        [
         "48",
         "49",
         "When Night Is Falling (1995)",
         "Drama|Romance"
        ],
        [
         "49",
         "50",
         "Usual Suspects, The (1995)",
         "Crime|Mystery|Thriller"
        ]
       ],
       "shape": {
        "columns": 3,
        "rows": 62423
       }
      },
      "text/html": [
       "<div>\n",
       "<style scoped>\n",
       "    .dataframe tbody tr th:only-of-type {\n",
       "        vertical-align: middle;\n",
       "    }\n",
       "\n",
       "    .dataframe tbody tr th {\n",
       "        vertical-align: top;\n",
       "    }\n",
       "\n",
       "    .dataframe thead th {\n",
       "        text-align: right;\n",
       "    }\n",
       "</style>\n",
       "<table border=\"1\" class=\"dataframe\">\n",
       "  <thead>\n",
       "    <tr style=\"text-align: right;\">\n",
       "      <th></th>\n",
       "      <th>movieId</th>\n",
       "      <th>title</th>\n",
       "      <th>genres</th>\n",
       "    </tr>\n",
       "  </thead>\n",
       "  <tbody>\n",
       "    <tr>\n",
       "      <th>0</th>\n",
       "      <td>1</td>\n",
       "      <td>Toy Story (1995)</td>\n",
       "      <td>Adventure|Animation|Children|Comedy|Fantasy</td>\n",
       "    </tr>\n",
       "    <tr>\n",
       "      <th>1</th>\n",
       "      <td>2</td>\n",
       "      <td>Jumanji (1995)</td>\n",
       "      <td>Adventure|Children|Fantasy</td>\n",
       "    </tr>\n",
       "    <tr>\n",
       "      <th>2</th>\n",
       "      <td>3</td>\n",
       "      <td>Grumpier Old Men (1995)</td>\n",
       "      <td>Comedy|Romance</td>\n",
       "    </tr>\n",
       "    <tr>\n",
       "      <th>3</th>\n",
       "      <td>4</td>\n",
       "      <td>Waiting to Exhale (1995)</td>\n",
       "      <td>Comedy|Drama|Romance</td>\n",
       "    </tr>\n",
       "    <tr>\n",
       "      <th>4</th>\n",
       "      <td>5</td>\n",
       "      <td>Father of the Bride Part II (1995)</td>\n",
       "      <td>Comedy</td>\n",
       "    </tr>\n",
       "    <tr>\n",
       "      <th>...</th>\n",
       "      <td>...</td>\n",
       "      <td>...</td>\n",
       "      <td>...</td>\n",
       "    </tr>\n",
       "    <tr>\n",
       "      <th>62418</th>\n",
       "      <td>209157</td>\n",
       "      <td>We (2018)</td>\n",
       "      <td>Drama</td>\n",
       "    </tr>\n",
       "    <tr>\n",
       "      <th>62419</th>\n",
       "      <td>209159</td>\n",
       "      <td>Window of the Soul (2001)</td>\n",
       "      <td>Documentary</td>\n",
       "    </tr>\n",
       "    <tr>\n",
       "      <th>62420</th>\n",
       "      <td>209163</td>\n",
       "      <td>Bad Poems (2018)</td>\n",
       "      <td>Comedy|Drama</td>\n",
       "    </tr>\n",
       "    <tr>\n",
       "      <th>62421</th>\n",
       "      <td>209169</td>\n",
       "      <td>A Girl Thing (2001)</td>\n",
       "      <td>(no genres listed)</td>\n",
       "    </tr>\n",
       "    <tr>\n",
       "      <th>62422</th>\n",
       "      <td>209171</td>\n",
       "      <td>Women of Devil's Island (1962)</td>\n",
       "      <td>Action|Adventure|Drama</td>\n",
       "    </tr>\n",
       "  </tbody>\n",
       "</table>\n",
       "<p>62423 rows × 3 columns</p>\n",
       "</div>"
      ],
      "text/plain": [
       "       movieId                               title  \\\n",
       "0            1                    Toy Story (1995)   \n",
       "1            2                      Jumanji (1995)   \n",
       "2            3             Grumpier Old Men (1995)   \n",
       "3            4            Waiting to Exhale (1995)   \n",
       "4            5  Father of the Bride Part II (1995)   \n",
       "...        ...                                 ...   \n",
       "62418   209157                           We (2018)   \n",
       "62419   209159           Window of the Soul (2001)   \n",
       "62420   209163                    Bad Poems (2018)   \n",
       "62421   209169                 A Girl Thing (2001)   \n",
       "62422   209171      Women of Devil's Island (1962)   \n",
       "\n",
       "                                            genres  \n",
       "0      Adventure|Animation|Children|Comedy|Fantasy  \n",
       "1                       Adventure|Children|Fantasy  \n",
       "2                                   Comedy|Romance  \n",
       "3                             Comedy|Drama|Romance  \n",
       "4                                           Comedy  \n",
       "...                                            ...  \n",
       "62418                                        Drama  \n",
       "62419                                  Documentary  \n",
       "62420                                 Comedy|Drama  \n",
       "62421                           (no genres listed)  \n",
       "62422                       Action|Adventure|Drama  \n",
       "\n",
       "[62423 rows x 3 columns]"
      ]
     },
     "execution_count": 44,
     "metadata": {},
     "output_type": "execute_result"
    }
   ],
   "source": [
    "movies"
   ]
  },
  {
   "cell_type": "code",
   "execution_count": 45,
   "metadata": {},
   "outputs": [],
   "source": [
    "movies_non_genres = movies[['movieId','title']]"
   ]
  },
  {
   "cell_type": "code",
   "execution_count": 46,
   "metadata": {},
   "outputs": [
    {
     "data": {
      "application/vnd.microsoft.datawrangler.viewer.v0+json": {
       "columns": [
        {
         "name": "index",
         "rawType": "int64",
         "type": "integer"
        },
        {
         "name": "movieId",
         "rawType": "int64",
         "type": "integer"
        },
        {
         "name": "title",
         "rawType": "object",
         "type": "string"
        }
       ],
       "conversionMethod": "pd.DataFrame",
       "ref": "699c2987-08c2-4975-848c-3952822a63f0",
       "rows": [
        [
         "0",
         "1",
         "Toy Story (1995)"
        ],
        [
         "1",
         "2",
         "Jumanji (1995)"
        ],
        [
         "2",
         "3",
         "Grumpier Old Men (1995)"
        ],
        [
         "3",
         "4",
         "Waiting to Exhale (1995)"
        ],
        [
         "4",
         "5",
         "Father of the Bride Part II (1995)"
        ],
        [
         "5",
         "6",
         "Heat (1995)"
        ],
        [
         "6",
         "7",
         "Sabrina (1995)"
        ],
        [
         "7",
         "8",
         "Tom and Huck (1995)"
        ],
        [
         "8",
         "9",
         "Sudden Death (1995)"
        ],
        [
         "9",
         "10",
         "GoldenEye (1995)"
        ],
        [
         "10",
         "11",
         "American President, The (1995)"
        ],
        [
         "11",
         "12",
         "Dracula: Dead and Loving It (1995)"
        ],
        [
         "12",
         "13",
         "Balto (1995)"
        ],
        [
         "13",
         "14",
         "Nixon (1995)"
        ],
        [
         "14",
         "15",
         "Cutthroat Island (1995)"
        ],
        [
         "15",
         "16",
         "Casino (1995)"
        ],
        [
         "16",
         "17",
         "Sense and Sensibility (1995)"
        ],
        [
         "17",
         "18",
         "Four Rooms (1995)"
        ],
        [
         "18",
         "19",
         "Ace Ventura: When Nature Calls (1995)"
        ],
        [
         "19",
         "20",
         "Money Train (1995)"
        ],
        [
         "20",
         "21",
         "Get Shorty (1995)"
        ],
        [
         "21",
         "22",
         "Copycat (1995)"
        ],
        [
         "22",
         "23",
         "Assassins (1995)"
        ],
        [
         "23",
         "24",
         "Powder (1995)"
        ],
        [
         "24",
         "25",
         "Leaving Las Vegas (1995)"
        ],
        [
         "25",
         "26",
         "Othello (1995)"
        ],
        [
         "26",
         "27",
         "Now and Then (1995)"
        ],
        [
         "27",
         "28",
         "Persuasion (1995)"
        ],
        [
         "28",
         "29",
         "City of Lost Children, The (Cité des enfants perdus, La) (1995)"
        ],
        [
         "29",
         "30",
         "Shanghai Triad (Yao a yao yao dao waipo qiao) (1995)"
        ],
        [
         "30",
         "31",
         "Dangerous Minds (1995)"
        ],
        [
         "31",
         "32",
         "Twelve Monkeys (a.k.a. 12 Monkeys) (1995)"
        ],
        [
         "32",
         "33",
         "Wings of Courage (1995)"
        ],
        [
         "33",
         "34",
         "Babe (1995)"
        ],
        [
         "34",
         "35",
         "Carrington (1995)"
        ],
        [
         "35",
         "36",
         "Dead Man Walking (1995)"
        ],
        [
         "36",
         "37",
         "Across the Sea of Time (1995)"
        ],
        [
         "37",
         "38",
         "It Takes Two (1995)"
        ],
        [
         "38",
         "39",
         "Clueless (1995)"
        ],
        [
         "39",
         "40",
         "Cry, the Beloved Country (1995)"
        ],
        [
         "40",
         "41",
         "Richard III (1995)"
        ],
        [
         "41",
         "42",
         "Dead Presidents (1995)"
        ],
        [
         "42",
         "43",
         "Restoration (1995)"
        ],
        [
         "43",
         "44",
         "Mortal Kombat (1995)"
        ],
        [
         "44",
         "45",
         "To Die For (1995)"
        ],
        [
         "45",
         "46",
         "How to Make an American Quilt (1995)"
        ],
        [
         "46",
         "47",
         "Seven (a.k.a. Se7en) (1995)"
        ],
        [
         "47",
         "48",
         "Pocahontas (1995)"
        ],
        [
         "48",
         "49",
         "When Night Is Falling (1995)"
        ],
        [
         "49",
         "50",
         "Usual Suspects, The (1995)"
        ]
       ],
       "shape": {
        "columns": 2,
        "rows": 62423
       }
      },
      "text/html": [
       "<div>\n",
       "<style scoped>\n",
       "    .dataframe tbody tr th:only-of-type {\n",
       "        vertical-align: middle;\n",
       "    }\n",
       "\n",
       "    .dataframe tbody tr th {\n",
       "        vertical-align: top;\n",
       "    }\n",
       "\n",
       "    .dataframe thead th {\n",
       "        text-align: right;\n",
       "    }\n",
       "</style>\n",
       "<table border=\"1\" class=\"dataframe\">\n",
       "  <thead>\n",
       "    <tr style=\"text-align: right;\">\n",
       "      <th></th>\n",
       "      <th>movieId</th>\n",
       "      <th>title</th>\n",
       "    </tr>\n",
       "  </thead>\n",
       "  <tbody>\n",
       "    <tr>\n",
       "      <th>0</th>\n",
       "      <td>1</td>\n",
       "      <td>Toy Story (1995)</td>\n",
       "    </tr>\n",
       "    <tr>\n",
       "      <th>1</th>\n",
       "      <td>2</td>\n",
       "      <td>Jumanji (1995)</td>\n",
       "    </tr>\n",
       "    <tr>\n",
       "      <th>2</th>\n",
       "      <td>3</td>\n",
       "      <td>Grumpier Old Men (1995)</td>\n",
       "    </tr>\n",
       "    <tr>\n",
       "      <th>3</th>\n",
       "      <td>4</td>\n",
       "      <td>Waiting to Exhale (1995)</td>\n",
       "    </tr>\n",
       "    <tr>\n",
       "      <th>4</th>\n",
       "      <td>5</td>\n",
       "      <td>Father of the Bride Part II (1995)</td>\n",
       "    </tr>\n",
       "    <tr>\n",
       "      <th>...</th>\n",
       "      <td>...</td>\n",
       "      <td>...</td>\n",
       "    </tr>\n",
       "    <tr>\n",
       "      <th>62418</th>\n",
       "      <td>209157</td>\n",
       "      <td>We (2018)</td>\n",
       "    </tr>\n",
       "    <tr>\n",
       "      <th>62419</th>\n",
       "      <td>209159</td>\n",
       "      <td>Window of the Soul (2001)</td>\n",
       "    </tr>\n",
       "    <tr>\n",
       "      <th>62420</th>\n",
       "      <td>209163</td>\n",
       "      <td>Bad Poems (2018)</td>\n",
       "    </tr>\n",
       "    <tr>\n",
       "      <th>62421</th>\n",
       "      <td>209169</td>\n",
       "      <td>A Girl Thing (2001)</td>\n",
       "    </tr>\n",
       "    <tr>\n",
       "      <th>62422</th>\n",
       "      <td>209171</td>\n",
       "      <td>Women of Devil's Island (1962)</td>\n",
       "    </tr>\n",
       "  </tbody>\n",
       "</table>\n",
       "<p>62423 rows × 2 columns</p>\n",
       "</div>"
      ],
      "text/plain": [
       "       movieId                               title\n",
       "0            1                    Toy Story (1995)\n",
       "1            2                      Jumanji (1995)\n",
       "2            3             Grumpier Old Men (1995)\n",
       "3            4            Waiting to Exhale (1995)\n",
       "4            5  Father of the Bride Part II (1995)\n",
       "...        ...                                 ...\n",
       "62418   209157                           We (2018)\n",
       "62419   209159           Window of the Soul (2001)\n",
       "62420   209163                    Bad Poems (2018)\n",
       "62421   209169                 A Girl Thing (2001)\n",
       "62422   209171      Women of Devil's Island (1962)\n",
       "\n",
       "[62423 rows x 2 columns]"
      ]
     },
     "execution_count": 46,
     "metadata": {},
     "output_type": "execute_result"
    }
   ],
   "source": [
    "movies_non_genres"
   ]
  },
  {
   "cell_type": "code",
   "execution_count": 47,
   "metadata": {},
   "outputs": [
    {
     "data": {
      "application/vnd.microsoft.datawrangler.viewer.v0+json": {
       "columns": [
        {
         "name": "index",
         "rawType": "int64",
         "type": "integer"
        },
        {
         "name": "movieId",
         "rawType": "int64",
         "type": "integer"
        },
        {
         "name": "title",
         "rawType": "object",
         "type": "string"
        },
        {
         "name": "userId",
         "rawType": "int64",
         "type": "integer"
        },
        {
         "name": "tag",
         "rawType": "object",
         "type": "string"
        }
       ],
       "conversionMethod": "pd.DataFrame",
       "ref": "9441026b-8f56-4ff9-bb53-1213b9d5b012",
       "rows": [
        [
         "0",
         "1",
         "Toy Story (1995)",
         "791",
         "Owned"
        ],
        [
         "1",
         "1",
         "Toy Story (1995)",
         "1048",
         "imdb top 250"
        ],
        [
         "2",
         "1",
         "Toy Story (1995)",
         "1361",
         "Pixar"
        ],
        [
         "3",
         "1",
         "Toy Story (1995)",
         "3164",
         "Pixar"
        ],
        [
         "4",
         "1",
         "Toy Story (1995)",
         "3164",
         "time travel"
        ],
        [
         "5",
         "1",
         "Toy Story (1995)",
         "3448",
         "children"
        ],
        [
         "6",
         "1",
         "Toy Story (1995)",
         "3448",
         "comedy"
        ],
        [
         "7",
         "1",
         "Toy Story (1995)",
         "3448",
         "funny"
        ],
        [
         "8",
         "1",
         "Toy Story (1995)",
         "3448",
         "witty"
        ],
        [
         "9",
         "1",
         "Toy Story (1995)",
         "4676",
         "rated-G"
        ],
        [
         "10",
         "1",
         "Toy Story (1995)",
         "4693",
         "animation"
        ],
        [
         "11",
         "1",
         "Toy Story (1995)",
         "4693",
         "Pixar"
        ],
        [
         "12",
         "1",
         "Toy Story (1995)",
         "5054",
         "computer animation"
        ],
        [
         "13",
         "1",
         "Toy Story (1995)",
         "5054",
         "good cartoon chindren"
        ],
        [
         "14",
         "1",
         "Toy Story (1995)",
         "5054",
         "pixar"
        ],
        [
         "15",
         "1",
         "Toy Story (1995)",
         "5571",
         "friendship"
        ],
        [
         "16",
         "1",
         "Toy Story (1995)",
         "6285",
         "bright"
        ],
        [
         "17",
         "1",
         "Toy Story (1995)",
         "6285",
         "DARING RESCUES"
        ],
        [
         "18",
         "1",
         "Toy Story (1995)",
         "6285",
         "fanciful"
        ],
        [
         "19",
         "1",
         "Toy Story (1995)",
         "6285",
         "HEROIC MISSION"
        ],
        [
         "20",
         "1",
         "Toy Story (1995)",
         "6285",
         "humorous"
        ],
        [
         "21",
         "1",
         "Toy Story (1995)",
         "6285",
         "light"
        ],
        [
         "22",
         "1",
         "Toy Story (1995)",
         "6285",
         "rousing"
        ],
        [
         "23",
         "1",
         "Toy Story (1995)",
         "6285",
         "TOYS COME TO LIFE"
        ],
        [
         "24",
         "1",
         "Toy Story (1995)",
         "6285",
         "UNLIKELY FRIENDSHIPS"
        ],
        [
         "25",
         "1",
         "Toy Story (1995)",
         "6285",
         "warm"
        ],
        [
         "26",
         "1",
         "Toy Story (1995)",
         "6285",
         "witty"
        ],
        [
         "27",
         "1",
         "Toy Story (1995)",
         "6448",
         "animation"
        ],
        [
         "28",
         "1",
         "Toy Story (1995)",
         "6448",
         "Disney"
        ],
        [
         "29",
         "1",
         "Toy Story (1995)",
         "6448",
         "friendship"
        ],
        [
         "30",
         "1",
         "Toy Story (1995)",
         "6448",
         "pixar"
        ],
        [
         "31",
         "1",
         "Toy Story (1995)",
         "6550",
         "boy"
        ],
        [
         "32",
         "1",
         "Toy Story (1995)",
         "6550",
         "boy next door"
        ],
        [
         "33",
         "1",
         "Toy Story (1995)",
         "6550",
         "bullying"
        ],
        [
         "34",
         "1",
         "Toy Story (1995)",
         "6550",
         "friends"
        ],
        [
         "35",
         "1",
         "Toy Story (1995)",
         "6550",
         "friendship"
        ],
        [
         "36",
         "1",
         "Toy Story (1995)",
         "6550",
         "jealousy"
        ],
        [
         "37",
         "1",
         "Toy Story (1995)",
         "6550",
         "martial arts"
        ],
        [
         "38",
         "1",
         "Toy Story (1995)",
         "6550",
         "mission"
        ],
        [
         "39",
         "1",
         "Toy Story (1995)",
         "6550",
         "neighborhood"
        ],
        [
         "40",
         "1",
         "Toy Story (1995)",
         "6550",
         "new toy"
        ],
        [
         "41",
         "1",
         "Toy Story (1995)",
         "6550",
         "pixar"
        ],
        [
         "42",
         "1",
         "Toy Story (1995)",
         "6550",
         "rescue"
        ],
        [
         "43",
         "1",
         "Toy Story (1995)",
         "6550",
         "resourcefulness"
        ],
        [
         "44",
         "1",
         "Toy Story (1995)",
         "6550",
         "rivalry"
        ],
        [
         "45",
         "1",
         "Toy Story (1995)",
         "6550",
         "toy"
        ],
        [
         "46",
         "1",
         "Toy Story (1995)",
         "6550",
         "toy comes to life"
        ],
        [
         "47",
         "1",
         "Toy Story (1995)",
         "6550",
         "walkie talkie"
        ],
        [
         "48",
         "1",
         "Toy Story (1995)",
         "7528",
         "clever"
        ],
        [
         "49",
         "1",
         "Toy Story (1995)",
         "7570",
         "animation"
        ]
       ],
       "shape": {
        "columns": 4,
        "rows": 1093344
       }
      },
      "text/html": [
       "<div>\n",
       "<style scoped>\n",
       "    .dataframe tbody tr th:only-of-type {\n",
       "        vertical-align: middle;\n",
       "    }\n",
       "\n",
       "    .dataframe tbody tr th {\n",
       "        vertical-align: top;\n",
       "    }\n",
       "\n",
       "    .dataframe thead th {\n",
       "        text-align: right;\n",
       "    }\n",
       "</style>\n",
       "<table border=\"1\" class=\"dataframe\">\n",
       "  <thead>\n",
       "    <tr style=\"text-align: right;\">\n",
       "      <th></th>\n",
       "      <th>movieId</th>\n",
       "      <th>title</th>\n",
       "      <th>userId</th>\n",
       "      <th>tag</th>\n",
       "    </tr>\n",
       "  </thead>\n",
       "  <tbody>\n",
       "    <tr>\n",
       "      <th>0</th>\n",
       "      <td>1</td>\n",
       "      <td>Toy Story (1995)</td>\n",
       "      <td>791</td>\n",
       "      <td>Owned</td>\n",
       "    </tr>\n",
       "    <tr>\n",
       "      <th>1</th>\n",
       "      <td>1</td>\n",
       "      <td>Toy Story (1995)</td>\n",
       "      <td>1048</td>\n",
       "      <td>imdb top 250</td>\n",
       "    </tr>\n",
       "    <tr>\n",
       "      <th>2</th>\n",
       "      <td>1</td>\n",
       "      <td>Toy Story (1995)</td>\n",
       "      <td>1361</td>\n",
       "      <td>Pixar</td>\n",
       "    </tr>\n",
       "    <tr>\n",
       "      <th>3</th>\n",
       "      <td>1</td>\n",
       "      <td>Toy Story (1995)</td>\n",
       "      <td>3164</td>\n",
       "      <td>Pixar</td>\n",
       "    </tr>\n",
       "    <tr>\n",
       "      <th>4</th>\n",
       "      <td>1</td>\n",
       "      <td>Toy Story (1995)</td>\n",
       "      <td>3164</td>\n",
       "      <td>time travel</td>\n",
       "    </tr>\n",
       "    <tr>\n",
       "      <th>...</th>\n",
       "      <td>...</td>\n",
       "      <td>...</td>\n",
       "      <td>...</td>\n",
       "      <td>...</td>\n",
       "    </tr>\n",
       "    <tr>\n",
       "      <th>1093339</th>\n",
       "      <td>209063</td>\n",
       "      <td>The Prep School Negro (2012)</td>\n",
       "      <td>96399</td>\n",
       "      <td>Philadelphia</td>\n",
       "    </tr>\n",
       "    <tr>\n",
       "      <th>1093340</th>\n",
       "      <td>209063</td>\n",
       "      <td>The Prep School Negro (2012)</td>\n",
       "      <td>96399</td>\n",
       "      <td>private school</td>\n",
       "    </tr>\n",
       "    <tr>\n",
       "      <th>1093341</th>\n",
       "      <td>209063</td>\n",
       "      <td>The Prep School Negro (2012)</td>\n",
       "      <td>96399</td>\n",
       "      <td>quaker</td>\n",
       "    </tr>\n",
       "    <tr>\n",
       "      <th>1093342</th>\n",
       "      <td>209063</td>\n",
       "      <td>The Prep School Negro (2012)</td>\n",
       "      <td>96399</td>\n",
       "      <td>racism</td>\n",
       "    </tr>\n",
       "    <tr>\n",
       "      <th>1093343</th>\n",
       "      <td>209063</td>\n",
       "      <td>The Prep School Negro (2012)</td>\n",
       "      <td>96399</td>\n",
       "      <td>thought-provoking</td>\n",
       "    </tr>\n",
       "  </tbody>\n",
       "</table>\n",
       "<p>1093344 rows × 4 columns</p>\n",
       "</div>"
      ],
      "text/plain": [
       "         movieId                         title  userId                tag\n",
       "0              1              Toy Story (1995)     791              Owned\n",
       "1              1              Toy Story (1995)    1048       imdb top 250\n",
       "2              1              Toy Story (1995)    1361              Pixar\n",
       "3              1              Toy Story (1995)    3164              Pixar\n",
       "4              1              Toy Story (1995)    3164        time travel\n",
       "...          ...                           ...     ...                ...\n",
       "1093339   209063  The Prep School Negro (2012)   96399       Philadelphia\n",
       "1093340   209063  The Prep School Negro (2012)   96399     private school\n",
       "1093341   209063  The Prep School Negro (2012)   96399             quaker\n",
       "1093342   209063  The Prep School Negro (2012)   96399             racism\n",
       "1093343   209063  The Prep School Negro (2012)   96399  thought-provoking\n",
       "\n",
       "[1093344 rows x 4 columns]"
      ]
     },
     "execution_count": 47,
     "metadata": {},
     "output_type": "execute_result"
    }
   ],
   "source": [
    "movies_tags = pd.merge(movies_non_genres,tags, on='movieId', how='inner')\n",
    "movies_tags"
   ]
  },
  {
   "cell_type": "code",
   "execution_count": 48,
   "metadata": {},
   "outputs": [
    {
     "data": {
      "text/plain": [
       "title\n",
       "Star Wars: Episode IV - A New Hope (1977)    6180\n",
       "Pulp Fiction (1994)                          4767\n",
       "Inception (2010)                             4767\n",
       "Interstellar (2014)                          3616\n",
       "Fight Club (1999)                            3612\n",
       "                                             ... \n",
       "Catacombs (1964)                                1\n",
       "Sergio (2009)                                   1\n",
       "Cat's Play (1974)                               1\n",
       "Serpent (2017)                                  1\n",
       "줄탁동시 (2012)                                     1\n",
       "Length: 45208, dtype: int64"
      ]
     },
     "execution_count": 48,
     "metadata": {},
     "output_type": "execute_result"
    }
   ],
   "source": [
    "tagged = movies_tags.groupby('title').size().sort_values(ascending=False)\n",
    "tagged"
   ]
  },
  {
   "cell_type": "code",
   "execution_count": 49,
   "metadata": {},
   "outputs": [],
   "source": [
    "fun_tags = movies_tags['tag'].str.contains('funny')\n",
    "fun_movies = movies_tags[fun_tags]"
   ]
  },
  {
   "cell_type": "code",
   "execution_count": 50,
   "metadata": {},
   "outputs": [
    {
     "data": {
      "application/vnd.microsoft.datawrangler.viewer.v0+json": {
       "columns": [
        {
         "name": "index",
         "rawType": "int64",
         "type": "integer"
        },
        {
         "name": "movieId",
         "rawType": "int64",
         "type": "integer"
        },
        {
         "name": "title",
         "rawType": "object",
         "type": "string"
        },
        {
         "name": "userId",
         "rawType": "int64",
         "type": "integer"
        },
        {
         "name": "tag",
         "rawType": "object",
         "type": "string"
        }
       ],
       "conversionMethod": "pd.DataFrame",
       "ref": "693c41c1-1d50-47c1-9bef-b0be14e6fddc",
       "rows": [
        [
         "7",
         "1",
         "Toy Story (1995)",
         "3448",
         "funny"
        ],
        [
         "52",
         "1",
         "Toy Story (1995)",
         "7570",
         "funny"
        ],
        [
         "82",
         "1",
         "Toy Story (1995)",
         "17069",
         "funny"
        ],
        [
         "87",
         "1",
         "Toy Story (1995)",
         "19663",
         "funny"
        ],
        [
         "94",
         "1",
         "Toy Story (1995)",
         "20346",
         "funny"
        ],
        [
         "119",
         "1",
         "Toy Story (1995)",
         "28870",
         "funny"
        ],
        [
         "172",
         "1",
         "Toy Story (1995)",
         "41275",
         "funny"
        ],
        [
         "178",
         "1",
         "Toy Story (1995)",
         "42022",
         "funny"
        ],
        [
         "185",
         "1",
         "Toy Story (1995)",
         "42923",
         "funny"
        ],
        [
         "203",
         "1",
         "Toy Story (1995)",
         "47901",
         "funny"
        ],
        [
         "211",
         "1",
         "Toy Story (1995)",
         "48627",
         "funny"
        ],
        [
         "216",
         "1",
         "Toy Story (1995)",
         "50263",
         "funny"
        ],
        [
         "232",
         "1",
         "Toy Story (1995)",
         "51799",
         "funny"
        ],
        [
         "243",
         "1",
         "Toy Story (1995)",
         "53708",
         "funny"
        ],
        [
         "255",
         "1",
         "Toy Story (1995)",
         "55389",
         "funny"
        ],
        [
         "268",
         "1",
         "Toy Story (1995)",
         "56238",
         "funny"
        ],
        [
         "310",
         "1",
         "Toy Story (1995)",
         "66212",
         "funny lines"
        ],
        [
         "330",
         "1",
         "Toy Story (1995)",
         "71054",
         "funny"
        ],
        [
         "367",
         "1",
         "Toy Story (1995)",
         "79880",
         "funny"
        ],
        [
         "385",
         "1",
         "Toy Story (1995)",
         "80811",
         "funny"
        ],
        [
         "390",
         "1",
         "Toy Story (1995)",
         "81948",
         "funny"
        ],
        [
         "394",
         "1",
         "Toy Story (1995)",
         "82157",
         "funny"
        ],
        [
         "442",
         "1",
         "Toy Story (1995)",
         "90782",
         "funny"
        ],
        [
         "466",
         "1",
         "Toy Story (1995)",
         "99605",
         "funny"
        ],
        [
         "474",
         "1",
         "Toy Story (1995)",
         "102568",
         "funny"
        ],
        [
         "504",
         "1",
         "Toy Story (1995)",
         "110339",
         "funny"
        ],
        [
         "535",
         "1",
         "Toy Story (1995)",
         "122641",
         "funny"
        ],
        [
         "590",
         "1",
         "Toy Story (1995)",
         "135983",
         "funny"
        ],
        [
         "607",
         "1",
         "Toy Story (1995)",
         "136701",
         "funny"
        ],
        [
         "629",
         "1",
         "Toy Story (1995)",
         "142781",
         "funny"
        ],
        [
         "658",
         "1",
         "Toy Story (1995)",
         "154129",
         "funny"
        ],
        [
         "877",
         "3",
         "Grumpier Old Men (1995)",
         "210",
         "funny"
        ],
        [
         "891",
         "3",
         "Grumpier Old Men (1995)",
         "61094",
         "old people that is actually funny"
        ],
        [
         "1717",
         "10",
         "GoldenEye (1995)",
         "46910",
         "funny"
        ],
        [
         "1725",
         "10",
         "GoldenEye (1995)",
         "51106",
         "funny"
        ],
        [
         "1853",
         "12",
         "Dracula: Dead and Loving It (1995)",
         "46963",
         "funny"
        ],
        [
         "2822",
         "19",
         "Ace Ventura: When Nature Calls (1995)",
         "86124",
         "very funny"
        ],
        [
         "2844",
         "19",
         "Ace Ventura: When Nature Calls (1995)",
         "111183",
         "very funny"
        ],
        [
         "2937",
         "21",
         "Get Shorty (1995)",
         "66976",
         "funny"
        ],
        [
         "2943",
         "21",
         "Get Shorty (1995)",
         "129855",
         "funny!"
        ],
        [
         "5513",
         "34",
         "Babe (1995)",
         "20346",
         "funny"
        ],
        [
         "5520",
         "34",
         "Babe (1995)",
         "22655",
         "funny"
        ],
        [
         "5552",
         "34",
         "Babe (1995)",
         "48627",
         "funny"
        ],
        [
         "5574",
         "34",
         "Babe (1995)",
         "89977",
         "funny"
        ],
        [
         "5827",
         "39",
         "Clueless (1995)",
         "15078",
         "funny"
        ],
        [
         "5869",
         "39",
         "Clueless (1995)",
         "36159",
         "funny"
        ],
        [
         "5876",
         "39",
         "Clueless (1995)",
         "39687",
         "funny"
        ],
        [
         "5895",
         "39",
         "Clueless (1995)",
         "51799",
         "funny"
        ],
        [
         "5910",
         "39",
         "Clueless (1995)",
         "60081",
         "funny"
        ],
        [
         "5927",
         "39",
         "Clueless (1995)",
         "66976",
         "funny"
        ]
       ],
       "shape": {
        "columns": 4,
        "rows": 5996
       }
      },
      "text/html": [
       "<div>\n",
       "<style scoped>\n",
       "    .dataframe tbody tr th:only-of-type {\n",
       "        vertical-align: middle;\n",
       "    }\n",
       "\n",
       "    .dataframe tbody tr th {\n",
       "        vertical-align: top;\n",
       "    }\n",
       "\n",
       "    .dataframe thead th {\n",
       "        text-align: right;\n",
       "    }\n",
       "</style>\n",
       "<table border=\"1\" class=\"dataframe\">\n",
       "  <thead>\n",
       "    <tr style=\"text-align: right;\">\n",
       "      <th></th>\n",
       "      <th>movieId</th>\n",
       "      <th>title</th>\n",
       "      <th>userId</th>\n",
       "      <th>tag</th>\n",
       "    </tr>\n",
       "  </thead>\n",
       "  <tbody>\n",
       "    <tr>\n",
       "      <th>7</th>\n",
       "      <td>1</td>\n",
       "      <td>Toy Story (1995)</td>\n",
       "      <td>3448</td>\n",
       "      <td>funny</td>\n",
       "    </tr>\n",
       "    <tr>\n",
       "      <th>52</th>\n",
       "      <td>1</td>\n",
       "      <td>Toy Story (1995)</td>\n",
       "      <td>7570</td>\n",
       "      <td>funny</td>\n",
       "    </tr>\n",
       "    <tr>\n",
       "      <th>82</th>\n",
       "      <td>1</td>\n",
       "      <td>Toy Story (1995)</td>\n",
       "      <td>17069</td>\n",
       "      <td>funny</td>\n",
       "    </tr>\n",
       "    <tr>\n",
       "      <th>87</th>\n",
       "      <td>1</td>\n",
       "      <td>Toy Story (1995)</td>\n",
       "      <td>19663</td>\n",
       "      <td>funny</td>\n",
       "    </tr>\n",
       "    <tr>\n",
       "      <th>94</th>\n",
       "      <td>1</td>\n",
       "      <td>Toy Story (1995)</td>\n",
       "      <td>20346</td>\n",
       "      <td>funny</td>\n",
       "    </tr>\n",
       "    <tr>\n",
       "      <th>...</th>\n",
       "      <td>...</td>\n",
       "      <td>...</td>\n",
       "      <td>...</td>\n",
       "      <td>...</td>\n",
       "    </tr>\n",
       "    <tr>\n",
       "      <th>1091841</th>\n",
       "      <td>204302</td>\n",
       "      <td>Ek Ladki Ko Dekha Toh Aisa Laga (2019)</td>\n",
       "      <td>118674</td>\n",
       "      <td>funny</td>\n",
       "    </tr>\n",
       "    <tr>\n",
       "      <th>1092379</th>\n",
       "      <td>204878</td>\n",
       "      <td>Dolemite Is My Name (2019)</td>\n",
       "      <td>3842</td>\n",
       "      <td>funny</td>\n",
       "    </tr>\n",
       "    <tr>\n",
       "      <th>1092440</th>\n",
       "      <td>205054</td>\n",
       "      <td>Hustlers (2019)</td>\n",
       "      <td>94239</td>\n",
       "      <td>funny</td>\n",
       "    </tr>\n",
       "    <tr>\n",
       "      <th>1092533</th>\n",
       "      <td>205287</td>\n",
       "      <td>Bacurau (2019)</td>\n",
       "      <td>45004</td>\n",
       "      <td>funny</td>\n",
       "    </tr>\n",
       "    <tr>\n",
       "      <th>1093062</th>\n",
       "      <td>207189</td>\n",
       "      <td>The Addams Family (2019)</td>\n",
       "      <td>94239</td>\n",
       "      <td>funny</td>\n",
       "    </tr>\n",
       "  </tbody>\n",
       "</table>\n",
       "<p>5996 rows × 4 columns</p>\n",
       "</div>"
      ],
      "text/plain": [
       "         movieId                                   title  userId    tag\n",
       "7              1                        Toy Story (1995)    3448  funny\n",
       "52             1                        Toy Story (1995)    7570  funny\n",
       "82             1                        Toy Story (1995)   17069  funny\n",
       "87             1                        Toy Story (1995)   19663  funny\n",
       "94             1                        Toy Story (1995)   20346  funny\n",
       "...          ...                                     ...     ...    ...\n",
       "1091841   204302  Ek Ladki Ko Dekha Toh Aisa Laga (2019)  118674  funny\n",
       "1092379   204878              Dolemite Is My Name (2019)    3842  funny\n",
       "1092440   205054                         Hustlers (2019)   94239  funny\n",
       "1092533   205287                          Bacurau (2019)   45004  funny\n",
       "1093062   207189                The Addams Family (2019)   94239  funny\n",
       "\n",
       "[5996 rows x 4 columns]"
      ]
     },
     "execution_count": 50,
     "metadata": {},
     "output_type": "execute_result"
    }
   ],
   "source": [
    "fun_movies"
   ]
  },
  {
   "cell_type": "code",
   "execution_count": 51,
   "metadata": {},
   "outputs": [
    {
     "data": {
      "text/plain": [
       "title\n",
       "Intouchables (2011)                       65\n",
       "Grand Budapest Hotel, The (2014)          62\n",
       "Scott Pilgrim vs. the World (2010)        51\n",
       "Hangover, The (2009)                      50\n",
       "Zombieland (2009)                         50\n",
       "                                          ..\n",
       "Party, The (1968)                          1\n",
       "Ek Ladki Ko Dekha Toh Aisa Laga (2019)     1\n",
       "Patchwork (2015)                           1\n",
       "Eddie Murphy Raw (1987)                    1\n",
       "(500) Days of Summer (2009)                1\n",
       "Length: 1417, dtype: int64"
      ]
     },
     "execution_count": 51,
     "metadata": {},
     "output_type": "execute_result"
    }
   ],
   "source": [
    "most_fun_movies = fun_movies.groupby('title').size().sort_values(ascending=False)\n",
    "most_fun_movies"
   ]
  },
  {
   "cell_type": "code",
   "execution_count": 52,
   "metadata": {},
   "outputs": [],
   "source": [
    "terminatordf_tag = movies_tags['title'].str.contains('Terminator: Dark Fate')"
   ]
  },
  {
   "cell_type": "code",
   "execution_count": 53,
   "metadata": {},
   "outputs": [
    {
     "data": {
      "application/vnd.microsoft.datawrangler.viewer.v0+json": {
       "columns": [
        {
         "name": "index",
         "rawType": "int64",
         "type": "integer"
        },
        {
         "name": "movieId",
         "rawType": "int64",
         "type": "integer"
        },
        {
         "name": "title",
         "rawType": "object",
         "type": "string"
        },
        {
         "name": "userId",
         "rawType": "int64",
         "type": "integer"
        },
        {
         "name": "tag",
         "rawType": "object",
         "type": "string"
        }
       ],
       "conversionMethod": "pd.DataFrame",
       "ref": "1f1ba683-a169-4759-afc7-3374d7b8c4f3",
       "rows": [
        [
         "1093156",
         "207830",
         "Terminator: Dark Fate (2019)",
         "57837",
         "action"
        ],
        [
         "1093157",
         "207830",
         "Terminator: Dark Fate (2019)",
         "57837",
         "cyborg"
        ],
        [
         "1093158",
         "207830",
         "Terminator: Dark Fate (2019)",
         "57837",
         "female protagonist"
        ],
        [
         "1093159",
         "207830",
         "Terminator: Dark Fate (2019)",
         "57837",
         "mexico"
        ],
        [
         "1093160",
         "207830",
         "Terminator: Dark Fate (2019)",
         "57837",
         "sci-fi"
        ],
        [
         "1093161",
         "207830",
         "Terminator: Dark Fate (2019)",
         "57837",
         "terminator"
        ],
        [
         "1093162",
         "207830",
         "Terminator: Dark Fate (2019)",
         "72360",
         "prospect preferred"
        ],
        [
         "1093163",
         "207830",
         "Terminator: Dark Fate (2019)",
         "94239",
         "altenrate future"
        ],
        [
         "1093164",
         "207830",
         "Terminator: Dark Fate (2019)",
         "94239",
         "Arnold Schwarzenegger"
        ],
        [
         "1093165",
         "207830",
         "Terminator: Dark Fate (2019)",
         "94239",
         "commentary on US border control policy"
        ],
        [
         "1093166",
         "207830",
         "Terminator: Dark Fate (2019)",
         "94239",
         "de-aging done well"
        ],
        [
         "1093167",
         "207830",
         "Terminator: Dark Fate (2019)",
         "94239",
         "enhanced human"
        ],
        [
         "1093168",
         "207830",
         "Terminator: Dark Fate (2019)",
         "94239",
         "female leads"
        ],
        [
         "1093169",
         "207830",
         "Terminator: Dark Fate (2019)",
         "94239",
         "forgiveness"
        ],
        [
         "1093170",
         "207830",
         "Terminator: Dark Fate (2019)",
         "94239",
         "future"
        ],
        [
         "1093171",
         "207830",
         "Terminator: Dark Fate (2019)",
         "94239",
         "Linda Hamilton"
        ],
        [
         "1093172",
         "207830",
         "Terminator: Dark Fate (2019)",
         "94239",
         "loss"
        ],
        [
         "1093173",
         "207830",
         "Terminator: Dark Fate (2019)",
         "94239",
         "Mackenzie Davis"
        ],
        [
         "1093174",
         "207830",
         "Terminator: Dark Fate (2019)",
         "94239",
         "Mexican characters"
        ],
        [
         "1093175",
         "207830",
         "Terminator: Dark Fate (2019)",
         "94239",
         "Mexico"
        ],
        [
         "1093176",
         "207830",
         "Terminator: Dark Fate (2019)",
         "94239",
         "new characters"
        ],
        [
         "1093177",
         "207830",
         "Terminator: Dark Fate (2019)",
         "94239",
         "non-gratuitous female nudity"
        ],
        [
         "1093178",
         "207830",
         "Terminator: Dark Fate (2019)",
         "94239",
         "redemption"
        ],
        [
         "1093179",
         "207830",
         "Terminator: Dark Fate (2019)",
         "94239",
         "time travel"
        ],
        [
         "1093180",
         "207830",
         "Terminator: Dark Fate (2019)",
         "94239",
         "well-told"
        ]
       ],
       "shape": {
        "columns": 4,
        "rows": 25
       }
      },
      "text/html": [
       "<div>\n",
       "<style scoped>\n",
       "    .dataframe tbody tr th:only-of-type {\n",
       "        vertical-align: middle;\n",
       "    }\n",
       "\n",
       "    .dataframe tbody tr th {\n",
       "        vertical-align: top;\n",
       "    }\n",
       "\n",
       "    .dataframe thead th {\n",
       "        text-align: right;\n",
       "    }\n",
       "</style>\n",
       "<table border=\"1\" class=\"dataframe\">\n",
       "  <thead>\n",
       "    <tr style=\"text-align: right;\">\n",
       "      <th></th>\n",
       "      <th>movieId</th>\n",
       "      <th>title</th>\n",
       "      <th>userId</th>\n",
       "      <th>tag</th>\n",
       "    </tr>\n",
       "  </thead>\n",
       "  <tbody>\n",
       "    <tr>\n",
       "      <th>1093156</th>\n",
       "      <td>207830</td>\n",
       "      <td>Terminator: Dark Fate (2019)</td>\n",
       "      <td>57837</td>\n",
       "      <td>action</td>\n",
       "    </tr>\n",
       "    <tr>\n",
       "      <th>1093157</th>\n",
       "      <td>207830</td>\n",
       "      <td>Terminator: Dark Fate (2019)</td>\n",
       "      <td>57837</td>\n",
       "      <td>cyborg</td>\n",
       "    </tr>\n",
       "    <tr>\n",
       "      <th>1093158</th>\n",
       "      <td>207830</td>\n",
       "      <td>Terminator: Dark Fate (2019)</td>\n",
       "      <td>57837</td>\n",
       "      <td>female protagonist</td>\n",
       "    </tr>\n",
       "    <tr>\n",
       "      <th>1093159</th>\n",
       "      <td>207830</td>\n",
       "      <td>Terminator: Dark Fate (2019)</td>\n",
       "      <td>57837</td>\n",
       "      <td>mexico</td>\n",
       "    </tr>\n",
       "    <tr>\n",
       "      <th>1093160</th>\n",
       "      <td>207830</td>\n",
       "      <td>Terminator: Dark Fate (2019)</td>\n",
       "      <td>57837</td>\n",
       "      <td>sci-fi</td>\n",
       "    </tr>\n",
       "    <tr>\n",
       "      <th>1093161</th>\n",
       "      <td>207830</td>\n",
       "      <td>Terminator: Dark Fate (2019)</td>\n",
       "      <td>57837</td>\n",
       "      <td>terminator</td>\n",
       "    </tr>\n",
       "    <tr>\n",
       "      <th>1093162</th>\n",
       "      <td>207830</td>\n",
       "      <td>Terminator: Dark Fate (2019)</td>\n",
       "      <td>72360</td>\n",
       "      <td>prospect preferred</td>\n",
       "    </tr>\n",
       "    <tr>\n",
       "      <th>1093163</th>\n",
       "      <td>207830</td>\n",
       "      <td>Terminator: Dark Fate (2019)</td>\n",
       "      <td>94239</td>\n",
       "      <td>altenrate future</td>\n",
       "    </tr>\n",
       "    <tr>\n",
       "      <th>1093164</th>\n",
       "      <td>207830</td>\n",
       "      <td>Terminator: Dark Fate (2019)</td>\n",
       "      <td>94239</td>\n",
       "      <td>Arnold Schwarzenegger</td>\n",
       "    </tr>\n",
       "    <tr>\n",
       "      <th>1093165</th>\n",
       "      <td>207830</td>\n",
       "      <td>Terminator: Dark Fate (2019)</td>\n",
       "      <td>94239</td>\n",
       "      <td>commentary on US border control policy</td>\n",
       "    </tr>\n",
       "    <tr>\n",
       "      <th>1093166</th>\n",
       "      <td>207830</td>\n",
       "      <td>Terminator: Dark Fate (2019)</td>\n",
       "      <td>94239</td>\n",
       "      <td>de-aging done well</td>\n",
       "    </tr>\n",
       "    <tr>\n",
       "      <th>1093167</th>\n",
       "      <td>207830</td>\n",
       "      <td>Terminator: Dark Fate (2019)</td>\n",
       "      <td>94239</td>\n",
       "      <td>enhanced human</td>\n",
       "    </tr>\n",
       "    <tr>\n",
       "      <th>1093168</th>\n",
       "      <td>207830</td>\n",
       "      <td>Terminator: Dark Fate (2019)</td>\n",
       "      <td>94239</td>\n",
       "      <td>female leads</td>\n",
       "    </tr>\n",
       "    <tr>\n",
       "      <th>1093169</th>\n",
       "      <td>207830</td>\n",
       "      <td>Terminator: Dark Fate (2019)</td>\n",
       "      <td>94239</td>\n",
       "      <td>forgiveness</td>\n",
       "    </tr>\n",
       "    <tr>\n",
       "      <th>1093170</th>\n",
       "      <td>207830</td>\n",
       "      <td>Terminator: Dark Fate (2019)</td>\n",
       "      <td>94239</td>\n",
       "      <td>future</td>\n",
       "    </tr>\n",
       "    <tr>\n",
       "      <th>1093171</th>\n",
       "      <td>207830</td>\n",
       "      <td>Terminator: Dark Fate (2019)</td>\n",
       "      <td>94239</td>\n",
       "      <td>Linda Hamilton</td>\n",
       "    </tr>\n",
       "    <tr>\n",
       "      <th>1093172</th>\n",
       "      <td>207830</td>\n",
       "      <td>Terminator: Dark Fate (2019)</td>\n",
       "      <td>94239</td>\n",
       "      <td>loss</td>\n",
       "    </tr>\n",
       "    <tr>\n",
       "      <th>1093173</th>\n",
       "      <td>207830</td>\n",
       "      <td>Terminator: Dark Fate (2019)</td>\n",
       "      <td>94239</td>\n",
       "      <td>Mackenzie Davis</td>\n",
       "    </tr>\n",
       "    <tr>\n",
       "      <th>1093174</th>\n",
       "      <td>207830</td>\n",
       "      <td>Terminator: Dark Fate (2019)</td>\n",
       "      <td>94239</td>\n",
       "      <td>Mexican characters</td>\n",
       "    </tr>\n",
       "    <tr>\n",
       "      <th>1093175</th>\n",
       "      <td>207830</td>\n",
       "      <td>Terminator: Dark Fate (2019)</td>\n",
       "      <td>94239</td>\n",
       "      <td>Mexico</td>\n",
       "    </tr>\n",
       "    <tr>\n",
       "      <th>1093176</th>\n",
       "      <td>207830</td>\n",
       "      <td>Terminator: Dark Fate (2019)</td>\n",
       "      <td>94239</td>\n",
       "      <td>new characters</td>\n",
       "    </tr>\n",
       "    <tr>\n",
       "      <th>1093177</th>\n",
       "      <td>207830</td>\n",
       "      <td>Terminator: Dark Fate (2019)</td>\n",
       "      <td>94239</td>\n",
       "      <td>non-gratuitous female nudity</td>\n",
       "    </tr>\n",
       "    <tr>\n",
       "      <th>1093178</th>\n",
       "      <td>207830</td>\n",
       "      <td>Terminator: Dark Fate (2019)</td>\n",
       "      <td>94239</td>\n",
       "      <td>redemption</td>\n",
       "    </tr>\n",
       "    <tr>\n",
       "      <th>1093179</th>\n",
       "      <td>207830</td>\n",
       "      <td>Terminator: Dark Fate (2019)</td>\n",
       "      <td>94239</td>\n",
       "      <td>time travel</td>\n",
       "    </tr>\n",
       "    <tr>\n",
       "      <th>1093180</th>\n",
       "      <td>207830</td>\n",
       "      <td>Terminator: Dark Fate (2019)</td>\n",
       "      <td>94239</td>\n",
       "      <td>well-told</td>\n",
       "    </tr>\n",
       "  </tbody>\n",
       "</table>\n",
       "</div>"
      ],
      "text/plain": [
       "         movieId                         title  userId  \\\n",
       "1093156   207830  Terminator: Dark Fate (2019)   57837   \n",
       "1093157   207830  Terminator: Dark Fate (2019)   57837   \n",
       "1093158   207830  Terminator: Dark Fate (2019)   57837   \n",
       "1093159   207830  Terminator: Dark Fate (2019)   57837   \n",
       "1093160   207830  Terminator: Dark Fate (2019)   57837   \n",
       "1093161   207830  Terminator: Dark Fate (2019)   57837   \n",
       "1093162   207830  Terminator: Dark Fate (2019)   72360   \n",
       "1093163   207830  Terminator: Dark Fate (2019)   94239   \n",
       "1093164   207830  Terminator: Dark Fate (2019)   94239   \n",
       "1093165   207830  Terminator: Dark Fate (2019)   94239   \n",
       "1093166   207830  Terminator: Dark Fate (2019)   94239   \n",
       "1093167   207830  Terminator: Dark Fate (2019)   94239   \n",
       "1093168   207830  Terminator: Dark Fate (2019)   94239   \n",
       "1093169   207830  Terminator: Dark Fate (2019)   94239   \n",
       "1093170   207830  Terminator: Dark Fate (2019)   94239   \n",
       "1093171   207830  Terminator: Dark Fate (2019)   94239   \n",
       "1093172   207830  Terminator: Dark Fate (2019)   94239   \n",
       "1093173   207830  Terminator: Dark Fate (2019)   94239   \n",
       "1093174   207830  Terminator: Dark Fate (2019)   94239   \n",
       "1093175   207830  Terminator: Dark Fate (2019)   94239   \n",
       "1093176   207830  Terminator: Dark Fate (2019)   94239   \n",
       "1093177   207830  Terminator: Dark Fate (2019)   94239   \n",
       "1093178   207830  Terminator: Dark Fate (2019)   94239   \n",
       "1093179   207830  Terminator: Dark Fate (2019)   94239   \n",
       "1093180   207830  Terminator: Dark Fate (2019)   94239   \n",
       "\n",
       "                                            tag  \n",
       "1093156                                  action  \n",
       "1093157                                  cyborg  \n",
       "1093158                      female protagonist  \n",
       "1093159                                  mexico  \n",
       "1093160                                  sci-fi  \n",
       "1093161                              terminator  \n",
       "1093162                      prospect preferred  \n",
       "1093163                        altenrate future  \n",
       "1093164                   Arnold Schwarzenegger  \n",
       "1093165  commentary on US border control policy  \n",
       "1093166                      de-aging done well  \n",
       "1093167                          enhanced human  \n",
       "1093168                            female leads  \n",
       "1093169                             forgiveness  \n",
       "1093170                                  future  \n",
       "1093171                          Linda Hamilton  \n",
       "1093172                                    loss  \n",
       "1093173                         Mackenzie Davis  \n",
       "1093174                      Mexican characters  \n",
       "1093175                                  Mexico  \n",
       "1093176                          new characters  \n",
       "1093177            non-gratuitous female nudity  \n",
       "1093178                              redemption  \n",
       "1093179                             time travel  \n",
       "1093180                               well-told  "
      ]
     },
     "execution_count": 53,
     "metadata": {},
     "output_type": "execute_result"
    }
   ],
   "source": [
    "movies_tags[terminatordf_tag]"
   ]
  },
  {
   "cell_type": "code",
   "execution_count": 54,
   "metadata": {},
   "outputs": [],
   "source": [
    "plt_ratings = ratings['userId'].value_counts()"
   ]
  },
  {
   "cell_type": "code",
   "execution_count": 55,
   "metadata": {},
   "outputs": [
    {
     "data": {
      "text/plain": [
       "userId\n",
       "72315     32202\n",
       "80974      9178\n",
       "137293     8913\n",
       "33844      7919\n",
       "20055      7488\n",
       "          ...  \n",
       "12094        20\n",
       "119539       20\n",
       "156759       20\n",
       "12084        20\n",
       "36207        20\n",
       "Name: count, Length: 162541, dtype: int64"
      ]
     },
     "execution_count": 55,
     "metadata": {},
     "output_type": "execute_result"
    }
   ],
   "source": [
    "plt_ratings"
   ]
  },
  {
   "cell_type": "code",
   "execution_count": 56,
   "metadata": {},
   "outputs": [
    {
     "data": {
      "text/plain": [
       "<Axes: title={'center': 'User Frequency ratings'}, xlabel='number of user', ylabel='number of ratings'>"
      ]
     },
     "execution_count": 56,
     "metadata": {},
     "output_type": "execute_result"
    },
    {
     "data": {
      "image/png": "[encoded data removed]",
      "text/plain": [
       "<Figure size 640x480 with 1 Axes>"
      ]
     },
     "metadata": {},
     "output_type": "display_data"
    }
   ],
   "source": [
    "plt_ratings.plot(kind='hist',bins = 250,log=True,title = 'User Frequency ratings',xlabel = 'number of user',ylabel = 'number of ratings')"
   ]
  },
  {
   "cell_type": "code",
   "execution_count": 57,
   "metadata": {},
   "outputs": [
    {
     "data": {
      "image/png": "[encoded data removed]",
      "text/plain": [
       "<Figure size 640x480 with 1 Axes>"
      ]
     },
     "metadata": {},
     "output_type": "display_data"
    }
   ],
   "source": [
    "sb.boxplot(x=plt_ratings)\n",
    "plt.title('Ratings spread')\n",
    "plt.show()"
   ]
  },
  {
   "cell_type": "code",
   "execution_count": 58,
   "metadata": {},
   "outputs": [
    {
     "data": {
      "text/plain": [
       "<matplotlib.legend.Legend at 0x24d4d509300>"
      ]
     },
     "execution_count": 58,
     "metadata": {},
     "output_type": "execute_result"
    },
    {
     "data": {
      "image/png": "[encoded data removed]",
      "text/plain": [
       "<Figure size 1000x800 with 1 Axes>"
      ]
     },
     "metadata": {},
     "output_type": "display_data"
    }
   ],
   "source": [
    "genre_label, genre_number = zip(*genre_counts)\n",
    "genre_percent = np.array(genre_number) / np.sum(genre_number) * 100\n",
    "plt.figure(figsize=(10, 8))\n",
    "plt.title('Movie Genres Distribution')\n",
    "plt.pie(genre_number,startangle=140)\n",
    "plt.legend(labels=['%s, %1.1f %%' % (l, s) for l, s in zip(genre_label,genre_percent)],loc='upper left',bbox_to_anchor=(1, 0, 0.5, 1))"
   ]
  },
  {
   "cell_type": "code",
   "execution_count": 59,
   "metadata": {},
   "outputs": [
    {
     "data": {
      "text/plain": [
       "rating\n",
       "4.0    6639798\n",
       "3.0    4896928\n",
       "5.0    3612474\n",
       "3.5    3177318\n",
       "4.5    2200539\n",
       "2.0    1640868\n",
       "2.5    1262797\n",
       "1.0     776815\n",
       "1.5     399490\n",
       "0.5     393068\n",
       "dtype: int64"
      ]
     },
     "execution_count": 59,
     "metadata": {},
     "output_type": "execute_result"
    }
   ],
   "source": [
    "movies_rating_distribution = movies_ratings.groupby('rating').size().sort_values(ascending=False)\n",
    "movies_rating_distribution"
   ]
  },
  {
   "cell_type": "code",
   "execution_count": 60,
   "metadata": {},
   "outputs": [
    {
     "data": {
      "image/png": "[encoded data removed]",
      "text/plain": [
       "<Figure size 640x480 with 1 Axes>"
      ]
     },
     "metadata": {},
     "output_type": "display_data"
    }
   ],
   "source": [
    "plt.bar(movies_rating_distribution.index, movies_rating_distribution.values,edgecolor='black',width=0.5)\n",
    "plt.title('Movie Ratings Distribution')\n",
    "plt.xlabel('Rating')\n",
    "plt.ylabel('Number of Ratings')\n",
    "plt.show()"
   ]
  },
  {
   "cell_type": "code",
   "execution_count": 61,
   "metadata": {},
   "outputs": [
    {
     "data": {
      "image/png": "[encoded data removed]",
      "text/plain": [
       "<Figure size 640x480 with 1 Axes>"
      ]
     },
     "metadata": {},
     "output_type": "display_data"
    }
   ],
   "source": [
    "plt.hist(most_rated_rank.values, bins=50, edgecolor='black',log=True)\n",
    "plt.title('Number of Movies Rated Distribution')\n",
    "plt.xlabel('Number of Movies Rated')\n",
    "plt.ylabel('Number of Users')\n",
    "plt.show()"
   ]
  },
  {
   "cell_type": "code",
   "execution_count": 62,
   "metadata": {},
   "outputs": [
    {
     "data": {
      "application/vnd.microsoft.datawrangler.viewer.v0+json": {
       "columns": [
        {
         "name": "title",
         "rawType": "object",
         "type": "string"
        },
        {
         "name": "ratings",
         "rawType": "float64",
         "type": "float"
        },
        {
         "name": "number of rating",
         "rawType": "int64",
         "type": "integer"
        }
       ],
       "conversionMethod": "pd.DataFrame",
       "ref": "01f2afaf-ac2c-4384-a0c0-9144bc472a6e",
       "rows": [
        [
         "\"BLOW THE NIGHT!\" Let's Spend the Night Together (1983)",
         "3.0",
         "1"
        ],
        [
         "\"Great Performances\" Cats (1998)",
         "2.8966480446927374",
         "179"
        ],
        [
         "#1 Cheerleader Camp (2010)",
         "2.111111111111111",
         "9"
        ],
        [
         "#Captured (2017)",
         "3.75",
         "2"
        ],
        [
         "#Female Pleasure (2018)",
         "3.6666666666666665",
         "3"
        ],
        [
         "#FollowMe (2019)",
         "2.0833333333333335",
         "6"
        ],
        [
         "#Horror (2015)",
         "2.0869565217391304",
         "23"
        ],
        [
         "#Lucky Number (2015)",
         "3.0",
         "1"
        ],
        [
         "#SCREAMERS (2016)",
         "2.3333333333333335",
         "3"
        ],
        [
         "#SquadGoals (2018)",
         "1.0",
         "1"
        ],
        [
         "#Stuck (2014)",
         "1.8333333333333333",
         "3"
        ],
        [
         "#realityhigh (2017)",
         "3.3333333333333335",
         "18"
        ],
        [
         "$ (Dollars) (1971)",
         "3.0",
         "32"
        ],
        [
         "$1,000 on the Black (1966)",
         "3.3333333333333335",
         "3"
        ],
        [
         "$100,000 for Ringo (1965)",
         "2.5",
         "1"
        ],
        [
         "$5 a Day (2008)",
         "2.9642857142857144",
         "42"
        ],
        [
         "$50K and a Call Girl: A Love Story (2014)",
         "4.5",
         "1"
        ],
        [
         "$9.99 (2008)",
         "3.125",
         "72"
        ],
        [
         "$ellebrity (Sellebrity) (2012)",
         "2.7222222222222223",
         "9"
        ],
        [
         "$uperthief: Inside America's Biggest Bank Score (2012)",
         "5.0",
         "1"
        ],
        [
         "'49-'17 (1917)",
         "2.625",
         "4"
        ],
        [
         "'63 Boycott (2016)",
         "4.5",
         "1"
        ],
        [
         "'68 (1988)",
         "2.5",
         "1"
        ],
        [
         "'71 (2014)",
         "3.68018018018018",
         "333"
        ],
        [
         "'Gator Bait (1974)",
         "2.625",
         "4"
        ],
        [
         "'Hellboy': The Seeds of Creation (2004)",
         "2.9696969696969697",
         "99"
        ],
        [
         "'Human' Factor, The (Human Factor, The) (1975)",
         "2.25",
         "6"
        ],
        [
         "'Master Harold' ... And the Boys (2010)",
         "5.0",
         "1"
        ],
        [
         "'Master Harold'... and the Boys (1985)",
         "4.0",
         "3"
        ],
        [
         "'Neath Brooklyn Bridge (1942)",
         "3.5",
         "1"
        ],
        [
         "'Neath the Arizona Skies (1934)",
         "2.238095238095238",
         "21"
        ],
        [
         "'Pimpernel' Smith (1941)",
         "3.1666666666666665",
         "3"
        ],
        [
         "'R Xmas (2001)",
         "2.574074074074074",
         "27"
        ],
        [
         "'Round Midnight (1986)",
         "3.648936170212766",
         "188"
        ],
        [
         "'Salem's Lot (2004)",
         "3.1925465838509317",
         "161"
        ],
        [
         "'Til Madness Do Us Part (2013)",
         "3.3333333333333335",
         "3"
        ],
        [
         "'Til There Was You (1997)",
         "2.8157894736842106",
         "475"
        ],
        [
         "'Tis the Season for Love (2015)",
         "2.8181818181818183",
         "11"
        ],
        [
         "'Twas the Night (2001)",
         "2.2",
         "5"
        ],
        [
         "'Twas the Night Before Christmas (1974)",
         "3.4375",
         "24"
        ],
        [
         "'burbs, The (1989)",
         "3.114909638554217",
         "3320"
        ],
        [
         "'night Mother (1986)",
         "3.4609826589595376",
         "346"
        ],
        [
         "(500) Days of Summer (2009)",
         "3.72534353800661",
         "11498"
        ],
        [
         "(A)sexual (2011)",
         "3.0588235294117645",
         "17"
        ],
        [
         "(Dis)Honesty: The Truth About Lies (2015)",
         "3.6964285714285716",
         "28"
        ],
        [
         "(Girl)Friend (2018)",
         "2.7",
         "5"
        ],
        [
         "(T)ERROR (2015)",
         "3.6",
         "15"
        ],
        [
         "(The New) War of the Buttons (2011)",
         "3.0",
         "6"
        ],
        [
         "(Untitled) (2009)",
         "3.418181818181818",
         "55"
        ],
        [
         "*batteries not included (1987)",
         "3.244815668202765",
         "1736"
        ]
       ],
       "shape": {
        "columns": 2,
        "rows": 58958
       }
      },
      "text/html": [
       "<div>\n",
       "<style scoped>\n",
       "    .dataframe tbody tr th:only-of-type {\n",
       "        vertical-align: middle;\n",
       "    }\n",
       "\n",
       "    .dataframe tbody tr th {\n",
       "        vertical-align: top;\n",
       "    }\n",
       "\n",
       "    .dataframe thead th {\n",
       "        text-align: right;\n",
       "    }\n",
       "</style>\n",
       "<table border=\"1\" class=\"dataframe\">\n",
       "  <thead>\n",
       "    <tr style=\"text-align: right;\">\n",
       "      <th></th>\n",
       "      <th>ratings</th>\n",
       "      <th>number of rating</th>\n",
       "    </tr>\n",
       "    <tr>\n",
       "      <th>title</th>\n",
       "      <th></th>\n",
       "      <th></th>\n",
       "    </tr>\n",
       "  </thead>\n",
       "  <tbody>\n",
       "    <tr>\n",
       "      <th>\"BLOW THE NIGHT!\" Let's Spend the Night Together (1983)</th>\n",
       "      <td>3.000000</td>\n",
       "      <td>1</td>\n",
       "    </tr>\n",
       "    <tr>\n",
       "      <th>\"Great Performances\" Cats (1998)</th>\n",
       "      <td>2.896648</td>\n",
       "      <td>179</td>\n",
       "    </tr>\n",
       "    <tr>\n",
       "      <th>#1 Cheerleader Camp (2010)</th>\n",
       "      <td>2.111111</td>\n",
       "      <td>9</td>\n",
       "    </tr>\n",
       "    <tr>\n",
       "      <th>#Captured (2017)</th>\n",
       "      <td>3.750000</td>\n",
       "      <td>2</td>\n",
       "    </tr>\n",
       "    <tr>\n",
       "      <th>#Female Pleasure (2018)</th>\n",
       "      <td>3.666667</td>\n",
       "      <td>3</td>\n",
       "    </tr>\n",
       "    <tr>\n",
       "      <th>...</th>\n",
       "      <td>...</td>\n",
       "      <td>...</td>\n",
       "    </tr>\n",
       "    <tr>\n",
       "      <th>…And the Fifth Horseman Is Fear (1965)</th>\n",
       "      <td>3.250000</td>\n",
       "      <td>2</td>\n",
       "    </tr>\n",
       "    <tr>\n",
       "      <th>キサラギ (2007)</th>\n",
       "      <td>3.250000</td>\n",
       "      <td>2</td>\n",
       "    </tr>\n",
       "    <tr>\n",
       "      <th>チェブラーシカ (2010)</th>\n",
       "      <td>3.166667</td>\n",
       "      <td>9</td>\n",
       "    </tr>\n",
       "    <tr>\n",
       "      <th>貞子3D (2012)</th>\n",
       "      <td>2.375000</td>\n",
       "      <td>12</td>\n",
       "    </tr>\n",
       "    <tr>\n",
       "      <th>줄탁동시 (2012)</th>\n",
       "      <td>4.000000</td>\n",
       "      <td>2</td>\n",
       "    </tr>\n",
       "  </tbody>\n",
       "</table>\n",
       "<p>58958 rows × 2 columns</p>\n",
       "</div>"
      ],
      "text/plain": [
       "                                                     ratings  number of rating\n",
       "title                                                                         \n",
       "\"BLOW THE NIGHT!\" Let's Spend the Night Togethe...  3.000000                 1\n",
       "\"Great Performances\" Cats (1998)                    2.896648               179\n",
       "#1 Cheerleader Camp (2010)                          2.111111                 9\n",
       "#Captured (2017)                                    3.750000                 2\n",
       "#Female Pleasure (2018)                             3.666667                 3\n",
       "...                                                      ...               ...\n",
       "…And the Fifth Horseman Is Fear (1965)              3.250000                 2\n",
       "キサラギ (2007)                                         3.250000                 2\n",
       "チェブラーシカ (2010)                                      3.166667                 9\n",
       "貞子3D (2012)                                         2.375000                12\n",
       "줄탁동시 (2012)                                         4.000000                 2\n",
       "\n",
       "[58958 rows x 2 columns]"
      ]
     },
     "execution_count": 62,
     "metadata": {},
     "output_type": "execute_result"
    }
   ],
   "source": [
    "rating_join = rated_movies_rank.to_frame(name='ratings').join(most_rated_rank.to_frame(name='number of rating'), how='outer')\n",
    "rating_join"
   ]
  },
  {
   "cell_type": "code",
   "execution_count": 63,
   "metadata": {},
   "outputs": [
    {
     "data": {
      "image/png": "[encoded data removed]",
      "text/plain": [
       "<Figure size 640x480 with 1 Axes>"
      ]
     },
     "metadata": {},
     "output_type": "display_data"
    }
   ],
   "source": [
    "plt.scatter(rating_join['ratings'], rating_join['number of rating'])\n",
    "plt.title('Movie Ratings vs Number of Ratings')\n",
    "plt.xlabel('Movie Ratings')\n",
    "plt.ylabel('Number of Ratings')\n",
    "plt.grid(True)\n",
    "plt.show()"
   ]
  },
  {
   "cell_type": "code",
   "execution_count": 64,
   "metadata": {},
   "outputs": [],
   "source": [
    "movies_ratings['year'] = movies_ratings['title'].str.extract(r'\\((\\d{4})\\)')[0]"
   ]
  },
  {
   "cell_type": "code",
   "execution_count": 65,
   "metadata": {},
   "outputs": [],
   "source": [
    "movies_ratings_w_year = movies_ratings.dropna(subset=['year'])"
   ]
  },
  {
   "cell_type": "code",
   "execution_count": 66,
   "metadata": {},
   "outputs": [
    {
     "name": "stderr",
     "output_type": "stream",
     "text": [
      "C:\\Users\\Admin\\AppData\\Local\\Temp\\ipykernel_27156\\1940130547.py:1: SettingWithCopyWarning: \n",
      "A value is trying to be set on a copy of a slice from a DataFrame.\n",
      "Try using .loc[row_indexer,col_indexer] = value instead\n",
      "\n",
      "See the caveats in the documentation: https://pandas.pydata.org/pandas-docs/stable/user_guide/indexing.html#returning-a-view-versus-a-copy\n",
      "  movies_ratings_w_year['year'] = pd.to_numeric(movies_ratings_w_year['year'], errors='coerce')\n"
     ]
    }
   ],
   "source": [
    "movies_ratings_w_year['year'] = pd.to_numeric(movies_ratings_w_year['year'], errors='coerce')"
   ]
  },
  {
   "cell_type": "code",
   "execution_count": 67,
   "metadata": {},
   "outputs": [
    {
     "name": "stdout",
     "output_type": "stream",
     "text": [
      "<class 'pandas.core.frame.DataFrame'>\n",
      "Index: 24988355 entries, 0 to 25000094\n",
      "Data columns (total 6 columns):\n",
      " #   Column   Dtype  \n",
      "---  ------   -----  \n",
      " 0   movieId  int64  \n",
      " 1   title    object \n",
      " 2   genres   object \n",
      " 3   userId   int64  \n",
      " 4   rating   float64\n",
      " 5   year     int64  \n",
      "dtypes: float64(1), int64(3), object(2)\n",
      "memory usage: 1.3+ GB\n"
     ]
    }
   ],
   "source": [
    "movies_ratings_w_year.info()"
   ]
  },
  {
   "cell_type": "code",
   "execution_count": 68,
   "metadata": {},
   "outputs": [
    {
     "data": {
      "text/plain": [
       "(58586,)"
      ]
     },
     "execution_count": 68,
     "metadata": {},
     "output_type": "execute_result"
    }
   ],
   "source": [
    "unique_movies = movies_ratings_w_year['title'].unique()\n",
    "unique_movies.shape"
   ]
  },
  {
   "cell_type": "code",
   "execution_count": 69,
   "metadata": {},
   "outputs": [],
   "source": [
    "unique_movies_df = pd.DataFrame(unique_movies, columns=['title'])\n",
    "unique_movies_df['year'] = unique_movies_df['title'].str.extract(r'\\((\\d{4})\\)')[0].astype(int)"
   ]
  },
  {
   "cell_type": "code",
   "execution_count": 70,
   "metadata": {},
   "outputs": [
    {
     "data": {
      "text/plain": [
       "year\n",
       "2019     988\n",
       "2018    2012\n",
       "2017    2322\n",
       "2016    2414\n",
       "2015    2442\n",
       "        ... \n",
       "1887       1\n",
       "1883       1\n",
       "1880       1\n",
       "1878       1\n",
       "1874       1\n",
       "Name: count, Length: 135, dtype: int64"
      ]
     },
     "execution_count": 70,
     "metadata": {},
     "output_type": "execute_result"
    }
   ],
   "source": [
    "movies_year = unique_movies_df['year'].value_counts().sort_index(ascending=False)\n",
    "movies_year"
   ]
  },
  {
   "cell_type": "code",
   "execution_count": 71,
   "metadata": {},
   "outputs": [
    {
     "data": {
      "text/plain": [
       "count     135.000000\n",
       "mean      433.970370\n",
       "std       570.506922\n",
       "min         1.000000\n",
       "25%        32.000000\n",
       "50%       241.000000\n",
       "75%       487.000000\n",
       "max      2442.000000\n",
       "Name: count, dtype: float64"
      ]
     },
     "execution_count": 71,
     "metadata": {},
     "output_type": "execute_result"
    }
   ],
   "source": [
    "movies_year.describe()"
   ]
  },
  {
   "cell_type": "code",
   "execution_count": 72,
   "metadata": {},
   "outputs": [
    {
     "data": {
      "image/png": "[encoded data removed]",
      "text/plain": [
       "<Figure size 640x480 with 1 Axes>"
      ]
     },
     "metadata": {},
     "output_type": "display_data"
    }
   ],
   "source": [
    "plt.plot(movies_year.index, movies_year.values)\n",
    "plt.title('Movies by year')\n",
    "plt.xlabel('Year')\n",
    "plt.ylabel('Number of Movies')\n",
    "plt.show()"
   ]
  },
  {
   "cell_type": "code",
   "execution_count": 73,
   "metadata": {},
   "outputs": [
    {
     "data": {
      "application/vnd.microsoft.datawrangler.viewer.v0+json": {
       "columns": [
        {
         "name": "index",
         "rawType": "int64",
         "type": "integer"
        },
        {
         "name": "title",
         "rawType": "object",
         "type": "string"
        },
        {
         "name": "year",
         "rawType": "int64",
         "type": "integer"
        },
        {
         "name": "rating",
         "rawType": "float64",
         "type": "float"
        }
       ],
       "conversionMethod": "pd.DataFrame",
       "ref": "10fc3b35-ba8b-485d-a444-7f15f8dd5ee3",
       "rows": [
        [
         "0",
         "\"BLOW THE NIGHT!\" Let's Spend the Night Together (1983)",
         "1983",
         "3.0"
        ],
        [
         "1",
         "\"Great Performances\" Cats (1998)",
         "1998",
         "2.8966480446927374"
        ],
        [
         "2",
         "#1 Cheerleader Camp (2010)",
         "2010",
         "2.111111111111111"
        ],
        [
         "3",
         "#Captured (2017)",
         "2017",
         "3.75"
        ],
        [
         "4",
         "#Female Pleasure (2018)",
         "2018",
         "3.6666666666666665"
        ],
        [
         "5",
         "#FollowMe (2019)",
         "2019",
         "2.0833333333333335"
        ],
        [
         "6",
         "#Horror (2015)",
         "2015",
         "2.0869565217391304"
        ],
        [
         "7",
         "#Lucky Number (2015)",
         "2015",
         "3.0"
        ],
        [
         "8",
         "#SCREAMERS (2016)",
         "2016",
         "2.3333333333333335"
        ],
        [
         "9",
         "#SquadGoals (2018)",
         "2018",
         "1.0"
        ],
        [
         "10",
         "#Stuck (2014)",
         "2014",
         "1.8333333333333333"
        ],
        [
         "11",
         "#realityhigh (2017)",
         "2017",
         "3.3333333333333335"
        ],
        [
         "12",
         "$ (Dollars) (1971)",
         "1971",
         "3.0"
        ],
        [
         "13",
         "$1,000 on the Black (1966)",
         "1966",
         "3.3333333333333335"
        ],
        [
         "14",
         "$100,000 for Ringo (1965)",
         "1965",
         "2.5"
        ],
        [
         "15",
         "$5 a Day (2008)",
         "2008",
         "2.9642857142857144"
        ],
        [
         "16",
         "$50K and a Call Girl: A Love Story (2014)",
         "2014",
         "4.5"
        ],
        [
         "17",
         "$9.99 (2008)",
         "2008",
         "3.125"
        ],
        [
         "18",
         "$ellebrity (Sellebrity) (2012)",
         "2012",
         "2.7222222222222223"
        ],
        [
         "19",
         "$uperthief: Inside America's Biggest Bank Score (2012)",
         "2012",
         "5.0"
        ],
        [
         "20",
         "'49-'17 (1917)",
         "1917",
         "2.625"
        ],
        [
         "21",
         "'63 Boycott (2016)",
         "2016",
         "4.5"
        ],
        [
         "22",
         "'68 (1988)",
         "1988",
         "2.5"
        ],
        [
         "23",
         "'71 (2014)",
         "2014",
         "3.68018018018018"
        ],
        [
         "24",
         "'Gator Bait (1974)",
         "1974",
         "2.625"
        ],
        [
         "25",
         "'Hellboy': The Seeds of Creation (2004)",
         "2004",
         "2.9696969696969697"
        ],
        [
         "26",
         "'Human' Factor, The (Human Factor, The) (1975)",
         "1975",
         "2.25"
        ],
        [
         "27",
         "'Master Harold' ... And the Boys (2010)",
         "2010",
         "5.0"
        ],
        [
         "28",
         "'Master Harold'... and the Boys (1985)",
         "1985",
         "4.0"
        ],
        [
         "29",
         "'Neath Brooklyn Bridge (1942)",
         "1942",
         "3.5"
        ],
        [
         "30",
         "'Neath the Arizona Skies (1934)",
         "1934",
         "2.238095238095238"
        ],
        [
         "31",
         "'Pimpernel' Smith (1941)",
         "1941",
         "3.1666666666666665"
        ],
        [
         "32",
         "'R Xmas (2001)",
         "2001",
         "2.574074074074074"
        ],
        [
         "33",
         "'Round Midnight (1986)",
         "1986",
         "3.648936170212766"
        ],
        [
         "34",
         "'Salem's Lot (2004)",
         "2004",
         "3.1925465838509317"
        ],
        [
         "35",
         "'Til Madness Do Us Part (2013)",
         "2013",
         "3.3333333333333335"
        ],
        [
         "36",
         "'Til There Was You (1997)",
         "1997",
         "2.8157894736842106"
        ],
        [
         "37",
         "'Tis the Season for Love (2015)",
         "2015",
         "2.8181818181818183"
        ],
        [
         "38",
         "'Twas the Night (2001)",
         "2001",
         "2.2"
        ],
        [
         "39",
         "'Twas the Night Before Christmas (1974)",
         "1974",
         "3.4375"
        ],
        [
         "40",
         "'burbs, The (1989)",
         "1989",
         "3.114909638554217"
        ],
        [
         "41",
         "'night Mother (1986)",
         "1986",
         "3.4609826589595376"
        ],
        [
         "42",
         "(500) Days of Summer (2009)",
         "2009",
         "3.72534353800661"
        ],
        [
         "43",
         "(A)sexual (2011)",
         "2011",
         "3.0588235294117645"
        ],
        [
         "44",
         "(Dis)Honesty: The Truth About Lies (2015)",
         "2015",
         "3.6964285714285716"
        ],
        [
         "45",
         "(Girl)Friend (2018)",
         "2018",
         "2.7"
        ],
        [
         "46",
         "(T)ERROR (2015)",
         "2015",
         "3.6"
        ],
        [
         "47",
         "(The New) War of the Buttons (2011)",
         "2011",
         "3.0"
        ],
        [
         "48",
         "(Untitled) (2009)",
         "2009",
         "3.418181818181818"
        ],
        [
         "49",
         "*batteries not included (1987)",
         "1987",
         "3.244815668202765"
        ]
       ],
       "shape": {
        "columns": 3,
        "rows": 58586
       }
      },
      "text/html": [
       "<div>\n",
       "<style scoped>\n",
       "    .dataframe tbody tr th:only-of-type {\n",
       "        vertical-align: middle;\n",
       "    }\n",
       "\n",
       "    .dataframe tbody tr th {\n",
       "        vertical-align: top;\n",
       "    }\n",
       "\n",
       "    .dataframe thead th {\n",
       "        text-align: right;\n",
       "    }\n",
       "</style>\n",
       "<table border=\"1\" class=\"dataframe\">\n",
       "  <thead>\n",
       "    <tr style=\"text-align: right;\">\n",
       "      <th></th>\n",
       "      <th>title</th>\n",
       "      <th>year</th>\n",
       "      <th>rating</th>\n",
       "    </tr>\n",
       "  </thead>\n",
       "  <tbody>\n",
       "    <tr>\n",
       "      <th>0</th>\n",
       "      <td>\"BLOW THE NIGHT!\" Let's Spend the Night Togeth...</td>\n",
       "      <td>1983</td>\n",
       "      <td>3.000000</td>\n",
       "    </tr>\n",
       "    <tr>\n",
       "      <th>1</th>\n",
       "      <td>\"Great Performances\" Cats (1998)</td>\n",
       "      <td>1998</td>\n",
       "      <td>2.896648</td>\n",
       "    </tr>\n",
       "    <tr>\n",
       "      <th>2</th>\n",
       "      <td>#1 Cheerleader Camp (2010)</td>\n",
       "      <td>2010</td>\n",
       "      <td>2.111111</td>\n",
       "    </tr>\n",
       "    <tr>\n",
       "      <th>3</th>\n",
       "      <td>#Captured (2017)</td>\n",
       "      <td>2017</td>\n",
       "      <td>3.750000</td>\n",
       "    </tr>\n",
       "    <tr>\n",
       "      <th>4</th>\n",
       "      <td>#Female Pleasure (2018)</td>\n",
       "      <td>2018</td>\n",
       "      <td>3.666667</td>\n",
       "    </tr>\n",
       "    <tr>\n",
       "      <th>...</th>\n",
       "      <td>...</td>\n",
       "      <td>...</td>\n",
       "      <td>...</td>\n",
       "    </tr>\n",
       "    <tr>\n",
       "      <th>58581</th>\n",
       "      <td>…And the Fifth Horseman Is Fear (1965)</td>\n",
       "      <td>1965</td>\n",
       "      <td>3.250000</td>\n",
       "    </tr>\n",
       "    <tr>\n",
       "      <th>58582</th>\n",
       "      <td>キサラギ (2007)</td>\n",
       "      <td>2007</td>\n",
       "      <td>3.250000</td>\n",
       "    </tr>\n",
       "    <tr>\n",
       "      <th>58583</th>\n",
       "      <td>チェブラーシカ (2010)</td>\n",
       "      <td>2010</td>\n",
       "      <td>3.166667</td>\n",
       "    </tr>\n",
       "    <tr>\n",
       "      <th>58584</th>\n",
       "      <td>貞子3D (2012)</td>\n",
       "      <td>2012</td>\n",
       "      <td>2.375000</td>\n",
       "    </tr>\n",
       "    <tr>\n",
       "      <th>58585</th>\n",
       "      <td>줄탁동시 (2012)</td>\n",
       "      <td>2012</td>\n",
       "      <td>4.000000</td>\n",
       "    </tr>\n",
       "  </tbody>\n",
       "</table>\n",
       "<p>58586 rows × 3 columns</p>\n",
       "</div>"
      ],
      "text/plain": [
       "                                                   title  year    rating\n",
       "0      \"BLOW THE NIGHT!\" Let's Spend the Night Togeth...  1983  3.000000\n",
       "1                       \"Great Performances\" Cats (1998)  1998  2.896648\n",
       "2                             #1 Cheerleader Camp (2010)  2010  2.111111\n",
       "3                                       #Captured (2017)  2017  3.750000\n",
       "4                                #Female Pleasure (2018)  2018  3.666667\n",
       "...                                                  ...   ...       ...\n",
       "58581             …And the Fifth Horseman Is Fear (1965)  1965  3.250000\n",
       "58582                                        キサラギ (2007)  2007  3.250000\n",
       "58583                                     チェブラーシカ (2010)  2010  3.166667\n",
       "58584                                        貞子3D (2012)  2012  2.375000\n",
       "58585                                        줄탁동시 (2012)  2012  4.000000\n",
       "\n",
       "[58586 rows x 3 columns]"
      ]
     },
     "execution_count": 73,
     "metadata": {},
     "output_type": "execute_result"
    }
   ],
   "source": [
    "movies_avg = movies_ratings_w_year.groupby(['title','year'])['rating'].mean().reset_index()\n",
    "movies_avg"
   ]
  },
  {
   "cell_type": "code",
   "execution_count": 74,
   "metadata": {},
   "outputs": [
    {
     "name": "stdout",
     "output_type": "stream",
     "text": [
      "<class 'pandas.core.frame.DataFrame'>\n",
      "RangeIndex: 58586 entries, 0 to 58585\n",
      "Data columns (total 3 columns):\n",
      " #   Column  Non-Null Count  Dtype  \n",
      "---  ------  --------------  -----  \n",
      " 0   title   58586 non-null  object \n",
      " 1   year    58586 non-null  int64  \n",
      " 2   rating  58586 non-null  float64\n",
      "dtypes: float64(1), int64(1), object(1)\n",
      "memory usage: 1.3+ MB\n"
     ]
    }
   ],
   "source": [
    "movies_avg.info()"
   ]
  },
  {
   "cell_type": "code",
   "execution_count": 75,
   "metadata": {},
   "outputs": [
    {
     "data": {
      "application/vnd.microsoft.datawrangler.viewer.v0+json": {
       "columns": [
        {
         "name": "index",
         "rawType": "int64",
         "type": "integer"
        },
        {
         "name": "year",
         "rawType": "int64",
         "type": "integer"
        },
        {
         "name": "average_rating",
         "rawType": "float64",
         "type": "float"
        },
        {
         "name": "movies_count",
         "rawType": "int64",
         "type": "integer"
        }
       ],
       "conversionMethod": "pd.DataFrame",
       "ref": "cb95f195-3e63-4d6c-8353-ea0731c367ce",
       "rows": [
        [
         "0",
         "1874",
         "3.0277777777777777",
         "1"
        ],
        [
         "1",
         "1878",
         "2.909090909090909",
         "1"
        ],
        [
         "2",
         "1880",
         "2.6666666666666665",
         "1"
        ],
        [
         "3",
         "1883",
         "2.6363636363636362",
         "1"
        ],
        [
         "4",
         "1887",
         "1.75",
         "1"
        ],
        [
         "5",
         "1888",
         "2.3730419799498748",
         "4"
        ],
        [
         "6",
         "1890",
         "2.1966666666666668",
         "5"
        ],
        [
         "7",
         "1891",
         "1.6928421115921115",
         "6"
        ],
        [
         "8",
         "1892",
         "1.5307692307692307",
         "3"
        ],
        [
         "9",
         "1894",
         "2.3768245643245645",
         "22"
        ],
        [
         "10",
         "1895",
         "2.5835420135420137",
         "15"
        ],
        [
         "11",
         "1896",
         "2.769481468823574",
         "22"
        ],
        [
         "12",
         "1897",
         "2.987820512820513",
         "13"
        ],
        [
         "13",
         "1898",
         "3.1",
         "14"
        ],
        [
         "14",
         "1899",
         "3.0745738636363638",
         "8"
        ],
        [
         "15",
         "1900",
         "3.1744244391971663",
         "22"
        ],
        [
         "16",
         "1901",
         "3.0863425925925925",
         "12"
        ],
        [
         "17",
         "1902",
         "2.613370216689719",
         "6"
        ],
        [
         "18",
         "1903",
         "3.0810203974266472",
         "24"
        ],
        [
         "19",
         "1904",
         "3.0939393939393938",
         "11"
        ],
        [
         "20",
         "1905",
         "2.851875",
         "10"
        ],
        [
         "21",
         "1906",
         "2.6747395833333334",
         "16"
        ],
        [
         "22",
         "1907",
         "2.9338888888888888",
         "15"
        ],
        [
         "23",
         "1908",
         "2.8983132252363024",
         "13"
        ],
        [
         "24",
         "1909",
         "2.690327380952381",
         "16"
        ],
        [
         "25",
         "1910",
         "2.7542814861363247",
         "9"
        ],
        [
         "26",
         "1911",
         "3.0618386243386246",
         "9"
        ],
        [
         "27",
         "1912",
         "2.703842940685046",
         "19"
        ],
        [
         "28",
         "1913",
         "2.8876318126318123",
         "15"
        ],
        [
         "29",
         "1914",
         "2.5469469805466045",
         "42"
        ],
        [
         "30",
         "1915",
         "2.800878031433587",
         "27"
        ],
        [
         "31",
         "1916",
         "2.9442637693273284",
         "37"
        ],
        [
         "32",
         "1917",
         "2.967446217997688",
         "26"
        ],
        [
         "33",
         "1918",
         "2.8979356469511357",
         "20"
        ],
        [
         "34",
         "1919",
         "3.0406849327182264",
         "29"
        ],
        [
         "35",
         "1920",
         "3.097208901020449",
         "35"
        ],
        [
         "36",
         "1921",
         "3.105696799168632",
         "46"
        ],
        [
         "37",
         "1922",
         "3.243145261761326",
         "45"
        ],
        [
         "38",
         "1923",
         "3.1277229968588345",
         "29"
        ],
        [
         "39",
         "1924",
         "3.3346976418388756",
         "40"
        ],
        [
         "40",
         "1925",
         "3.149197647877193",
         "50"
        ],
        [
         "41",
         "1926",
         "3.1802202275389333",
         "60"
        ],
        [
         "42",
         "1927",
         "3.1406172053577017",
         "56"
        ],
        [
         "43",
         "1928",
         "3.2600213090028496",
         "74"
        ],
        [
         "44",
         "1929",
         "3.123463072564023",
         "99"
        ],
        [
         "45",
         "1930",
         "2.969682588971055",
         "102"
        ],
        [
         "46",
         "1931",
         "3.0968790432926707",
         "142"
        ],
        [
         "47",
         "1932",
         "2.939770238635603",
         "178"
        ],
        [
         "48",
         "1933",
         "3.005952357088633",
         "175"
        ],
        [
         "49",
         "1934",
         "2.9705774694444465",
         "184"
        ]
       ],
       "shape": {
        "columns": 3,
        "rows": 135
       }
      },
      "text/html": [
       "<div>\n",
       "<style scoped>\n",
       "    .dataframe tbody tr th:only-of-type {\n",
       "        vertical-align: middle;\n",
       "    }\n",
       "\n",
       "    .dataframe tbody tr th {\n",
       "        vertical-align: top;\n",
       "    }\n",
       "\n",
       "    .dataframe thead th {\n",
       "        text-align: right;\n",
       "    }\n",
       "</style>\n",
       "<table border=\"1\" class=\"dataframe\">\n",
       "  <thead>\n",
       "    <tr style=\"text-align: right;\">\n",
       "      <th></th>\n",
       "      <th>year</th>\n",
       "      <th>average_rating</th>\n",
       "      <th>movies_count</th>\n",
       "    </tr>\n",
       "  </thead>\n",
       "  <tbody>\n",
       "    <tr>\n",
       "      <th>0</th>\n",
       "      <td>1874</td>\n",
       "      <td>3.027778</td>\n",
       "      <td>1</td>\n",
       "    </tr>\n",
       "    <tr>\n",
       "      <th>1</th>\n",
       "      <td>1878</td>\n",
       "      <td>2.909091</td>\n",
       "      <td>1</td>\n",
       "    </tr>\n",
       "    <tr>\n",
       "      <th>2</th>\n",
       "      <td>1880</td>\n",
       "      <td>2.666667</td>\n",
       "      <td>1</td>\n",
       "    </tr>\n",
       "    <tr>\n",
       "      <th>3</th>\n",
       "      <td>1883</td>\n",
       "      <td>2.636364</td>\n",
       "      <td>1</td>\n",
       "    </tr>\n",
       "    <tr>\n",
       "      <th>4</th>\n",
       "      <td>1887</td>\n",
       "      <td>1.750000</td>\n",
       "      <td>1</td>\n",
       "    </tr>\n",
       "    <tr>\n",
       "      <th>...</th>\n",
       "      <td>...</td>\n",
       "      <td>...</td>\n",
       "      <td>...</td>\n",
       "    </tr>\n",
       "    <tr>\n",
       "      <th>130</th>\n",
       "      <td>2015</td>\n",
       "      <td>3.121467</td>\n",
       "      <td>2442</td>\n",
       "    </tr>\n",
       "    <tr>\n",
       "      <th>131</th>\n",
       "      <td>2016</td>\n",
       "      <td>3.134814</td>\n",
       "      <td>2414</td>\n",
       "    </tr>\n",
       "    <tr>\n",
       "      <th>132</th>\n",
       "      <td>2017</td>\n",
       "      <td>3.101902</td>\n",
       "      <td>2322</td>\n",
       "    </tr>\n",
       "    <tr>\n",
       "      <th>133</th>\n",
       "      <td>2018</td>\n",
       "      <td>3.013129</td>\n",
       "      <td>2012</td>\n",
       "    </tr>\n",
       "    <tr>\n",
       "      <th>134</th>\n",
       "      <td>2019</td>\n",
       "      <td>2.653357</td>\n",
       "      <td>988</td>\n",
       "    </tr>\n",
       "  </tbody>\n",
       "</table>\n",
       "<p>135 rows × 3 columns</p>\n",
       "</div>"
      ],
      "text/plain": [
       "     year  average_rating  movies_count\n",
       "0    1874        3.027778             1\n",
       "1    1878        2.909091             1\n",
       "2    1880        2.666667             1\n",
       "3    1883        2.636364             1\n",
       "4    1887        1.750000             1\n",
       "..    ...             ...           ...\n",
       "130  2015        3.121467          2442\n",
       "131  2016        3.134814          2414\n",
       "132  2017        3.101902          2322\n",
       "133  2018        3.013129          2012\n",
       "134  2019        2.653357           988\n",
       "\n",
       "[135 rows x 3 columns]"
      ]
     },
     "execution_count": 75,
     "metadata": {},
     "output_type": "execute_result"
    }
   ],
   "source": [
    "movies_year_avg = movies_avg.groupby('year').agg(average_rating=('rating', 'mean'), movies_count=('title', 'count')).reset_index()\n",
    "movies_year_avg"
   ]
  },
  {
   "cell_type": "code",
   "execution_count": 76,
   "metadata": {},
   "outputs": [
    {
     "data": {
      "image/png": "[encoded data removed]",
      "text/plain": [
       "<Figure size 1000x600 with 2 Axes>"
      ]
     },
     "metadata": {},
     "output_type": "display_data"
    }
   ],
   "source": [
    "fig, ax1 = plt.subplots(figsize=(10, 6))\n",
    "\n",
    "ax1.bar(movies_year_avg['year'], movies_year_avg['movies_count'], color='gray', label='Movie Count')\n",
    "ax1.set_xlabel('Year')\n",
    "ax1.set_ylabel('Movie Count', color='gray')\n",
    "ax1.tick_params(axis='y', labelcolor='gray')\n",
    "\n",
    "ax2 = ax1.twinx()\n",
    "ax2.plot(movies_year_avg['year'], movies_year_avg['average_rating'], color='blue', label='Average Rating')\n",
    "ax2.set_ylabel('Average Rating', color='blue')\n",
    "ax2.tick_params(axis='y', labelcolor='blue')\n",
    "\n",
    "plt.title('Average Movie Rating and Count by Year')\n",
    "plt.show()"
   ]
  },
  {
   "cell_type": "code",
   "execution_count": 77,
   "metadata": {},
   "outputs": [
    {
     "data": {
      "application/vnd.microsoft.datawrangler.viewer.v0+json": {
       "columns": [
        {
         "name": "index",
         "rawType": "int64",
         "type": "integer"
        },
        {
         "name": "userId",
         "rawType": "int64",
         "type": "integer"
        },
        {
         "name": "rating",
         "rawType": "float64",
         "type": "float"
        }
       ],
       "conversionMethod": "pd.DataFrame",
       "ref": "87d0b722-a233-4840-af21-35b71deda780",
       "rows": [
        [
         "0",
         "1",
         "3.8142857142857145"
        ],
        [
         "1",
         "2",
         "3.630434782608696"
        ],
        [
         "2",
         "3",
         "3.697709923664122"
        ],
        [
         "3",
         "4",
         "3.378099173553719"
        ],
        [
         "4",
         "5",
         "3.7524752475247523"
        ],
        [
         "5",
         "6",
         "4.153846153846154"
        ],
        [
         "6",
         "7",
         "3.64"
        ],
        [
         "7",
         "8",
         "3.6129032258064515"
        ],
        [
         "8",
         "9",
         "3.865168539325843"
        ],
        [
         "9",
         "10",
         "3.452830188679245"
        ],
        [
         "10",
         "11",
         "3.1458333333333335"
        ],
        [
         "11",
         "12",
         "3.296195652173913"
        ],
        [
         "12",
         "13",
         "3.5594660194174756"
        ],
        [
         "13",
         "14",
         "4.596774193548387"
        ],
        [
         "14",
         "15",
         "4.2214285714285715"
        ],
        [
         "15",
         "16",
         "4.479166666666667"
        ],
        [
         "16",
         "17",
         "3.6551724137931036"
        ],
        [
         "17",
         "18",
         "3.371657754010695"
        ],
        [
         "18",
         "19",
         "3.423580786026201"
        ],
        [
         "19",
         "20",
         "4.089743589743589"
        ],
        [
         "20",
         "21",
         "4.233009708737864"
        ],
        [
         "21",
         "22",
         "4.318181818181818"
        ],
        [
         "22",
         "23",
         "4.061994609164421"
        ],
        [
         "23",
         "24",
         "4.02"
        ],
        [
         "24",
         "25",
         "3.528735632183908"
        ],
        [
         "25",
         "26",
         "3.551282051282051"
        ],
        [
         "26",
         "27",
         "3.8666666666666667"
        ],
        [
         "27",
         "28",
         "4.6938775510204085"
        ],
        [
         "28",
         "29",
         "3.3676470588235294"
        ],
        [
         "29",
         "30",
         "3.7857142857142856"
        ],
        [
         "30",
         "31",
         "2.431077694235589"
        ],
        [
         "31",
         "32",
         "3.757575757575758"
        ],
        [
         "32",
         "33",
         "4.043478260869565"
        ],
        [
         "33",
         "34",
         "3.234375"
        ],
        [
         "34",
         "35",
         "3.89"
        ],
        [
         "35",
         "36",
         "3.5462962962962963"
        ],
        [
         "36",
         "37",
         "4.5"
        ],
        [
         "37",
         "38",
         "3.357429718875502"
        ],
        [
         "38",
         "39",
         "3.913793103448276"
        ],
        [
         "39",
         "40",
         "4.273255813953488"
        ],
        [
         "40",
         "41",
         "3.527638190954774"
        ],
        [
         "41",
         "42",
         "3.8181818181818183"
        ],
        [
         "42",
         "43",
         "3.526190476190476"
        ],
        [
         "43",
         "44",
         "4.536363636363636"
        ],
        [
         "44",
         "45",
         "3.7954545454545454"
        ],
        [
         "45",
         "46",
         "3.796875"
        ],
        [
         "46",
         "47",
         "3.585714285714286"
        ],
        [
         "47",
         "48",
         "4.08"
        ],
        [
         "48",
         "49",
         "4.2"
        ],
        [
         "49",
         "50",
         "4.222222222222222"
        ]
       ],
       "shape": {
        "columns": 2,
        "rows": 162541
       }
      },
      "text/html": [
       "<div>\n",
       "<style scoped>\n",
       "    .dataframe tbody tr th:only-of-type {\n",
       "        vertical-align: middle;\n",
       "    }\n",
       "\n",
       "    .dataframe tbody tr th {\n",
       "        vertical-align: top;\n",
       "    }\n",
       "\n",
       "    .dataframe thead th {\n",
       "        text-align: right;\n",
       "    }\n",
       "</style>\n",
       "<table border=\"1\" class=\"dataframe\">\n",
       "  <thead>\n",
       "    <tr style=\"text-align: right;\">\n",
       "      <th></th>\n",
       "      <th>userId</th>\n",
       "      <th>rating</th>\n",
       "    </tr>\n",
       "  </thead>\n",
       "  <tbody>\n",
       "    <tr>\n",
       "      <th>0</th>\n",
       "      <td>1</td>\n",
       "      <td>3.814286</td>\n",
       "    </tr>\n",
       "    <tr>\n",
       "      <th>1</th>\n",
       "      <td>2</td>\n",
       "      <td>3.630435</td>\n",
       "    </tr>\n",
       "    <tr>\n",
       "      <th>2</th>\n",
       "      <td>3</td>\n",
       "      <td>3.697710</td>\n",
       "    </tr>\n",
       "    <tr>\n",
       "      <th>3</th>\n",
       "      <td>4</td>\n",
       "      <td>3.378099</td>\n",
       "    </tr>\n",
       "    <tr>\n",
       "      <th>4</th>\n",
       "      <td>5</td>\n",
       "      <td>3.752475</td>\n",
       "    </tr>\n",
       "    <tr>\n",
       "      <th>...</th>\n",
       "      <td>...</td>\n",
       "      <td>...</td>\n",
       "    </tr>\n",
       "    <tr>\n",
       "      <th>162536</th>\n",
       "      <td>162537</td>\n",
       "      <td>4.039604</td>\n",
       "    </tr>\n",
       "    <tr>\n",
       "      <th>162537</th>\n",
       "      <td>162538</td>\n",
       "      <td>3.415584</td>\n",
       "    </tr>\n",
       "    <tr>\n",
       "      <th>162538</th>\n",
       "      <td>162539</td>\n",
       "      <td>4.510638</td>\n",
       "    </tr>\n",
       "    <tr>\n",
       "      <th>162539</th>\n",
       "      <td>162540</td>\n",
       "      <td>3.829545</td>\n",
       "    </tr>\n",
       "    <tr>\n",
       "      <th>162540</th>\n",
       "      <td>162541</td>\n",
       "      <td>3.365385</td>\n",
       "    </tr>\n",
       "  </tbody>\n",
       "</table>\n",
       "<p>162541 rows × 2 columns</p>\n",
       "</div>"
      ],
      "text/plain": [
       "        userId    rating\n",
       "0            1  3.814286\n",
       "1            2  3.630435\n",
       "2            3  3.697710\n",
       "3            4  3.378099\n",
       "4            5  3.752475\n",
       "...        ...       ...\n",
       "162536  162537  4.039604\n",
       "162537  162538  3.415584\n",
       "162538  162539  4.510638\n",
       "162539  162540  3.829545\n",
       "162540  162541  3.365385\n",
       "\n",
       "[162541 rows x 2 columns]"
      ]
     },
     "execution_count": 77,
     "metadata": {},
     "output_type": "execute_result"
    }
   ],
   "source": [
    "user_avg_ratings = movies_ratings_w_year.groupby('userId')['rating'].mean().reset_index()\n",
    "user_avg_ratings"
   ]
  },
  {
   "cell_type": "code",
   "execution_count": 78,
   "metadata": {},
   "outputs": [
    {
     "data": {
      "application/vnd.microsoft.datawrangler.viewer.v0+json": {
       "columns": [
        {
         "name": "index",
         "rawType": "int64",
         "type": "integer"
        },
        {
         "name": "userId",
         "rawType": "int64",
         "type": "integer"
        },
        {
         "name": "rating",
         "rawType": "float64",
         "type": "float"
        },
        {
         "name": "count",
         "rawType": "int64",
         "type": "integer"
        }
       ],
       "conversionMethod": "pd.DataFrame",
       "ref": "ea25cce1-6194-4a33-81ea-6a721fb52d1d",
       "rows": [
        [
         "0",
         "1",
         "3.8142857142857145",
         "70"
        ],
        [
         "1",
         "2",
         "3.630434782608696",
         "184"
        ],
        [
         "2",
         "3",
         "3.697709923664122",
         "656"
        ],
        [
         "3",
         "4",
         "3.378099173553719",
         "242"
        ],
        [
         "4",
         "5",
         "3.7524752475247523",
         "101"
        ],
        [
         "5",
         "6",
         "4.153846153846154",
         "26"
        ],
        [
         "6",
         "7",
         "3.64",
         "25"
        ],
        [
         "7",
         "8",
         "3.6129032258064515",
         "155"
        ],
        [
         "8",
         "9",
         "3.865168539325843",
         "178"
        ],
        [
         "9",
         "10",
         "3.452830188679245",
         "53"
        ],
        [
         "10",
         "11",
         "3.1458333333333335",
         "24"
        ],
        [
         "11",
         "12",
         "3.296195652173913",
         "736"
        ],
        [
         "12",
         "13",
         "3.5594660194174756",
         "412"
        ],
        [
         "13",
         "14",
         "4.596774193548387",
         "31"
        ],
        [
         "14",
         "15",
         "4.2214285714285715",
         "70"
        ],
        [
         "15",
         "16",
         "4.479166666666667",
         "24"
        ],
        [
         "16",
         "17",
         "3.6551724137931036",
         "29"
        ],
        [
         "17",
         "18",
         "3.371657754010695",
         "187"
        ],
        [
         "18",
         "19",
         "3.423580786026201",
         "458"
        ],
        [
         "19",
         "20",
         "4.089743589743589",
         "78"
        ],
        [
         "20",
         "21",
         "4.233009708737864",
         "103"
        ],
        [
         "21",
         "22",
         "4.318181818181818",
         "22"
        ],
        [
         "22",
         "23",
         "4.061994609164421",
         "371"
        ],
        [
         "23",
         "24",
         "4.02",
         "25"
        ],
        [
         "24",
         "25",
         "3.528735632183908",
         "87"
        ],
        [
         "25",
         "26",
         "3.551282051282051",
         "39"
        ],
        [
         "26",
         "27",
         "3.8666666666666667",
         "60"
        ],
        [
         "27",
         "28",
         "4.6938775510204085",
         "49"
        ],
        [
         "28",
         "29",
         "3.3676470588235294",
         "34"
        ],
        [
         "29",
         "30",
         "3.7857142857142856",
         "35"
        ],
        [
         "30",
         "31",
         "2.431077694235589",
         "399"
        ],
        [
         "31",
         "32",
         "3.757575757575758",
         "33"
        ],
        [
         "32",
         "33",
         "4.043478260869565",
         "23"
        ],
        [
         "33",
         "34",
         "3.234375",
         "32"
        ],
        [
         "34",
         "35",
         "3.89",
         "50"
        ],
        [
         "35",
         "36",
         "3.5462962962962963",
         "108"
        ],
        [
         "36",
         "37",
         "4.5",
         "64"
        ],
        [
         "37",
         "38",
         "3.357429718875502",
         "249"
        ],
        [
         "38",
         "39",
         "3.913793103448276",
         "29"
        ],
        [
         "39",
         "40",
         "4.273255813953488",
         "86"
        ],
        [
         "40",
         "41",
         "3.527638190954774",
         "199"
        ],
        [
         "41",
         "42",
         "3.8181818181818183",
         "22"
        ],
        [
         "42",
         "43",
         "3.526190476190476",
         "420"
        ],
        [
         "43",
         "44",
         "4.536363636363636",
         "55"
        ],
        [
         "44",
         "45",
         "3.7954545454545454",
         "44"
        ],
        [
         "45",
         "46",
         "3.796875",
         "160"
        ],
        [
         "46",
         "47",
         "3.585714285714286",
         "70"
        ],
        [
         "47",
         "48",
         "4.08",
         "25"
        ],
        [
         "48",
         "49",
         "4.2",
         "25"
        ],
        [
         "49",
         "50",
         "4.222222222222222",
         "81"
        ]
       ],
       "shape": {
        "columns": 3,
        "rows": 162541
       }
      },
      "text/html": [
       "<div>\n",
       "<style scoped>\n",
       "    .dataframe tbody tr th:only-of-type {\n",
       "        vertical-align: middle;\n",
       "    }\n",
       "\n",
       "    .dataframe tbody tr th {\n",
       "        vertical-align: top;\n",
       "    }\n",
       "\n",
       "    .dataframe thead th {\n",
       "        text-align: right;\n",
       "    }\n",
       "</style>\n",
       "<table border=\"1\" class=\"dataframe\">\n",
       "  <thead>\n",
       "    <tr style=\"text-align: right;\">\n",
       "      <th></th>\n",
       "      <th>userId</th>\n",
       "      <th>rating</th>\n",
       "      <th>count</th>\n",
       "    </tr>\n",
       "  </thead>\n",
       "  <tbody>\n",
       "    <tr>\n",
       "      <th>0</th>\n",
       "      <td>1</td>\n",
       "      <td>3.814286</td>\n",
       "      <td>70</td>\n",
       "    </tr>\n",
       "    <tr>\n",
       "      <th>1</th>\n",
       "      <td>2</td>\n",
       "      <td>3.630435</td>\n",
       "      <td>184</td>\n",
       "    </tr>\n",
       "    <tr>\n",
       "      <th>2</th>\n",
       "      <td>3</td>\n",
       "      <td>3.697710</td>\n",
       "      <td>656</td>\n",
       "    </tr>\n",
       "    <tr>\n",
       "      <th>3</th>\n",
       "      <td>4</td>\n",
       "      <td>3.378099</td>\n",
       "      <td>242</td>\n",
       "    </tr>\n",
       "    <tr>\n",
       "      <th>4</th>\n",
       "      <td>5</td>\n",
       "      <td>3.752475</td>\n",
       "      <td>101</td>\n",
       "    </tr>\n",
       "    <tr>\n",
       "      <th>...</th>\n",
       "      <td>...</td>\n",
       "      <td>...</td>\n",
       "      <td>...</td>\n",
       "    </tr>\n",
       "    <tr>\n",
       "      <th>162536</th>\n",
       "      <td>162537</td>\n",
       "      <td>4.039604</td>\n",
       "      <td>101</td>\n",
       "    </tr>\n",
       "    <tr>\n",
       "      <th>162537</th>\n",
       "      <td>162538</td>\n",
       "      <td>3.415584</td>\n",
       "      <td>154</td>\n",
       "    </tr>\n",
       "    <tr>\n",
       "      <th>162538</th>\n",
       "      <td>162539</td>\n",
       "      <td>4.510638</td>\n",
       "      <td>47</td>\n",
       "    </tr>\n",
       "    <tr>\n",
       "      <th>162539</th>\n",
       "      <td>162540</td>\n",
       "      <td>3.829545</td>\n",
       "      <td>88</td>\n",
       "    </tr>\n",
       "    <tr>\n",
       "      <th>162540</th>\n",
       "      <td>162541</td>\n",
       "      <td>3.365385</td>\n",
       "      <td>182</td>\n",
       "    </tr>\n",
       "  </tbody>\n",
       "</table>\n",
       "<p>162541 rows × 3 columns</p>\n",
       "</div>"
      ],
      "text/plain": [
       "        userId    rating  count\n",
       "0            1  3.814286     70\n",
       "1            2  3.630435    184\n",
       "2            3  3.697710    656\n",
       "3            4  3.378099    242\n",
       "4            5  3.752475    101\n",
       "...        ...       ...    ...\n",
       "162536  162537  4.039604    101\n",
       "162537  162538  3.415584    154\n",
       "162538  162539  4.510638     47\n",
       "162539  162540  3.829545     88\n",
       "162540  162541  3.365385    182\n",
       "\n",
       "[162541 rows x 3 columns]"
      ]
     },
     "execution_count": 78,
     "metadata": {},
     "output_type": "execute_result"
    }
   ],
   "source": [
    "user_ratings = pd.merge(user_avg_ratings, plt_ratings, on='userId', how='inner')\n",
    "user_ratings"
   ]
  },
  {
   "cell_type": "code",
   "execution_count": 79,
   "metadata": {},
   "outputs": [
    {
     "data": {
      "image/png": "[encoded data removed]",
      "text/plain": [
       "<Figure size 640x480 with 1 Axes>"
      ]
     },
     "metadata": {},
     "output_type": "display_data"
    }
   ],
   "source": [
    "plt.scatter(user_ratings['rating'], user_ratings['count'])\n",
    "plt.title('User average rating vs number of ratings')\n",
    "plt.yscale('log')\n",
    "plt.xlabel('User Ratings')\n",
    "plt.ylabel('Number of Ratings')\n",
    "plt.grid(True,which='both', linestyle='--', linewidth=0.5)\n",
    "plt.show()"
   ]
  },
  {
   "cell_type": "code",
   "execution_count": 80,
   "metadata": {},
   "outputs": [
    {
     "name": "stderr",
     "output_type": "stream",
     "text": [
      "C:\\Users\\Admin\\AppData\\Local\\Temp\\ipykernel_27156\\566650383.py:5: FutureWarning: The default of observed=False is deprecated and will be changed to True in a future version of pandas. Pass observed=False to retain current behavior or observed=True to adopt the future default and silence this warning.\n",
      "  heatmap_data = user_ratings.groupby(['count_bin', 'rating_bin']).size().unstack()\n"
     ]
    },
    {
     "data": {
      "image/png": "[encoded data removed]",
      "text/plain": [
       "<Figure size 1200x600 with 2 Axes>"
      ]
     },
     "metadata": {},
     "output_type": "display_data"
    }
   ],
   "source": [
    "user_ratings_binned = user_ratings.copy()\n",
    "user_ratings['count_bin'] = pd.cut(user_ratings['count'], bins=[1, 10, 50, 100, 500, 1000, 5000, 10000, 50000, 100000])\n",
    "user_ratings['rating_bin'] = pd.cut(user_ratings['rating'], bins=50)\n",
    "\n",
    "heatmap_data = user_ratings.groupby(['count_bin', 'rating_bin']).size().unstack()\n",
    "\n",
    "plt.figure(figsize=(12, 6))\n",
    "sb.heatmap(heatmap_data, cbar_kws={'label': 'Number of Users'})\n",
    "plt.title('Density Heatmap of User Ratings')\n",
    "plt.xlabel('Average Rating')\n",
    "plt.ylabel('Rating Activity Bin')\n",
    "plt.show()"
   ]
  },
  {
   "cell_type": "markdown",
   "metadata": {},
   "source": [
    "Recommendation System"
   ]
  },
  {
   "cell_type": "code",
   "execution_count": 81,
   "metadata": {},
   "outputs": [],
   "source": [
    "from sklearn.metrics.pairwise import cosine_similarity\n",
    "from sklearn.feature_extraction.text import TfidfVectorizer\n",
    "import re"
   ]
  },
  {
   "cell_type": "code",
   "execution_count": 82,
   "metadata": {},
   "outputs": [],
   "source": [
    "vectorizer = TfidfVectorizer(ngram_range=(1, 2))\n",
    "\n",
    "def clean_text(text):\n",
    "    text = re.sub(r'\\s+', ' ', text)\n",
    "    text = re.sub(r'[^a-zA-Z0-9\\s]', '', text)\n",
    "    return text"
   ]
  },
  {
   "cell_type": "code",
   "execution_count": 83,
   "metadata": {},
   "outputs": [],
   "source": [
    "movies['cleaned_title'] = movies['title'].apply(clean_text)"
   ]
  },
  {
   "cell_type": "code",
   "execution_count": 84,
   "metadata": {},
   "outputs": [],
   "source": [
    "tfidf = vectorizer.fit_transform(movies['cleaned_title'])"
   ]
  },
  {
   "cell_type": "code",
   "execution_count": 85,
   "metadata": {},
   "outputs": [],
   "source": [
    "def search_movies(title):\n",
    "    title = clean_text(title)\n",
    "    user_title = vectorizer.transform([title])\n",
    "    similarity = cosine_similarity(user_title, tfidf).flatten()\n",
    "    index = np.argsort(similarity)[-10:][::-1]\n",
    "    result = movies.iloc[index]\n",
    "    return result"
   ]
  },
  {
   "cell_type": "code",
   "execution_count": 86,
   "metadata": {},
   "outputs": [
    {
     "data": {
      "application/vnd.microsoft.datawrangler.viewer.v0+json": {
       "columns": [
        {
         "name": "index",
         "rawType": "int64",
         "type": "integer"
        },
        {
         "name": "movieId",
         "rawType": "int64",
         "type": "integer"
        },
        {
         "name": "title",
         "rawType": "object",
         "type": "string"
        },
        {
         "name": "genres",
         "rawType": "object",
         "type": "string"
        },
        {
         "name": "cleaned_title",
         "rawType": "object",
         "type": "string"
        }
       ],
       "conversionMethod": "pd.DataFrame",
       "ref": "99777ecb-0b35-4b60-b6dc-2fd5606b26b1",
       "rows": [
        [
         "1207",
         "1240",
         "Terminator, The (1984)",
         "Action|Sci-Fi|Thriller",
         "Terminator The 1984"
        ],
        [
         "13334",
         "68791",
         "Terminator Salvation (2009)",
         "Action|Adventure|Sci-Fi|Thriller",
         "Terminator Salvation 2009"
        ],
        [
         "31990",
         "139909",
         "Russian Terminator (1989)",
         "Action",
         "Russian Terminator 1989"
        ],
        [
         "24155",
         "120799",
         "Terminator Genisys (2015)",
         "Action|Adventure|Sci-Fi|Thriller",
         "Terminator Genisys 2015"
        ],
        [
         "581",
         "589",
         "Terminator 2: Judgment Day (1991)",
         "Action|Sci-Fi",
         "Terminator 2 Judgment Day 1991"
        ],
        [
         "62088",
         "207830",
         "Terminator: Dark Fate (2019)",
         "Action|Sci-Fi",
         "Terminator Dark Fate 2019"
        ],
        [
         "6414",
         "6537",
         "Terminator 3: Rise of the Machines (2003)",
         "Action|Adventure|Sci-Fi",
         "Terminator 3 Rise of the Machines 2003"
        ],
        [
         "47702",
         "175137",
         "The Making of 'The Terminator': A Retrospective (1992)",
         "Documentary",
         "The Making of The Terminator A Retrospective 1992"
        ],
        [
         "48792",
         "177415",
         "The Making of 'Terminator 2: Judgment Day' (1991)",
         "Documentary",
         "The Making of Terminator 2 Judgment Day 1991"
        ],
        [
         "19729",
         "102425",
         "Lady Terminator (Pembalasan ratu pantai selatan) (1989)",
         "Action|Adventure|Horror|Sci-Fi|Thriller",
         "Lady Terminator Pembalasan ratu pantai selatan 1989"
        ]
       ],
       "shape": {
        "columns": 4,
        "rows": 10
       }
      },
      "text/html": [
       "<div>\n",
       "<style scoped>\n",
       "    .dataframe tbody tr th:only-of-type {\n",
       "        vertical-align: middle;\n",
       "    }\n",
       "\n",
       "    .dataframe tbody tr th {\n",
       "        vertical-align: top;\n",
       "    }\n",
       "\n",
       "    .dataframe thead th {\n",
       "        text-align: right;\n",
       "    }\n",
       "</style>\n",
       "<table border=\"1\" class=\"dataframe\">\n",
       "  <thead>\n",
       "    <tr style=\"text-align: right;\">\n",
       "      <th></th>\n",
       "      <th>movieId</th>\n",
       "      <th>title</th>\n",
       "      <th>genres</th>\n",
       "      <th>cleaned_title</th>\n",
       "    </tr>\n",
       "  </thead>\n",
       "  <tbody>\n",
       "    <tr>\n",
       "      <th>1207</th>\n",
       "      <td>1240</td>\n",
       "      <td>Terminator, The (1984)</td>\n",
       "      <td>Action|Sci-Fi|Thriller</td>\n",
       "      <td>Terminator The 1984</td>\n",
       "    </tr>\n",
       "    <tr>\n",
       "      <th>13334</th>\n",
       "      <td>68791</td>\n",
       "      <td>Terminator Salvation (2009)</td>\n",
       "      <td>Action|Adventure|Sci-Fi|Thriller</td>\n",
       "      <td>Terminator Salvation 2009</td>\n",
       "    </tr>\n",
       "    <tr>\n",
       "      <th>31990</th>\n",
       "      <td>139909</td>\n",
       "      <td>Russian Terminator (1989)</td>\n",
       "      <td>Action</td>\n",
       "      <td>Russian Terminator 1989</td>\n",
       "    </tr>\n",
       "    <tr>\n",
       "      <th>24155</th>\n",
       "      <td>120799</td>\n",
       "      <td>Terminator Genisys (2015)</td>\n",
       "      <td>Action|Adventure|Sci-Fi|Thriller</td>\n",
       "      <td>Terminator Genisys 2015</td>\n",
       "    </tr>\n",
       "    <tr>\n",
       "      <th>581</th>\n",
       "      <td>589</td>\n",
       "      <td>Terminator 2: Judgment Day (1991)</td>\n",
       "      <td>Action|Sci-Fi</td>\n",
       "      <td>Terminator 2 Judgment Day 1991</td>\n",
       "    </tr>\n",
       "    <tr>\n",
       "      <th>62088</th>\n",
       "      <td>207830</td>\n",
       "      <td>Terminator: Dark Fate (2019)</td>\n",
       "      <td>Action|Sci-Fi</td>\n",
       "      <td>Terminator Dark Fate 2019</td>\n",
       "    </tr>\n",
       "    <tr>\n",
       "      <th>6414</th>\n",
       "      <td>6537</td>\n",
       "      <td>Terminator 3: Rise of the Machines (2003)</td>\n",
       "      <td>Action|Adventure|Sci-Fi</td>\n",
       "      <td>Terminator 3 Rise of the Machines 2003</td>\n",
       "    </tr>\n",
       "    <tr>\n",
       "      <th>47702</th>\n",
       "      <td>175137</td>\n",
       "      <td>The Making of 'The Terminator': A Retrospectiv...</td>\n",
       "      <td>Documentary</td>\n",
       "      <td>The Making of The Terminator A Retrospective 1992</td>\n",
       "    </tr>\n",
       "    <tr>\n",
       "      <th>48792</th>\n",
       "      <td>177415</td>\n",
       "      <td>The Making of 'Terminator 2: Judgment Day' (1991)</td>\n",
       "      <td>Documentary</td>\n",
       "      <td>The Making of Terminator 2 Judgment Day 1991</td>\n",
       "    </tr>\n",
       "    <tr>\n",
       "      <th>19729</th>\n",
       "      <td>102425</td>\n",
       "      <td>Lady Terminator (Pembalasan ratu pantai selata...</td>\n",
       "      <td>Action|Adventure|Horror|Sci-Fi|Thriller</td>\n",
       "      <td>Lady Terminator Pembalasan ratu pantai selatan...</td>\n",
       "    </tr>\n",
       "  </tbody>\n",
       "</table>\n",
       "</div>"
      ],
      "text/plain": [
       "       movieId                                              title  \\\n",
       "1207      1240                             Terminator, The (1984)   \n",
       "13334    68791                        Terminator Salvation (2009)   \n",
       "31990   139909                          Russian Terminator (1989)   \n",
       "24155   120799                          Terminator Genisys (2015)   \n",
       "581        589                  Terminator 2: Judgment Day (1991)   \n",
       "62088   207830                       Terminator: Dark Fate (2019)   \n",
       "6414      6537          Terminator 3: Rise of the Machines (2003)   \n",
       "47702   175137  The Making of 'The Terminator': A Retrospectiv...   \n",
       "48792   177415  The Making of 'Terminator 2: Judgment Day' (1991)   \n",
       "19729   102425  Lady Terminator (Pembalasan ratu pantai selata...   \n",
       "\n",
       "                                        genres  \\\n",
       "1207                    Action|Sci-Fi|Thriller   \n",
       "13334         Action|Adventure|Sci-Fi|Thriller   \n",
       "31990                                   Action   \n",
       "24155         Action|Adventure|Sci-Fi|Thriller   \n",
       "581                              Action|Sci-Fi   \n",
       "62088                            Action|Sci-Fi   \n",
       "6414                   Action|Adventure|Sci-Fi   \n",
       "47702                              Documentary   \n",
       "48792                              Documentary   \n",
       "19729  Action|Adventure|Horror|Sci-Fi|Thriller   \n",
       "\n",
       "                                           cleaned_title  \n",
       "1207                                 Terminator The 1984  \n",
       "13334                          Terminator Salvation 2009  \n",
       "31990                            Russian Terminator 1989  \n",
       "24155                            Terminator Genisys 2015  \n",
       "581                       Terminator 2 Judgment Day 1991  \n",
       "62088                          Terminator Dark Fate 2019  \n",
       "6414              Terminator 3 Rise of the Machines 2003  \n",
       "47702  The Making of The Terminator A Retrospective 1992  \n",
       "48792       The Making of Terminator 2 Judgment Day 1991  \n",
       "19729  Lady Terminator Pembalasan ratu pantai selatan...  "
      ]
     },
     "execution_count": 86,
     "metadata": {},
     "output_type": "execute_result"
    }
   ],
   "source": [
    "search_movies('Terminator')"
   ]
  },
  {
   "cell_type": "code",
   "execution_count": 87,
   "metadata": {},
   "outputs": [],
   "source": [
    "def find_similar_movies(movie_id):\n",
    "    similar_users = ratings[(ratings[\"movieId\"] == movie_id) & (ratings[\"rating\"] > 4)][\"userId\"].unique()\n",
    "    similar_user_recs = ratings[(ratings[\"userId\"].isin(similar_users)) & (ratings[\"rating\"] > 4)][\"movieId\"]\n",
    "    similar_user_recs = similar_user_recs.value_counts() / len(similar_users)\n",
    "\n",
    "    similar_user_recs = similar_user_recs[similar_user_recs > .10]\n",
    "    all_users = ratings[(ratings[\"movieId\"].isin(similar_user_recs.index)) & (ratings[\"rating\"] > 4)]\n",
    "    all_user_recs = all_users[\"movieId\"].value_counts() / len(all_users[\"userId\"].unique())\n",
    "    rec_percentages = pd.concat([similar_user_recs, all_user_recs], axis=1)\n",
    "    rec_percentages.columns = [\"similar\", \"all\"]\n",
    "    \n",
    "    rec_percentages[\"score\"] = rec_percentages[\"similar\"] / rec_percentages[\"all\"]\n",
    "    rec_percentages = rec_percentages.sort_values(\"score\", ascending=False)\n",
    "    return rec_percentages.head(10).merge(movies, left_index=True, right_on=\"movieId\")[[\"score\", \"title\", \"genres\"]]"
   ]
  },
  {
   "cell_type": "code",
   "execution_count": 88,
   "metadata": {},
   "outputs": [
    {
     "data": {
      "application/vnd.microsoft.datawrangler.viewer.v0+json": {
       "columns": [
        {
         "name": "index",
         "rawType": "int64",
         "type": "integer"
        },
        {
         "name": "score",
         "rawType": "float64",
         "type": "float"
        },
        {
         "name": "title",
         "rawType": "object",
         "type": "string"
        },
        {
         "name": "genres",
         "rawType": "object",
         "type": "string"
        }
       ],
       "conversionMethod": "pd.DataFrame",
       "ref": "515606a2-bc5a-41f8-a16c-91f27658ee69",
       "rows": [
        [
         "4",
         "141.48037190082644",
         "Father of the Bride Part II (1995)",
         "Comedy"
        ],
        [
         "6819",
         "36.894665948275865",
         "Father of the Bride (1991)",
         "Comedy"
        ],
        [
         "2",
         "22.87042985155234",
         "Grumpier Old Men (1995)",
         "Comedy|Romance"
        ],
        [
         "6",
         "14.962567491389029",
         "Sabrina (1995)",
         "Comedy|Romance"
        ],
        [
         "772",
         "14.324153835602344",
         "Nutty Professor, The (1996)",
         "Comedy|Fantasy|Romance|Sci-Fi"
        ],
        [
         "313",
         "13.365885379014395",
         "Santa Clause, The (1994)",
         "Comedy|Drama|Fantasy"
        ],
        [
         "489",
         "12.955658042782323",
         "Executive Decision (1996)",
         "Action|Adventure|Thriller"
        ],
        [
         "166",
         "11.828686831052702",
         "First Knight (1995)",
         "Action|Drama|Romance"
        ],
        [
         "93",
         "11.280826995414733",
         "Broken Arrow (1996)",
         "Action|Adventure|Thriller"
        ],
        [
         "274",
         "11.167012631637137",
         "Miracle on 34th Street (1994)",
         "Drama"
        ]
       ],
       "shape": {
        "columns": 3,
        "rows": 10
       }
      },
      "text/html": [
       "<div>\n",
       "<style scoped>\n",
       "    .dataframe tbody tr th:only-of-type {\n",
       "        vertical-align: middle;\n",
       "    }\n",
       "\n",
       "    .dataframe tbody tr th {\n",
       "        vertical-align: top;\n",
       "    }\n",
       "\n",
       "    .dataframe thead th {\n",
       "        text-align: right;\n",
       "    }\n",
       "</style>\n",
       "<table border=\"1\" class=\"dataframe\">\n",
       "  <thead>\n",
       "    <tr style=\"text-align: right;\">\n",
       "      <th></th>\n",
       "      <th>score</th>\n",
       "      <th>title</th>\n",
       "      <th>genres</th>\n",
       "    </tr>\n",
       "  </thead>\n",
       "  <tbody>\n",
       "    <tr>\n",
       "      <th>4</th>\n",
       "      <td>141.480372</td>\n",
       "      <td>Father of the Bride Part II (1995)</td>\n",
       "      <td>Comedy</td>\n",
       "    </tr>\n",
       "    <tr>\n",
       "      <th>6819</th>\n",
       "      <td>36.894666</td>\n",
       "      <td>Father of the Bride (1991)</td>\n",
       "      <td>Comedy</td>\n",
       "    </tr>\n",
       "    <tr>\n",
       "      <th>2</th>\n",
       "      <td>22.870430</td>\n",
       "      <td>Grumpier Old Men (1995)</td>\n",
       "      <td>Comedy|Romance</td>\n",
       "    </tr>\n",
       "    <tr>\n",
       "      <th>6</th>\n",
       "      <td>14.962567</td>\n",
       "      <td>Sabrina (1995)</td>\n",
       "      <td>Comedy|Romance</td>\n",
       "    </tr>\n",
       "    <tr>\n",
       "      <th>772</th>\n",
       "      <td>14.324154</td>\n",
       "      <td>Nutty Professor, The (1996)</td>\n",
       "      <td>Comedy|Fantasy|Romance|Sci-Fi</td>\n",
       "    </tr>\n",
       "    <tr>\n",
       "      <th>313</th>\n",
       "      <td>13.365885</td>\n",
       "      <td>Santa Clause, The (1994)</td>\n",
       "      <td>Comedy|Drama|Fantasy</td>\n",
       "    </tr>\n",
       "    <tr>\n",
       "      <th>489</th>\n",
       "      <td>12.955658</td>\n",
       "      <td>Executive Decision (1996)</td>\n",
       "      <td>Action|Adventure|Thriller</td>\n",
       "    </tr>\n",
       "    <tr>\n",
       "      <th>166</th>\n",
       "      <td>11.828687</td>\n",
       "      <td>First Knight (1995)</td>\n",
       "      <td>Action|Drama|Romance</td>\n",
       "    </tr>\n",
       "    <tr>\n",
       "      <th>93</th>\n",
       "      <td>11.280827</td>\n",
       "      <td>Broken Arrow (1996)</td>\n",
       "      <td>Action|Adventure|Thriller</td>\n",
       "    </tr>\n",
       "    <tr>\n",
       "      <th>274</th>\n",
       "      <td>11.167013</td>\n",
       "      <td>Miracle on 34th Street (1994)</td>\n",
       "      <td>Drama</td>\n",
       "    </tr>\n",
       "  </tbody>\n",
       "</table>\n",
       "</div>"
      ],
      "text/plain": [
       "           score                               title  \\\n",
       "4     141.480372  Father of the Bride Part II (1995)   \n",
       "6819   36.894666          Father of the Bride (1991)   \n",
       "2      22.870430             Grumpier Old Men (1995)   \n",
       "6      14.962567                      Sabrina (1995)   \n",
       "772    14.324154         Nutty Professor, The (1996)   \n",
       "313    13.365885            Santa Clause, The (1994)   \n",
       "489    12.955658           Executive Decision (1996)   \n",
       "166    11.828687                 First Knight (1995)   \n",
       "93     11.280827                 Broken Arrow (1996)   \n",
       "274    11.167013       Miracle on 34th Street (1994)   \n",
       "\n",
       "                             genres  \n",
       "4                            Comedy  \n",
       "6819                         Comedy  \n",
       "2                    Comedy|Romance  \n",
       "6                    Comedy|Romance  \n",
       "772   Comedy|Fantasy|Romance|Sci-Fi  \n",
       "313            Comedy|Drama|Fantasy  \n",
       "489       Action|Adventure|Thriller  \n",
       "166            Action|Drama|Romance  \n",
       "93        Action|Adventure|Thriller  \n",
       "274                           Drama  "
      ]
     },
     "execution_count": 88,
     "metadata": {},
     "output_type": "execute_result"
    }
   ],
   "source": [
    "find_similar_movies(5)"
   ]
  },
  {
   "cell_type": "markdown",
   "metadata": {},
   "source": [
    "pickle"
   ]
  },
  {
   "cell_type": "code",
   "execution_count": 100,
   "metadata": {},
   "outputs": [],
   "source": [
    "class RecommendationSystem:\n",
    "    def __init__(self, movies_df, ratings_df,vectorizer, tfidf):\n",
    "        self.vectorizer = vectorizer\n",
    "        self.tfidf = tfidf\n",
    "        self.movies = movies_df\n",
    "        self.ratings = ratings_df\n",
    "\n",
    "    def clean_text(self,text):\n",
    "        text = re.sub(r'\\s+', ' ', text)\n",
    "        text = re.sub(r'[^a-zA-Z0-9\\s]', '', text)\n",
    "        return text\n",
    "\n",
    "    def search_movies(self,title):\n",
    "        title = self.clean_text(title)\n",
    "        user_title = self.vectorizer.transform([title])\n",
    "        similarity = cosine_similarity(user_title, self.tfidf).flatten()\n",
    "        index = np.argsort(similarity)[-10:][::-1]\n",
    "        result = self.movies.iloc[index]\n",
    "        return result\n",
    "    \n",
    "    def find_similar_movies(self,movie_id):\n",
    "        similar_users = self.ratings[(self.ratings[\"movieId\"] == movie_id) & (self.ratings[\"rating\"] > 4)][\"userId\"].unique()\n",
    "        similar_user_recs = self.ratings[(self.ratings[\"userId\"].isin(similar_users)) & (self.ratings[\"rating\"] > 4)][\"movieId\"]\n",
    "        similar_user_recs = similar_user_recs.value_counts() / len(similar_users)\n",
    "\n",
    "        similar_user_recs = similar_user_recs[similar_user_recs > .10]\n",
    "        all_users = self.ratings[(self.ratings[\"movieId\"].isin(similar_user_recs.index)) & (self.ratings[\"rating\"] > 4)]\n",
    "        all_user_recs = all_users[\"movieId\"].value_counts() / len(all_users[\"userId\"].unique())\n",
    "        rec_percentages = pd.concat([similar_user_recs, all_user_recs], axis=1)\n",
    "        rec_percentages.columns = [\"similar\", \"all\"]\n",
    "        \n",
    "        rec_percentages[\"score\"] = rec_percentages[\"similar\"] / rec_percentages[\"all\"]\n",
    "        rec_percentages = rec_percentages.sort_values(\"score\", ascending=False)\n",
    "        return rec_percentages.head(10).merge(self.movies, left_index=True, right_on=\"movieId\")[[\"score\", \"title\", \"genres\"]]\n",
    "        \n",
    "        "
   ]
  },
  {
   "cell_type": "code",
   "execution_count": 101,
   "metadata": {},
   "outputs": [
    {
     "data": {
      "application/vnd.microsoft.datawrangler.viewer.v0+json": {
       "columns": [
        {
         "name": "index",
         "rawType": "int64",
         "type": "integer"
        },
        {
         "name": "movieId",
         "rawType": "int64",
         "type": "integer"
        },
        {
         "name": "title",
         "rawType": "object",
         "type": "string"
        },
        {
         "name": "genres",
         "rawType": "object",
         "type": "string"
        },
        {
         "name": "cleaned_title",
         "rawType": "object",
         "type": "string"
        }
       ],
       "conversionMethod": "pd.DataFrame",
       "ref": "40decd8c-6619-406c-a84c-3fa64d2481e6",
       "rows": [
        [
         "1207",
         "1240",
         "Terminator, The (1984)",
         "Action|Sci-Fi|Thriller",
         "Terminator The 1984"
        ],
        [
         "13334",
         "68791",
         "Terminator Salvation (2009)",
         "Action|Adventure|Sci-Fi|Thriller",
         "Terminator Salvation 2009"
        ],
        [
         "31990",
         "139909",
         "Russian Terminator (1989)",
         "Action",
         "Russian Terminator 1989"
        ],
        [
         "24155",
         "120799",
         "Terminator Genisys (2015)",
         "Action|Adventure|Sci-Fi|Thriller",
         "Terminator Genisys 2015"
        ],
        [
         "581",
         "589",
         "Terminator 2: Judgment Day (1991)",
         "Action|Sci-Fi",
         "Terminator 2 Judgment Day 1991"
        ],
        [
         "62088",
         "207830",
         "Terminator: Dark Fate (2019)",
         "Action|Sci-Fi",
         "Terminator Dark Fate 2019"
        ],
        [
         "6414",
         "6537",
         "Terminator 3: Rise of the Machines (2003)",
         "Action|Adventure|Sci-Fi",
         "Terminator 3 Rise of the Machines 2003"
        ],
        [
         "47702",
         "175137",
         "The Making of 'The Terminator': A Retrospective (1992)",
         "Documentary",
         "The Making of The Terminator A Retrospective 1992"
        ],
        [
         "48792",
         "177415",
         "The Making of 'Terminator 2: Judgment Day' (1991)",
         "Documentary",
         "The Making of Terminator 2 Judgment Day 1991"
        ],
        [
         "19729",
         "102425",
         "Lady Terminator (Pembalasan ratu pantai selatan) (1989)",
         "Action|Adventure|Horror|Sci-Fi|Thriller",
         "Lady Terminator Pembalasan ratu pantai selatan 1989"
        ]
       ],
       "shape": {
        "columns": 4,
        "rows": 10
       }
      },
      "text/html": [
       "<div>\n",
       "<style scoped>\n",
       "    .dataframe tbody tr th:only-of-type {\n",
       "        vertical-align: middle;\n",
       "    }\n",
       "\n",
       "    .dataframe tbody tr th {\n",
       "        vertical-align: top;\n",
       "    }\n",
       "\n",
       "    .dataframe thead th {\n",
       "        text-align: right;\n",
       "    }\n",
       "</style>\n",
       "<table border=\"1\" class=\"dataframe\">\n",
       "  <thead>\n",
       "    <tr style=\"text-align: right;\">\n",
       "      <th></th>\n",
       "      <th>movieId</th>\n",
       "      <th>title</th>\n",
       "      <th>genres</th>\n",
       "      <th>cleaned_title</th>\n",
       "    </tr>\n",
       "  </thead>\n",
       "  <tbody>\n",
       "    <tr>\n",
       "      <th>1207</th>\n",
       "      <td>1240</td>\n",
       "      <td>Terminator, The (1984)</td>\n",
       "      <td>Action|Sci-Fi|Thriller</td>\n",
       "      <td>Terminator The 1984</td>\n",
       "    </tr>\n",
       "    <tr>\n",
       "      <th>13334</th>\n",
       "      <td>68791</td>\n",
       "      <td>Terminator Salvation (2009)</td>\n",
       "      <td>Action|Adventure|Sci-Fi|Thriller</td>\n",
       "      <td>Terminator Salvation 2009</td>\n",
       "    </tr>\n",
       "    <tr>\n",
       "      <th>31990</th>\n",
       "      <td>139909</td>\n",
       "      <td>Russian Terminator (1989)</td>\n",
       "      <td>Action</td>\n",
       "      <td>Russian Terminator 1989</td>\n",
       "    </tr>\n",
       "    <tr>\n",
       "      <th>24155</th>\n",
       "      <td>120799</td>\n",
       "      <td>Terminator Genisys (2015)</td>\n",
       "      <td>Action|Adventure|Sci-Fi|Thriller</td>\n",
       "      <td>Terminator Genisys 2015</td>\n",
       "    </tr>\n",
       "    <tr>\n",
       "      <th>581</th>\n",
       "      <td>589</td>\n",
       "      <td>Terminator 2: Judgment Day (1991)</td>\n",
       "      <td>Action|Sci-Fi</td>\n",
       "      <td>Terminator 2 Judgment Day 1991</td>\n",
       "    </tr>\n",
       "    <tr>\n",
       "      <th>62088</th>\n",
       "      <td>207830</td>\n",
       "      <td>Terminator: Dark Fate (2019)</td>\n",
       "      <td>Action|Sci-Fi</td>\n",
       "      <td>Terminator Dark Fate 2019</td>\n",
       "    </tr>\n",
       "    <tr>\n",
       "      <th>6414</th>\n",
       "      <td>6537</td>\n",
       "      <td>Terminator 3: Rise of the Machines (2003)</td>\n",
       "      <td>Action|Adventure|Sci-Fi</td>\n",
       "      <td>Terminator 3 Rise of the Machines 2003</td>\n",
       "    </tr>\n",
       "    <tr>\n",
       "      <th>47702</th>\n",
       "      <td>175137</td>\n",
       "      <td>The Making of 'The Terminator': A Retrospectiv...</td>\n",
       "      <td>Documentary</td>\n",
       "      <td>The Making of The Terminator A Retrospective 1992</td>\n",
       "    </tr>\n",
       "    <tr>\n",
       "      <th>48792</th>\n",
       "      <td>177415</td>\n",
       "      <td>The Making of 'Terminator 2: Judgment Day' (1991)</td>\n",
       "      <td>Documentary</td>\n",
       "      <td>The Making of Terminator 2 Judgment Day 1991</td>\n",
       "    </tr>\n",
       "    <tr>\n",
       "      <th>19729</th>\n",
       "      <td>102425</td>\n",
       "      <td>Lady Terminator (Pembalasan ratu pantai selata...</td>\n",
       "      <td>Action|Adventure|Horror|Sci-Fi|Thriller</td>\n",
       "      <td>Lady Terminator Pembalasan ratu pantai selatan...</td>\n",
       "    </tr>\n",
       "  </tbody>\n",
       "</table>\n",
       "</div>"
      ],
      "text/plain": [
       "       movieId                                              title  \\\n",
       "1207      1240                             Terminator, The (1984)   \n",
       "13334    68791                        Terminator Salvation (2009)   \n",
       "31990   139909                          Russian Terminator (1989)   \n",
       "24155   120799                          Terminator Genisys (2015)   \n",
       "581        589                  Terminator 2: Judgment Day (1991)   \n",
       "62088   207830                       Terminator: Dark Fate (2019)   \n",
       "6414      6537          Terminator 3: Rise of the Machines (2003)   \n",
       "47702   175137  The Making of 'The Terminator': A Retrospectiv...   \n",
       "48792   177415  The Making of 'Terminator 2: Judgment Day' (1991)   \n",
       "19729   102425  Lady Terminator (Pembalasan ratu pantai selata...   \n",
       "\n",
       "                                        genres  \\\n",
       "1207                    Action|Sci-Fi|Thriller   \n",
       "13334         Action|Adventure|Sci-Fi|Thriller   \n",
       "31990                                   Action   \n",
       "24155         Action|Adventure|Sci-Fi|Thriller   \n",
       "581                              Action|Sci-Fi   \n",
       "62088                            Action|Sci-Fi   \n",
       "6414                   Action|Adventure|Sci-Fi   \n",
       "47702                              Documentary   \n",
       "48792                              Documentary   \n",
       "19729  Action|Adventure|Horror|Sci-Fi|Thriller   \n",
       "\n",
       "                                           cleaned_title  \n",
       "1207                                 Terminator The 1984  \n",
       "13334                          Terminator Salvation 2009  \n",
       "31990                            Russian Terminator 1989  \n",
       "24155                            Terminator Genisys 2015  \n",
       "581                       Terminator 2 Judgment Day 1991  \n",
       "62088                          Terminator Dark Fate 2019  \n",
       "6414              Terminator 3 Rise of the Machines 2003  \n",
       "47702  The Making of The Terminator A Retrospective 1992  \n",
       "48792       The Making of Terminator 2 Judgment Day 1991  \n",
       "19729  Lady Terminator Pembalasan ratu pantai selatan...  "
      ]
     },
     "execution_count": 101,
     "metadata": {},
     "output_type": "execute_result"
    }
   ],
   "source": [
    "recommender = RecommendationSystem(movies, ratings,vectorizer, tfidf)\n",
    "recommender.search_movies('Terminator')"
   ]
  },
  {
   "cell_type": "code",
   "execution_count": 102,
   "metadata": {},
   "outputs": [
    {
     "data": {
      "application/vnd.microsoft.datawrangler.viewer.v0+json": {
       "columns": [
        {
         "name": "index",
         "rawType": "int64",
         "type": "integer"
        },
        {
         "name": "score",
         "rawType": "float64",
         "type": "float"
        },
        {
         "name": "title",
         "rawType": "object",
         "type": "string"
        },
        {
         "name": "genres",
         "rawType": "object",
         "type": "string"
        }
       ],
       "conversionMethod": "pd.DataFrame",
       "ref": "9bf7e4c1-ff35-45a7-b4cb-cce322b97d81",
       "rows": [
        [
         "1207",
         "12.516821819369591",
         "Terminator, The (1984)",
         "Action|Sci-Fi|Thriller"
        ],
        [
         "2893",
         "7.188752540281961",
         "RoboCop (1987)",
         "Action|Crime|Drama|Sci-Fi|Thriller"
        ],
        [
         "3429",
         "7.152469611068338",
         "Predator (1987)",
         "Action|Sci-Fi|Thriller"
        ],
        [
         "2824",
         "6.675848335072781",
         "Total Recall (1990)",
         "Action|Adventure|Sci-Fi|Thriller"
        ],
        [
         "1242",
         "6.285653695599529",
         "Highlander (1986)",
         "Action|Adventure|Fantasy"
        ],
        [
         "1911",
         "5.709371002249108",
         "Lethal Weapon (1987)",
         "Action|Comedy|Crime|Drama"
        ],
        [
         "2438",
         "5.310804950950557",
         "Planet of the Apes (1968)",
         "Action|Drama|Sci-Fi"
        ],
        [
         "1170",
         "5.27103054397845",
         "Aliens (1986)",
         "Action|Adventure|Horror|Sci-Fi"
        ],
        [
         "1338",
         "5.218940985306394",
         "Star Trek II: The Wrath of Khan (1982)",
         "Action|Adventure|Sci-Fi|Thriller"
        ],
        [
         "2197",
         "5.154179061039384",
         "Thing, The (1982)",
         "Action|Horror|Sci-Fi|Thriller"
        ]
       ],
       "shape": {
        "columns": 3,
        "rows": 10
       }
      },
      "text/html": [
       "<div>\n",
       "<style scoped>\n",
       "    .dataframe tbody tr th:only-of-type {\n",
       "        vertical-align: middle;\n",
       "    }\n",
       "\n",
       "    .dataframe tbody tr th {\n",
       "        vertical-align: top;\n",
       "    }\n",
       "\n",
       "    .dataframe thead th {\n",
       "        text-align: right;\n",
       "    }\n",
       "</style>\n",
       "<table border=\"1\" class=\"dataframe\">\n",
       "  <thead>\n",
       "    <tr style=\"text-align: right;\">\n",
       "      <th></th>\n",
       "      <th>score</th>\n",
       "      <th>title</th>\n",
       "      <th>genres</th>\n",
       "    </tr>\n",
       "  </thead>\n",
       "  <tbody>\n",
       "    <tr>\n",
       "      <th>1207</th>\n",
       "      <td>12.516822</td>\n",
       "      <td>Terminator, The (1984)</td>\n",
       "      <td>Action|Sci-Fi|Thriller</td>\n",
       "    </tr>\n",
       "    <tr>\n",
       "      <th>2893</th>\n",
       "      <td>7.188753</td>\n",
       "      <td>RoboCop (1987)</td>\n",
       "      <td>Action|Crime|Drama|Sci-Fi|Thriller</td>\n",
       "    </tr>\n",
       "    <tr>\n",
       "      <th>3429</th>\n",
       "      <td>7.152470</td>\n",
       "      <td>Predator (1987)</td>\n",
       "      <td>Action|Sci-Fi|Thriller</td>\n",
       "    </tr>\n",
       "    <tr>\n",
       "      <th>2824</th>\n",
       "      <td>6.675848</td>\n",
       "      <td>Total Recall (1990)</td>\n",
       "      <td>Action|Adventure|Sci-Fi|Thriller</td>\n",
       "    </tr>\n",
       "    <tr>\n",
       "      <th>1242</th>\n",
       "      <td>6.285654</td>\n",
       "      <td>Highlander (1986)</td>\n",
       "      <td>Action|Adventure|Fantasy</td>\n",
       "    </tr>\n",
       "    <tr>\n",
       "      <th>1911</th>\n",
       "      <td>5.709371</td>\n",
       "      <td>Lethal Weapon (1987)</td>\n",
       "      <td>Action|Comedy|Crime|Drama</td>\n",
       "    </tr>\n",
       "    <tr>\n",
       "      <th>2438</th>\n",
       "      <td>5.310805</td>\n",
       "      <td>Planet of the Apes (1968)</td>\n",
       "      <td>Action|Drama|Sci-Fi</td>\n",
       "    </tr>\n",
       "    <tr>\n",
       "      <th>1170</th>\n",
       "      <td>5.271031</td>\n",
       "      <td>Aliens (1986)</td>\n",
       "      <td>Action|Adventure|Horror|Sci-Fi</td>\n",
       "    </tr>\n",
       "    <tr>\n",
       "      <th>1338</th>\n",
       "      <td>5.218941</td>\n",
       "      <td>Star Trek II: The Wrath of Khan (1982)</td>\n",
       "      <td>Action|Adventure|Sci-Fi|Thriller</td>\n",
       "    </tr>\n",
       "    <tr>\n",
       "      <th>2197</th>\n",
       "      <td>5.154179</td>\n",
       "      <td>Thing, The (1982)</td>\n",
       "      <td>Action|Horror|Sci-Fi|Thriller</td>\n",
       "    </tr>\n",
       "  </tbody>\n",
       "</table>\n",
       "</div>"
      ],
      "text/plain": [
       "          score                                   title  \\\n",
       "1207  12.516822                  Terminator, The (1984)   \n",
       "2893   7.188753                          RoboCop (1987)   \n",
       "3429   7.152470                         Predator (1987)   \n",
       "2824   6.675848                     Total Recall (1990)   \n",
       "1242   6.285654                       Highlander (1986)   \n",
       "1911   5.709371                    Lethal Weapon (1987)   \n",
       "2438   5.310805               Planet of the Apes (1968)   \n",
       "1170   5.271031                           Aliens (1986)   \n",
       "1338   5.218941  Star Trek II: The Wrath of Khan (1982)   \n",
       "2197   5.154179                       Thing, The (1982)   \n",
       "\n",
       "                                  genres  \n",
       "1207              Action|Sci-Fi|Thriller  \n",
       "2893  Action|Crime|Drama|Sci-Fi|Thriller  \n",
       "3429              Action|Sci-Fi|Thriller  \n",
       "2824    Action|Adventure|Sci-Fi|Thriller  \n",
       "1242            Action|Adventure|Fantasy  \n",
       "1911           Action|Comedy|Crime|Drama  \n",
       "2438                 Action|Drama|Sci-Fi  \n",
       "1170      Action|Adventure|Horror|Sci-Fi  \n",
       "1338    Action|Adventure|Sci-Fi|Thriller  \n",
       "2197       Action|Horror|Sci-Fi|Thriller  "
      ]
     },
     "execution_count": 102,
     "metadata": {},
     "output_type": "execute_result"
    }
   ],
   "source": [
    "recommender.find_similar_movies(1240)"
   ]
  },
  {
   "cell_type": "code",
   "execution_count": 106,
   "metadata": {},
   "outputs": [],
   "source": [
    "import pickle\n",
    "\n",
    "with open(\"recommender.pkl\", \"wb\") as f:\n",
    "    pickle.dump(recommender, f)"
   ]
  },
  {
   "cell_type": "code",
   "execution_count": 107,
   "metadata": {},
   "outputs": [],
   "source": [
    "with open(\"recommender.pkl\", 'rb') as f:\n",
    "    pickle_recommender = pickle.load(f)"
   ]
  },
  {
   "cell_type": "code",
   "execution_count": 108,
   "metadata": {},
   "outputs": [
    {
     "data": {
      "application/vnd.microsoft.datawrangler.viewer.v0+json": {
       "columns": [
        {
         "name": "index",
         "rawType": "int64",
         "type": "integer"
        },
        {
         "name": "movieId",
         "rawType": "int64",
         "type": "integer"
        },
        {
         "name": "title",
         "rawType": "object",
         "type": "string"
        },
        {
         "name": "genres",
         "rawType": "object",
         "type": "string"
        },
        {
         "name": "cleaned_title",
         "rawType": "object",
         "type": "string"
        }
       ],
       "conversionMethod": "pd.DataFrame",
       "ref": "20ce1cdf-dbd2-4052-81c4-7d86fbbf7c2e",
       "rows": [
        [
         "1207",
         "1240",
         "Terminator, The (1984)",
         "Action|Sci-Fi|Thriller",
         "Terminator The 1984"
        ],
        [
         "13334",
         "68791",
         "Terminator Salvation (2009)",
         "Action|Adventure|Sci-Fi|Thriller",
         "Terminator Salvation 2009"
        ],
        [
         "31990",
         "139909",
         "Russian Terminator (1989)",
         "Action",
         "Russian Terminator 1989"
        ],
        [
         "24155",
         "120799",
         "Terminator Genisys (2015)",
         "Action|Adventure|Sci-Fi|Thriller",
         "Terminator Genisys 2015"
        ],
        [
         "581",
         "589",
         "Terminator 2: Judgment Day (1991)",
         "Action|Sci-Fi",
         "Terminator 2 Judgment Day 1991"
        ],
        [
         "62088",
         "207830",
         "Terminator: Dark Fate (2019)",
         "Action|Sci-Fi",
         "Terminator Dark Fate 2019"
        ],
        [
         "6414",
         "6537",
         "Terminator 3: Rise of the Machines (2003)",
         "Action|Adventure|Sci-Fi",
         "Terminator 3 Rise of the Machines 2003"
        ],
        [
         "47702",
         "175137",
         "The Making of 'The Terminator': A Retrospective (1992)",
         "Documentary",
         "The Making of The Terminator A Retrospective 1992"
        ],
        [
         "48792",
         "177415",
         "The Making of 'Terminator 2: Judgment Day' (1991)",
         "Documentary",
         "The Making of Terminator 2 Judgment Day 1991"
        ],
        [
         "19729",
         "102425",
         "Lady Terminator (Pembalasan ratu pantai selatan) (1989)",
         "Action|Adventure|Horror|Sci-Fi|Thriller",
         "Lady Terminator Pembalasan ratu pantai selatan 1989"
        ]
       ],
       "shape": {
        "columns": 4,
        "rows": 10
       }
      },
      "text/html": [
       "<div>\n",
       "<style scoped>\n",
       "    .dataframe tbody tr th:only-of-type {\n",
       "        vertical-align: middle;\n",
       "    }\n",
       "\n",
       "    .dataframe tbody tr th {\n",
       "        vertical-align: top;\n",
       "    }\n",
       "\n",
       "    .dataframe thead th {\n",
       "        text-align: right;\n",
       "    }\n",
       "</style>\n",
       "<table border=\"1\" class=\"dataframe\">\n",
       "  <thead>\n",
       "    <tr style=\"text-align: right;\">\n",
       "      <th></th>\n",
       "      <th>movieId</th>\n",
       "      <th>title</th>\n",
       "      <th>genres</th>\n",
       "      <th>cleaned_title</th>\n",
       "    </tr>\n",
       "  </thead>\n",
       "  <tbody>\n",
       "    <tr>\n",
       "      <th>1207</th>\n",
       "      <td>1240</td>\n",
       "      <td>Terminator, The (1984)</td>\n",
       "      <td>Action|Sci-Fi|Thriller</td>\n",
       "      <td>Terminator The 1984</td>\n",
       "    </tr>\n",
       "    <tr>\n",
       "      <th>13334</th>\n",
       "      <td>68791</td>\n",
       "      <td>Terminator Salvation (2009)</td>\n",
       "      <td>Action|Adventure|Sci-Fi|Thriller</td>\n",
       "      <td>Terminator Salvation 2009</td>\n",
       "    </tr>\n",
       "    <tr>\n",
       "      <th>31990</th>\n",
       "      <td>139909</td>\n",
       "      <td>Russian Terminator (1989)</td>\n",
       "      <td>Action</td>\n",
       "      <td>Russian Terminator 1989</td>\n",
       "    </tr>\n",
       "    <tr>\n",
       "      <th>24155</th>\n",
       "      <td>120799</td>\n",
       "      <td>Terminator Genisys (2015)</td>\n",
       "      <td>Action|Adventure|Sci-Fi|Thriller</td>\n",
       "      <td>Terminator Genisys 2015</td>\n",
       "    </tr>\n",
       "    <tr>\n",
       "      <th>581</th>\n",
       "      <td>589</td>\n",
       "      <td>Terminator 2: Judgment Day (1991)</td>\n",
       "      <td>Action|Sci-Fi</td>\n",
       "      <td>Terminator 2 Judgment Day 1991</td>\n",
       "    </tr>\n",
       "    <tr>\n",
       "      <th>62088</th>\n",
       "      <td>207830</td>\n",
       "      <td>Terminator: Dark Fate (2019)</td>\n",
       "      <td>Action|Sci-Fi</td>\n",
       "      <td>Terminator Dark Fate 2019</td>\n",
       "    </tr>\n",
       "    <tr>\n",
       "      <th>6414</th>\n",
       "      <td>6537</td>\n",
       "      <td>Terminator 3: Rise of the Machines (2003)</td>\n",
       "      <td>Action|Adventure|Sci-Fi</td>\n",
       "      <td>Terminator 3 Rise of the Machines 2003</td>\n",
       "    </tr>\n",
       "    <tr>\n",
       "      <th>47702</th>\n",
       "      <td>175137</td>\n",
       "      <td>The Making of 'The Terminator': A Retrospectiv...</td>\n",
       "      <td>Documentary</td>\n",
       "      <td>The Making of The Terminator A Retrospective 1992</td>\n",
       "    </tr>\n",
       "    <tr>\n",
       "      <th>48792</th>\n",
       "      <td>177415</td>\n",
       "      <td>The Making of 'Terminator 2: Judgment Day' (1991)</td>\n",
       "      <td>Documentary</td>\n",
       "      <td>The Making of Terminator 2 Judgment Day 1991</td>\n",
       "    </tr>\n",
       "    <tr>\n",
       "      <th>19729</th>\n",
       "      <td>102425</td>\n",
       "      <td>Lady Terminator (Pembalasan ratu pantai selata...</td>\n",
       "      <td>Action|Adventure|Horror|Sci-Fi|Thriller</td>\n",
       "      <td>Lady Terminator Pembalasan ratu pantai selatan...</td>\n",
       "    </tr>\n",
       "  </tbody>\n",
       "</table>\n",
       "</div>"
      ],
      "text/plain": [
       "       movieId                                              title  \\\n",
       "1207      1240                             Terminator, The (1984)   \n",
       "13334    68791                        Terminator Salvation (2009)   \n",
       "31990   139909                          Russian Terminator (1989)   \n",
       "24155   120799                          Terminator Genisys (2015)   \n",
       "581        589                  Terminator 2: Judgment Day (1991)   \n",
       "62088   207830                       Terminator: Dark Fate (2019)   \n",
       "6414      6537          Terminator 3: Rise of the Machines (2003)   \n",
       "47702   175137  The Making of 'The Terminator': A Retrospectiv...   \n",
       "48792   177415  The Making of 'Terminator 2: Judgment Day' (1991)   \n",
       "19729   102425  Lady Terminator (Pembalasan ratu pantai selata...   \n",
       "\n",
       "                                        genres  \\\n",
       "1207                    Action|Sci-Fi|Thriller   \n",
       "13334         Action|Adventure|Sci-Fi|Thriller   \n",
       "31990                                   Action   \n",
       "24155         Action|Adventure|Sci-Fi|Thriller   \n",
       "581                              Action|Sci-Fi   \n",
       "62088                            Action|Sci-Fi   \n",
       "6414                   Action|Adventure|Sci-Fi   \n",
       "47702                              Documentary   \n",
       "48792                              Documentary   \n",
       "19729  Action|Adventure|Horror|Sci-Fi|Thriller   \n",
       "\n",
       "                                           cleaned_title  \n",
       "1207                                 Terminator The 1984  \n",
       "13334                          Terminator Salvation 2009  \n",
       "31990                            Russian Terminator 1989  \n",
       "24155                            Terminator Genisys 2015  \n",
       "581                       Terminator 2 Judgment Day 1991  \n",
       "62088                          Terminator Dark Fate 2019  \n",
       "6414              Terminator 3 Rise of the Machines 2003  \n",
       "47702  The Making of The Terminator A Retrospective 1992  \n",
       "48792       The Making of Terminator 2 Judgment Day 1991  \n",
       "19729  Lady Terminator Pembalasan ratu pantai selatan...  "
      ]
     },
     "execution_count": 108,
     "metadata": {},
     "output_type": "execute_result"
    }
   ],
   "source": [
    "pickle_recommender.search_movies('Terminator')"
   ]
  },
  {
   "cell_type": "code",
   "execution_count": 109,
   "metadata": {},
   "outputs": [
    {
     "data": {
      "application/vnd.microsoft.datawrangler.viewer.v0+json": {
       "columns": [
        {
         "name": "index",
         "rawType": "int64",
         "type": "integer"
        },
        {
         "name": "score",
         "rawType": "float64",
         "type": "float"
        },
        {
         "name": "title",
         "rawType": "object",
         "type": "string"
        },
        {
         "name": "genres",
         "rawType": "object",
         "type": "string"
        }
       ],
       "conversionMethod": "pd.DataFrame",
       "ref": "fa8961db-542c-4296-a1b4-76b183ef96c8",
       "rows": [
        [
         "1207",
         "12.516821819369591",
         "Terminator, The (1984)",
         "Action|Sci-Fi|Thriller"
        ],
        [
         "2893",
         "7.188752540281961",
         "RoboCop (1987)",
         "Action|Crime|Drama|Sci-Fi|Thriller"
        ],
        [
         "3429",
         "7.152469611068338",
         "Predator (1987)",
         "Action|Sci-Fi|Thriller"
        ],
        [
         "2824",
         "6.675848335072781",
         "Total Recall (1990)",
         "Action|Adventure|Sci-Fi|Thriller"
        ],
        [
         "1242",
         "6.285653695599529",
         "Highlander (1986)",
         "Action|Adventure|Fantasy"
        ],
        [
         "1911",
         "5.709371002249108",
         "Lethal Weapon (1987)",
         "Action|Comedy|Crime|Drama"
        ],
        [
         "2438",
         "5.310804950950557",
         "Planet of the Apes (1968)",
         "Action|Drama|Sci-Fi"
        ],
        [
         "1170",
         "5.27103054397845",
         "Aliens (1986)",
         "Action|Adventure|Horror|Sci-Fi"
        ],
        [
         "1338",
         "5.218940985306394",
         "Star Trek II: The Wrath of Khan (1982)",
         "Action|Adventure|Sci-Fi|Thriller"
        ],
        [
         "2197",
         "5.154179061039384",
         "Thing, The (1982)",
         "Action|Horror|Sci-Fi|Thriller"
        ]
       ],
       "shape": {
        "columns": 3,
        "rows": 10
       }
      },
      "text/html": [
       "<div>\n",
       "<style scoped>\n",
       "    .dataframe tbody tr th:only-of-type {\n",
       "        vertical-align: middle;\n",
       "    }\n",
       "\n",
       "    .dataframe tbody tr th {\n",
       "        vertical-align: top;\n",
       "    }\n",
       "\n",
       "    .dataframe thead th {\n",
       "        text-align: right;\n",
       "    }\n",
       "</style>\n",
       "<table border=\"1\" class=\"dataframe\">\n",
       "  <thead>\n",
       "    <tr style=\"text-align: right;\">\n",
       "      <th></th>\n",
       "      <th>score</th>\n",
       "      <th>title</th>\n",
       "      <th>genres</th>\n",
       "    </tr>\n",
       "  </thead>\n",
       "  <tbody>\n",
       "    <tr>\n",
       "      <th>1207</th>\n",
       "      <td>12.516822</td>\n",
       "      <td>Terminator, The (1984)</td>\n",
       "      <td>Action|Sci-Fi|Thriller</td>\n",
       "    </tr>\n",
       "    <tr>\n",
       "      <th>2893</th>\n",
       "      <td>7.188753</td>\n",
       "      <td>RoboCop (1987)</td>\n",
       "      <td>Action|Crime|Drama|Sci-Fi|Thriller</td>\n",
       "    </tr>\n",
       "    <tr>\n",
       "      <th>3429</th>\n",
       "      <td>7.152470</td>\n",
       "      <td>Predator (1987)</td>\n",
       "      <td>Action|Sci-Fi|Thriller</td>\n",
       "    </tr>\n",
       "    <tr>\n",
       "      <th>2824</th>\n",
       "      <td>6.675848</td>\n",
       "      <td>Total Recall (1990)</td>\n",
       "      <td>Action|Adventure|Sci-Fi|Thriller</td>\n",
       "    </tr>\n",
       "    <tr>\n",
       "      <th>1242</th>\n",
       "      <td>6.285654</td>\n",
       "      <td>Highlander (1986)</td>\n",
       "      <td>Action|Adventure|Fantasy</td>\n",
       "    </tr>\n",
       "    <tr>\n",
       "      <th>1911</th>\n",
       "      <td>5.709371</td>\n",
       "      <td>Lethal Weapon (1987)</td>\n",
       "      <td>Action|Comedy|Crime|Drama</td>\n",
       "    </tr>\n",
       "    <tr>\n",
       "      <th>2438</th>\n",
       "      <td>5.310805</td>\n",
       "      <td>Planet of the Apes (1968)</td>\n",
       "      <td>Action|Drama|Sci-Fi</td>\n",
       "    </tr>\n",
       "    <tr>\n",
       "      <th>1170</th>\n",
       "      <td>5.271031</td>\n",
       "      <td>Aliens (1986)</td>\n",
       "      <td>Action|Adventure|Horror|Sci-Fi</td>\n",
       "    </tr>\n",
       "    <tr>\n",
       "      <th>1338</th>\n",
       "      <td>5.218941</td>\n",
       "      <td>Star Trek II: The Wrath of Khan (1982)</td>\n",
       "      <td>Action|Adventure|Sci-Fi|Thriller</td>\n",
       "    </tr>\n",
       "    <tr>\n",
       "      <th>2197</th>\n",
       "      <td>5.154179</td>\n",
       "      <td>Thing, The (1982)</td>\n",
       "      <td>Action|Horror|Sci-Fi|Thriller</td>\n",
       "    </tr>\n",
       "  </tbody>\n",
       "</table>\n",
       "</div>"
      ],
      "text/plain": [
       "          score                                   title  \\\n",
       "1207  12.516822                  Terminator, The (1984)   \n",
       "2893   7.188753                          RoboCop (1987)   \n",
       "3429   7.152470                         Predator (1987)   \n",
       "2824   6.675848                     Total Recall (1990)   \n",
       "1242   6.285654                       Highlander (1986)   \n",
       "1911   5.709371                    Lethal Weapon (1987)   \n",
       "2438   5.310805               Planet of the Apes (1968)   \n",
       "1170   5.271031                           Aliens (1986)   \n",
       "1338   5.218941  Star Trek II: The Wrath of Khan (1982)   \n",
       "2197   5.154179                       Thing, The (1982)   \n",
       "\n",
       "                                  genres  \n",
       "1207              Action|Sci-Fi|Thriller  \n",
       "2893  Action|Crime|Drama|Sci-Fi|Thriller  \n",
       "3429              Action|Sci-Fi|Thriller  \n",
       "2824    Action|Adventure|Sci-Fi|Thriller  \n",
       "1242            Action|Adventure|Fantasy  \n",
       "1911           Action|Comedy|Crime|Drama  \n",
       "2438                 Action|Drama|Sci-Fi  \n",
       "1170      Action|Adventure|Horror|Sci-Fi  \n",
       "1338    Action|Adventure|Sci-Fi|Thriller  \n",
       "2197       Action|Horror|Sci-Fi|Thriller  "
      ]
     },
     "execution_count": 109,
     "metadata": {},
     "output_type": "execute_result"
    }
   ],
   "source": [
    "pickle_recommender.find_similar_movies(1240)"
   ]
  }
 ],
 "metadata": {
  "kernelspec": {
   "display_name": "AI",
   "language": "python",
   "name": "python3"
  },
  "language_info": {
   "codemirror_mode": {
    "name": "ipython",
    "version": 3
   },
   "file_extension": ".py",
   "mimetype": "text/x-python",
   "name": "python",
   "nbconvert_exporter": "python",
   "pygments_lexer": "ipython3",
   "version": "3.10.0"
  }
 },
 "nbformat": 4,
 "nbformat_minor": 2
}
